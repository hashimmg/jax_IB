{
 "cells": [
  {
   "cell_type": "markdown",
   "id": "68df0921",
   "metadata": {
    "colab_type": "text",
    "id": "view-in-github"
   },
   "source": [
    "<a href=\"https://colab.research.google.com/github/hashimmg/jax_ib/blob/main/Copy_of_journal_bearing_demo.ipynb\" target=\"_parent\"><img src=\"https://colab.research.google.com/assets/colab-badge.svg\" alt=\"Open In Colab\"/></a>"
   ]
  },
  {
   "cell_type": "code",
   "execution_count": 1,
   "id": "5122f748-15e3-4f47-8444-a930a9678c29",
   "metadata": {
    "tags": []
   },
   "outputs": [],
   "source": [
    "%load_ext autoreload\n",
    "%autoreload 2"
   ]
  },
  {
   "cell_type": "code",
   "execution_count": 2,
   "id": "48f8bb7c-e30c-4cd0-855b-1dabd408a7b8",
   "metadata": {
    "id": "48f8bb7c-e30c-4cd0-855b-1dabd408a7b8",
    "tags": []
   },
   "outputs": [],
   "source": [
    "import jax\n",
    "import jax.numpy as jnp\n",
    "from jax_ib.base import particle_class as pc\n",
    "import jax_ib.base as ib\n",
    "import jax_cfd.base as cfd\n",
    "import jax_ib.MD as MD\n",
    "from jax_ib.base import boundaries\n",
    "from jax import random\n",
    "from jax_md import space, quantity\n",
    "from jax_ib.base import kinematics as ks\n",
    "from jax.random import uniform as random_uniform\n",
    "import jax_ib"
   ]
  },
  {
   "cell_type": "markdown",
   "id": "8e4da674",
   "metadata": {
    "id": "8e4da674"
   },
   "source": [
    "<font size=\"4\">Simulation setup steps <font size=\"4\">:\n",
    " 1. Setup the Flow problem\n",
    " 2. Setup the Immersed object kinematics\n",
    " 3. Setup the Brownian dynamics"
   ]
  },
  {
   "cell_type": "markdown",
   "id": "2910e95f",
   "metadata": {
    "id": "2910e95f"
   },
   "source": [
    "<font size=\"5\"> Flow Problem Setup <font size=\"5\">"
   ]
  },
  {
   "cell_type": "code",
   "execution_count": 21,
   "id": "7c68ddda",
   "metadata": {
    "id": "7c68ddda",
    "tags": []
   },
   "outputs": [],
   "source": [
    "#-- Flow conditions\n",
    "density = 1.0\n",
    "viscosity = 0.05\n",
    "dt=8e-5\n",
    "inner_steps = 10#1800#20#450#1500#1300\n",
    "outer_steps = 100#6000#12000#3000#2000#4500#4500#1800#10#900#20 (18000 works well to reach steady state)\n",
    "\n",
    "\n",
    "#-- CFD Boundary condition parameters\n",
    "freq=[0.]*4\n",
    "A=[0.]*4\n",
    "B=[0.]*4\n",
    "C=[0.]*4\n",
    "D=[0.]*4\n",
    "\n",
    "domain = ((0,5.),(0,5.0))\n",
    "size=(300,300)\n",
    "grid = ib.grids.Grid(size, domain=domain)\n",
    "\n",
    "def Boundary_fn(t):\n",
    "    return 0.0\n",
    "\n",
    "bc_fns = [Boundary_fn for a,b,c,d,f in zip(A,B,C,D,freq)]\n",
    "vx_bc=((bc_fns[0](0.0), bc_fns[1](0.0)), (bc_fns[2](0.0),bc_fns[3](0.0)))\n",
    "vy_bc=((0.0, 0.0), (0, 0.0))\n",
    "\n",
    "velocity_bc = (\n",
    "    boundaries.new_periodic_boundary_conditions(ndim=2,bc_vals=vx_bc,bc_fn=bc_fns,time_stamp=0.0),\n",
    "    boundaries.new_periodic_boundary_conditions(ndim=2,bc_vals=vy_bc,bc_fn=bc_fns,time_stamp=0.0))\n",
    "\n",
    "\n",
    "def convect(v):\n",
    "    return tuple(ib.advection.advect_upwind(u, v, dt) for u in v)\n",
    "\n",
    "\n",
    "#-- Initial velocity profile\n",
    "vx_fn = lambda x, y: jnp.zeros_like(x)\n",
    "vy_fn = lambda x, y: jnp.zeros_like(x)\n",
    "\n",
    "\n",
    "\n",
    "velocity_fns = (vx_fn, vy_fn)\n",
    "v0 = tuple(grid.eval_on_mesh(v_fn, offset) for v_fn, offset in zip(velocity_fns, grid.cell_faces))\n",
    "\n",
    "v0 = tuple(\n",
    "      ib.grids.GridVariable(u, bc) for u, offset,\n",
    "      bc in zip(v0, grid.cell_faces, velocity_bc))\n",
    "\n",
    "#-- Initial Pressure Profile\n",
    "\n",
    "pressure0 = ib.grids.GridVariable(ib.grids.GridArray(jnp.zeros_like(v0[0].data), grid.cell_center, grid), ib.boundaries.get_pressure_bc_from_velocity(v0))\n",
    "\n"
   ]
  },
  {
   "cell_type": "markdown",
   "id": "75e43cbe",
   "metadata": {
    "id": "75e43cbe"
   },
   "source": [
    "<font size=\"5\"> Immersed Boudary Kinematics <font size=\"5\">"
   ]
  },
  {
   "cell_type": "code",
   "execution_count": 22,
   "id": "39f81a6d",
   "metadata": {
    "id": "39f81a6d",
    "tags": []
   },
   "outputs": [],
   "source": [
    "#-- Immersed objects\n",
    "rad_ratio = 0.5\n",
    "alpha0 = [jnp.pi/2]*2\n",
    "n_terms = 1\n",
    "alpha_1 = [0.0]*n_terms\n",
    "beta_1 = [0.0]*n_terms\n",
    "alpha_2 = [0.0]*n_terms\n",
    "beta_2 = [0.0]*n_terms\n",
    "frequency = 1.0\n",
    "theta_out = jnp.pi/2*1.9#\n",
    "omega = 3.0\n",
    "p_H = 1.\n",
    "p_P = 1.\n",
    "\n",
    "# Specify Immersed Objects Geometery and Initial locations\n",
    "\n",
    "def foil_XY_circle(geometry_param,theta):\n",
    "    A = geometry_param[0]\n",
    "    ntheta = 80#150 (150 worked well)\n",
    "    #xt = jnp.array(theta[:len(theta)//2]/(jnp.pi))\n",
    "    theta = jnp.linspace(0,1.98*jnp.pi,ntheta)\n",
    "    xt = A*jnp.cos(theta)\n",
    "    yt = A*jnp.sin(theta)\n",
    "    return xt,yt\n",
    "\n",
    "particle_geometry_param = [[1.*rad_ratio,1.*rad_ratio],[1.0,1.0]]\n",
    "particle_center_position=[[2.5,2.5],[2.5,2.5]]\n",
    "\n",
    "\n",
    "# Specify Immersed Objects kinematics\n",
    "\n",
    "displacement_param=[[0.,0.,0.,jnp.array([1.]),jnp.array([1.]),0.],\n",
    "            [0.,0.,0.,jnp.array([1.]),jnp.array([1.]),0]]#,[jnp.array([1,2,5]),3]]\n",
    "\n",
    "rotation_param=[[alpha0[0],frequency,0.,jnp.array(alpha_1),jnp.array(beta_1),theta_out*omega,p_H],\n",
    "            [alpha0[1],frequency,0.,-jnp.array(alpha_2),jnp.array(beta_2),theta_out,p_P]]\n",
    "\n",
    "Displacement_EQ = ks.Displacement_Foil_Fourier_Dotted_Mutliple\n",
    "Rotation_EQ = ks.rotation_Foil_Fourier_Dotted_Mutliple_NORMALIZED\n",
    "\n",
    "\n",
    "Shape_fn = foil_XY_circle\n",
    "mygrids= pc.Grid1d(2, domain= (0, 2*jnp.pi)) # Only needed when using Penalty method simulation setup\n",
    "\n",
    "particles =  pc.Particle(jnp.array(particle_center_position),jnp.array(particle_geometry_param),displacement_param,rotation_param,mygrids,Shape_fn,Displacement_EQ,Rotation_EQ)"
   ]
  },
  {
   "cell_type": "markdown",
   "id": "2ac96a4f",
   "metadata": {
    "id": "2ac96a4f"
   },
   "source": [
    "<font size=\"5\"> Brownian Dynamics <font size=\"5\">"
   ]
  },
  {
   "cell_type": "code",
   "execution_count": 23,
   "id": "29a9ce70",
   "metadata": {
    "id": "29a9ce70",
    "tags": []
   },
   "outputs": [],
   "source": [
    "#----- Setup Brownian Simulation----------#\n",
    "\n",
    "# Brownian Particles\n",
    "dt_MD = dt\n",
    "kT = 0.0\n",
    "num_distrib = 600\n",
    "num_outer_bc = 200\n",
    "key = random.PRNGKey(0)\n",
    "key1 = random.PRNGKey(1)\n",
    "key2 = random.PRNGKey(2)\n",
    "gamma_val = 1.0\n",
    "\n",
    "\n",
    "import jax.numpy as jnp\n",
    "from jax.random import uniform as random_uniform\n",
    "\n",
    "\n",
    "# Setup different types of particles including force points for the immersed objects\n",
    "\n",
    "# Immersed Object point forces to setup repulsive hard wall boundaries\n",
    "Outer_Rad, Inner_Rad = particle_geometry_param[1][0], particle_geometry_param[0][0]\n",
    "Inner_particle_center, Outer_particle_center = particle_center_position[0], particle_center_position[1]\n",
    "\n",
    "    # Inner cylinder point\n",
    "pos_fixed_inner = jnp.array([Inner_particle_center])\n",
    "\n",
    "    # Outer boundary particle\n",
    "theta = jnp.linspace(0, 2 * jnp.pi, num_outer_bc)\n",
    "x_outer = Outer_Rad * jnp.cos(theta) + Outer_particle_center[0]\n",
    "y_outer = Outer_Rad * jnp.sin(theta) + Outer_particle_center[1]\n",
    "pos_fixed_outer = jnp.moveaxis(jnp.array([x_outer, y_outer]), 0, -1)\n",
    "\n",
    "\n",
    "# Interior passive particles\n",
    "\n",
    "    # Upper Half of the domain\n",
    "eps_val = 1e-2\n",
    "theta_p_upper = random_uniform(key, shape=(num_distrib,), minval=0., maxval=jnp.pi)\n",
    "distance = Outer_particle_center[0] - Inner_particle_center[0]\n",
    "p1, p2 = Inner_Rad, jnp.sqrt(Outer_Rad**2 + distance**2 - 2*Outer_Rad*distance*jnp.cos(jnp.pi-theta_p_upper))\n",
    "R_p_upper = p1 + random_uniform(key1, shape=(num_distrib,), minval=0. + eps_val, maxval=1. - eps_val) * (p2 - p1)\n",
    "\n",
    "updated_angle = jnp.arctan2(Outer_Rad * jnp.sin(theta_p_upper), distance + Outer_Rad * jnp.cos(theta_p_upper))\n",
    "x_upper, y_upper = R_p_upper * jnp.cos(updated_angle) + Inner_particle_center[0], R_p_upper * jnp.sin(updated_angle) + Inner_particle_center[1]\n",
    "\n",
    "\n",
    "    # Lower Half of the domain\n",
    "x_lower, y_lower = x_upper, -y_upper + 2*Inner_particle_center[1]\n",
    "\n",
    "# BrownianState Variables\n",
    "\n",
    "    # Particles initial position\n",
    "Pos_all = jnp.concatenate([jnp.moveaxis(jnp.array([x_upper, y_upper]), 0, -1),\n",
    "                               jnp.moveaxis(jnp.array([x_lower, y_lower]), 0, -1),\n",
    "                               pos_fixed_outer,\n",
    "                               pos_fixed_inner])\n",
    "\n",
    "    # Particles repulsive radius\n",
    "Rad_outer_wall = Outer_Rad * 2 * jnp.pi / num_outer_bc\n",
    "r0_array = jnp.array([[0., Rad_outer_wall, Inner_Rad],\n",
    "                      [Rad_outer_wall, 0., 0.],\n",
    "                      [Inner_Rad, 0.0, 0.0]])\n",
    "\n",
    "    # Morse repulsion interaction matrix\n",
    "\n",
    "h_array = jnp.array([[0., 5.0, 5.0],\n",
    "                         [5.0, 0., 0.],\n",
    "                         [5.0, 0.0, 0.0]])\n",
    "\n",
    "    # Fixing immersed object piont forces\n",
    "\n",
    "is_mobile = jnp.concatenate([jnp.ones(2 * num_distrib), jnp.zeros([num_outer_bc + 1])])\n",
    "\n",
    "    # Define species type needed for interaction matrix\n",
    "\n",
    "species_moving=jnp.full(2*num_distrib, 0)\n",
    "species_wall = jnp.full(num_outer_bc,1)\n",
    "species_inner = jnp.array([2])\n",
    "species=jnp.concatenate([species_moving,species_wall,species_inner])\n",
    "\n",
    "\n",
    "#-- Brownian Dynamics Setup\n",
    "\n",
    "displacement, shift=space.periodic(domain[0][1], wrapped=False)\n",
    "\n",
    "fixed_harmonic = lambda displacement_or_metric, h,r0: MD.interaction_potential.harmonic_morse_pair(displacement_or_metric, species=species, h=h, D0=0.0, alpha=10.0, r0=r0, k=1.0)\n",
    "\n",
    "def masked_shift(R, dR, is_mobile=None):\n",
    "    if is_mobile is None:\n",
    "        return shift(R, dR)\n",
    "    return jnp.where(is_mobile[:, None], shift(R, dR), R)\n",
    "\n",
    "energy_fn = fixed_harmonic(displacement, h_array, r0_array)\n",
    "energy_fn=quantity.force(energy_fn)\n",
    "\n",
    "\n",
    "def new_energy_fn(R, **kwargs):\n",
    "    return energy_fn(R)\n",
    "\n",
    "init_fn, apply_fn = MD.simulate.brownian_cfd(new_energy_fn, masked_shift, dt_MD,kT,MD.CFD_MD_coupling.custom_force_fn_pbc, gamma=gamma_val)\n",
    "apply_fn = jax.jit(apply_fn)\n",
    "MD_state = init_fn(key2, Pos_all, mass=1.)\n",
    "def step_fn_MD(state):\n",
    "        return apply_fn(state, is_mobile=is_mobile)\n",
    "\n",
    "\n",
    "# Integrating Brownian Step during numerical integration of the Navier-Stokes equation\n",
    "\n",
    "Update_position = lambda v,dt:ib.particle_motion.Update_particle_position_Multiple_and_MD_Step(step_fn_MD,v,dt)\n",
    "\n"
   ]
  },
  {
   "cell_type": "markdown",
   "id": "23255110",
   "metadata": {
    "id": "23255110"
   },
   "source": [
    "<font size=\"5\"> Simulation Setup <font size=\"5\">"
   ]
  },
  {
   "cell_type": "code",
   "execution_count": 24,
   "id": "302c03c0-063f-4ade-bf35-12722c947db5",
   "metadata": {
    "colab": {
     "base_uri": "https://localhost:8080/"
    },
    "id": "302c03c0-063f-4ade-bf35-12722c947db5",
    "outputId": "0b6965da-9727-42d7-8bb7-85f8215ee759",
    "tags": []
   },
   "outputs": [],
   "source": [
    "\n",
    "#-- Setup Pytree Variable to be looped over during integration steps\n",
    "\n",
    "Intermediate_calcs = [0] ## If one is interested to perform post-calculation without the need to save large trajectories\n",
    "Step_counter = 0\n",
    "\n",
    "all_variables = pc.All_Variables(particles,v0,pressure0,Intermediate_calcs,Step_counter,MD_state)\n",
    "\n",
    "#-- IB force coupling functions\n",
    "def internal_post_processing(all_variables,dt):\n",
    "    return all_variables\n",
    "\n",
    "# Force convolution kernel\n",
    "discrete_delta = lambda x,x0,w1: ib.convolution_functions.gaussian(x,x0,w1)\n",
    "\n",
    "# Convultion Discretized Integral\n",
    "surf_fn =  lambda field,xp,yp:ib.convolution_functions.convolve(field,xp,yp,discrete_delta)\n",
    "\n",
    "# IB forcing function\n",
    "IBM_forcing = lambda variables,dt: ib.IBM_Force.immersed_boundary_force(variables.velocity,\n",
    "                                                                     variables.particles, \n",
    "                                                                     discrete_delta,\n",
    "                                                                     surf_fn,\n",
    "                                                                     dt)\n",
    "step_fn = cfd.funcutils.repeated(\n",
    "    ib.equations.semi_implicit_navier_stokes_timeBC(\n",
    "        density=density,\n",
    "        viscosity=viscosity,\n",
    "        dt=dt,\n",
    "        grid=grid,\n",
    "        convect=convect,\n",
    "        pressure_solve= ib.pressure.solve_fast_diag,\n",
    "        forcing=None, #pfo.arbitrary_obstacle(flow_cond.pressure_gradient,perm_f),\n",
    "        time_stepper= ib.time_stepping.forward_euler_updated,\n",
    "        IBM_forcing = IBM_forcing,\n",
    "        Updating_Position = Update_position,\n",
    "        Drag_fn = internal_post_processing, ### TO be removed from the example\n",
    "        ),\n",
    "    steps=inner_steps)\n",
    "\n",
    "\n",
    "#rollout_fn = jax.jit(cfd.funcutils.trajectory(\n",
    "#        step_fn, outer_steps, start_with_input=True))\n",
    "\n",
    "rollout_fn = cfd.funcutils.trajectory(\n",
    "        step_fn, outer_steps, start_with_input=True)\n",
    "final_result, trajectory = jax.device_get(rollout_fn(all_variables))"
   ]
  },
  {
   "cell_type": "code",
   "execution_count": 120,
   "id": "fef4d3ac-33ee-4278-b1e7-dc4fd3bcfb36",
   "metadata": {
    "colab": {
     "base_uri": "https://localhost:8080/",
     "height": 1000
    },
    "id": "fef4d3ac-33ee-4278-b1e7-dc4fd3bcfb36",
    "outputId": "e762d3de-8f5c-46db-d804-b16ea4c61a87",
    "tags": []
   },
   "outputs": [
    {
     "data": {
      "image/png": "[encoded data removed]",
      "text/plain": [
       "<Figure size 640x480 with 1 Axes>"
      ]
     },
     "metadata": {},
     "output_type": "display_data"
    }
   ],
   "source": [
    "import matplotlib.animation as animation\n",
    "import matplotlib.pyplot as plt\n",
    "from IPython import display\n",
    "from pathlib import Path\n",
    "from mpl_toolkits.axes_grid1 import make_axes_locatable\n",
    "fps=2\n",
    "plt.ion()\n",
    "#fig, ax = plt.subplots()\n",
    "#fig.canvas.draw(block=False)\n",
    "#fig10 = plt.figure(dpi=400,figsize=(8/2,8/2))\n",
    "rot = ks.rotation_Foil_Fourier_Dotted_Mutliple_NORMALIZED\n",
    "MD_trajectories = trajectory.MD_var.position\n",
    "loc = 0\n",
    "fig, ax = plt.subplots()\n",
    "l1,  = ax.plot(MD_trajectories[loc][-1,0]+rad_ratio*jnp.cos(jnp.linspace(0,2*jnp.pi,100)),MD_trajectories[loc][-1,1]+rad_ratio*jnp.sin(jnp.linspace(0,2*jnp.pi,100)),'-k')\n",
    "l2, = ax.plot(Inner_particle_center[0]+1.*jnp.cos(jnp.linspace(0,2*jnp.pi,100)),Inner_particle_center[0]+1.0*jnp.sin(jnp.linspace(0,2*jnp.pi,100)),'-k')\n",
    "#l3, = ax.plot(MD_trajectories[loc][:num_distrib,0],MD_trajectories[loc][:num_distrib,1],'o',color=colors[0],markersize=1)\n",
    "l4, =  ax.plot(MD_trajectories[loc][num_distrib:2*num_distrib,0],MD_trajectories[loc][num_distrib:2*num_distrib,1],'o',color=colors[1],markersize=1)\n",
    "\n",
    "for loc in range(0, 10, 100):\n",
    "    #l3.set_xdata(MD_trajectories[loc][:num_distrib,0])\n",
    "    #l3.set_ydata(MD_trajectories[loc][:num_distrib,1])\n",
    "    #l3.set_xdata(MD_trajectories[loc][:num_distrib,0],MD_trajectories[loc][:num_distrib,1],'o',color=colors[0],markersize=1)\n",
    "    #ax.plot(MD_trajectories[loc][num_distrib:2*num_distrib,0],MD_trajectories[loc][num_distrib:2*num_distrib,1],'o',color=colors[1],markersize=1)\n",
    "    l4.set_xdata(MD_trajectories[loc][num_distrib:2*num_distrib,0])\n",
    "    l4.set_ydata(MD_trajectories[loc][num_distrib:2*num_distrib,1])\n",
    "    #ax.draw()\n",
    "    fig.canvas.draw()\n",
    "    plt.pause(1)\n",
    "    #plt.clf()\n",
    "#line3.set_xdata(MD_trajectories[loc][:num_distrib,0])\n",
    "#line3.set_ydata(MD_trajectories[loc][:num_distrib,1])\n",
    "#line4.set_xdata(MD_trajectories[loc][num_distrib:2*num_distrib,0])\n",
    "#line4.set_ydata(MD_trajectories[loc][num_distrib:2*num_distrib,1])\n",
    "\n",
    "#plt.show()\n",
    "#loc = 10\n",
    "#ine4.set_xdata(MD_trajectories[loc][num_distrib:2*num_distrib,0])\n",
    "#ine4.set_ydata(MD_trajectories[loc][num_distrib:2*num_distrib,1])\n",
    "\n",
    "#plt.show()"
   ]
  },
  {
   "cell_type": "code",
   "execution_count": 78,
   "id": "c6f09a62-f0bf-4d7a-8fb5-01f15ae54bf7",
   "metadata": {
    "tags": []
   },
   "outputs": [
    {
     "data": {
      "text/plain": [
       "<matplotlib.lines.Line2D at 0x7fa5bd672f30>"
      ]
     },
     "execution_count": 78,
     "metadata": {},
     "output_type": "execute_result"
    }
   ],
   "source": []
  },
  {
   "cell_type": "code",
   "execution_count": null,
   "id": "ba2fa593-854c-40c9-9da9-cbdeeae11336",
   "metadata": {},
   "outputs": [],
   "source": [
    "line3."
   ]
  },
  {
   "cell_type": "code",
   "execution_count": 73,
   "id": "6ea4a2ef-65f1-4096-9e88-a60bd9bc0556",
   "metadata": {
    "tags": []
   },
   "outputs": [
    {
     "data": {
      "text/plain": [
       "<matplotlib.collections.PathCollection at 0x7fa5bd9a9be0>"
      ]
     },
     "execution_count": 73,
     "metadata": {},
     "output_type": "execute_result"
    }
   ],
   "source": [
    "ax.scatter(MD_trajectories[loc][-1,0]+rad_ratio*jnp.cos(myth[0]),MD_trajectories[loc][-1,1]+rad_ratio*jnp.sin(myth[0]),marker='<',color='m',s=10)\n",
    "ax.scatter(Inner_particle_center[0]+1.*jnp.cos(myth[1]),Inner_particle_center[0]+1.*jnp.sin(myth[1]),marker='>',color='c',s=10)"
   ]
  },
  {
   "cell_type": "code",
   "execution_count": 10,
   "id": "65b4d789-05ca-4813-8551-ecfeb9e6b542",
   "metadata": {
    "tags": []
   },
   "outputs": [],
   "source": [
    "metadata = dict(title='Wav Spectrogram', artist='Matplotlib', comment='')\n",
    "writer = animation.FFMpegWriter(fps=fps, metadata=metadata, bitrate=3500)"
   ]
  },
  {
   "cell_type": "code",
   "execution_count": null,
   "id": "a94e40b4-0a01-42ca-9e26-886b83f35f44",
   "metadata": {},
   "outputs": [],
   "source": [
    "for i in range(100):\n",
    "        loc = i\n",
    "        timess = loc*inner_steps*dt\n",
    "        myth = rot(rotation_param,timess)\n",
    "        #print('Trajectory',loc,timess,myth)\n",
    "\n",
    "        #plt.clf()\n",
    "        colors = ['r','b']\n",
    "        j=0\n",
    "\n",
    "        am =ax.plot(MD_trajectories[loc][:num_distrib,0],MD_trajectories[loc][:num_distrib,1],'o',color=colors[0],markersize=0.3)\n",
    "        am =ax.plot(MD_trajectories[loc][num_distrib:2*num_distrib,0],MD_trajectories[loc][num_distrib:2*num_distrib,1],'o',color=colors[1],markersize=0.3)\n",
    "        #am = plt.plot(MD_trajectories[loc][2*num_distrib:2*num_distrib+num_outer_bc,0],MD_trajectories[loc][2*num_distrib:2*num_distrib+num_outer_bc,1],'ok')\n",
    "        #am = plt.plot(Inner_Rad*+trajectories[i][-1,0],trajectories[i][-1,1],'m')\n",
    "        #circle1 = plt.Circle((trajectories[i][-1,0],trajectories[i][-1,1] ), Inner_Rad, color='c')\n",
    "       # am = plt.scatter(MD_trajectories[j][loc][-1,0],MD_trajectories[j][loc][-1,1],s=4000)\n",
    "\n",
    "        #am = ax.scatter(MD_trajectories[loc][-1,0]+rad_ratio*jnp.cos(myth[0]),MD_trajectories[loc][-1,1]+rad_ratio*jnp.sin(myth[0]),marker='<',color='m',s=10)\n",
    "        #am = ax.scatter(Inner_particle_center[0]+1.*jnp.cos(myth[1]),Inner_particle_center[0]+1.*jnp.sin(myth[1]),marker='>',color='c',s=10)\n",
    "        fig.canvas.draw()\n",
    "        plt.pause(0.5)\n",
    "\n",
    "#ani = animation.FuncAnimation(fig10, animate, frames=outer_steps,interval = 1000/fps,repeat=False,blit=False)\n",
    "#plt.show()\n",
    "#video = ani.to_html5_video()\n",
    "#html = display.HTML(video)\n",
    "#isplay.display(html)\n",
    "#plt.close()\n",
    "#print(ani)"
   ]
  },
  {
   "cell_type": "code",
   "execution_count": 53,
   "id": "5fbdf5a1-4c14-4649-9e01-3a436cb58725",
   "metadata": {
    "tags": []
   },
   "outputs": [],
   "source": [
    "from time import sleep"
   ]
  },
  {
   "cell_type": "code",
   "execution_count": 54,
   "id": "fbf0fa47-d4fa-4324-aa7a-c70bbb558240",
   "metadata": {
    "tags": []
   },
   "outputs": [
    {
     "data": {
      "text/plain": [
       "<matplotlib.collections.PathCollection at 0x7fa61860cec0>"
      ]
     },
     "execution_count": 54,
     "metadata": {},
     "output_type": "execute_result"
    }
   ],
   "source": [
    "animate(0, ax)"
   ]
  },
  {
   "cell_type": "code",
   "execution_count": 55,
   "id": "b758951e-9175-47e1-8528-c5546c08dc60",
   "metadata": {
    "tags": []
   },
   "outputs": [],
   "source": [
    "for i in range(100):\n",
    "    animate(i, ax)\n",
    " "
   ]
  },
  {
   "cell_type": "code",
   "execution_count": 15,
   "id": "65fc1219-04d4-4273-b10c-e280791cdc34",
   "metadata": {
    "tags": []
   },
   "outputs": [
    {
     "data": {
      "text/plain": [
       "1401"
      ]
     },
     "execution_count": 15,
     "metadata": {},
     "output_type": "execute_result"
    }
   ],
   "source": [
    "len(MD_trajectories[0][:,0])"
   ]
  },
  {
   "cell_type": "code",
   "execution_count": null,
   "id": "75a7fe2a-f3bc-4c2b-bb20-f92627f81c32",
   "metadata": {},
   "outputs": [],
   "source": []
  }
 ],
 "metadata": {
  "accelerator": "GPU",
  "colab": {
   "gpuType": "T4",
   "include_colab_link": true,
   "provenance": []
  },
  "kernelspec": {
   "display_name": "jax-cfd-3.12",
   "language": "python",
   "name": "jax-cfd-3.12"
  },
  "language_info": {
   "codemirror_mode": {
    "name": "ipython",
    "version": 3
   },
   "file_extension": ".py",
   "mimetype": "text/x-python",
   "name": "python",
   "nbconvert_exporter": "python",
   "pygments_lexer": "ipython3",
   "version": "3.12.7"
  }
 },
 "nbformat": 4,
 "nbformat_minor": 5
}
