{
 "cells": [
  {
   "cell_type": "markdown",
   "id": "68df0921",
   "metadata": {
    "colab_type": "text",
    "id": "view-in-github"
   },
   "source": [
    "<a href=\"https://colab.research.google.com/github/hashimmg/jax_ib/blob/main/Copy_of_journal_bearing_demo.ipynb\" target=\"_parent\"><img src=\"https://colab.research.google.com/assets/colab-badge.svg\" alt=\"Open In Colab\"/></a>"
   ]
  },
  {
   "cell_type": "code",
   "execution_count": 1,
   "id": "48f8bb7c-e30c-4cd0-855b-1dabd408a7b8",
   "metadata": {
    "id": "48f8bb7c-e30c-4cd0-855b-1dabd408a7b8",
    "tags": []
   },
   "outputs": [
    {
     "name": "stderr",
     "output_type": "stream",
     "text": [
      "2024-12-02 13:07:13.346447: W external/xla/xla/service/gpu/nvptx_compiler.cc:765] The NVIDIA driver's CUDA version is 12.1 which is older than the ptxas CUDA version (12.6.77). Because the driver is older than the ptxas version, XLA is disabling parallel compilation, which may slow down compilation. You should update your NVIDIA driver or use the NVIDIA-provided CUDA forward compatibility packages.\n"
     ]
    }
   ],
   "source": [
    "import jax\n",
    "import jax.numpy as jnp\n",
    "from jax_ib.base import particle_class as pc\n",
    "import jax_ib.base as ib\n",
    "import jax_cfd.base as cfd\n",
    "import jax_ib.MD as MD\n",
    "from jax import random\n",
    "from jax_md import space, quantity\n",
    "from jax_ib.base import kinematics as ks\n",
    "from jax.random import uniform as random_uniform\n",
    "import jax_ib"
   ]
  },
  {
   "cell_type": "markdown",
   "id": "8e4da674",
   "metadata": {
    "id": "8e4da674"
   },
   "source": [
    "<font size=\"4\">Simulation setup steps <font size=\"4\">:\n",
    " 1. Setup the Flow problem\n",
    " 2. Setup the Immersed object kinematics\n",
    " 3. Setup the Brownian dynamics"
   ]
  },
  {
   "cell_type": "markdown",
   "id": "2910e95f",
   "metadata": {
    "id": "2910e95f"
   },
   "source": [
    "<font size=\"5\"> Flow Problem Setup <font size=\"5\">"
   ]
  },
  {
   "cell_type": "code",
   "execution_count": 2,
   "id": "7c68ddda",
   "metadata": {
    "id": "7c68ddda",
    "tags": []
   },
   "outputs": [],
   "source": [
    "#-- Flow conditions\n",
    "density = 1.0\n",
    "viscosity = 0.05\n",
    "dt=8e-5\n",
    "inner_steps = 10#1800#20#450#1500#1300\n",
    "outer_steps = 4#6000#12000#3000#2000#4500#4500#1800#10#900#20 (18000 works well to reach steady state)\n",
    "\n",
    "\n",
    "#-- CFD Boundary condition parameters\n",
    "freq=[0.]*4\n",
    "A=[0.]*4\n",
    "B=[0.]*4\n",
    "C=[0.]*4\n",
    "D=[0.]*4\n",
    "\n",
    "domain = ((0,5.),(0,5.0))\n",
    "size=(50,50)\n",
    "grid = ib.grids.Grid(size, domain=domain)\n",
    "\n",
    "def Boundary_fn(t):\n",
    "    return 0.0\n",
    "\n",
    "bc_fns = [Boundary_fn for a,b,c,d,f in zip(A,B,C,D,freq)]\n",
    "vx_bc=((bc_fns[0](0.0), bc_fns[1](0.0)), (bc_fns[2](0.0),bc_fns[3](0.0)))\n",
    "vy_bc=((0.0, 0.0), (0, 0.0))\n",
    "\n",
    "velocity_bc = (ib.boundaries.new_periodic_boundary_conditions(ndim=2,bc_vals=vx_bc,bc_fn=bc_fns,time_stamp=0.0),\n",
    "           ib.boundaries.new_periodic_boundary_conditions(ndim=2,bc_vals=vy_bc,bc_fn=bc_fns,time_stamp=0.0))\n",
    "\n",
    "\n",
    "def convect(v):\n",
    "  return tuple(\n",
    "    ib.advection.advect_upwind(u, v, dt) for u in v)\n",
    "\n",
    "\n",
    "#-- Initial velocity profile\n",
    "vx_fn = lambda x, y: jnp.zeros_like(x + y)\n",
    "vy_fn = lambda x, y: jnp.zeros_like(x + y)\n",
    "\n",
    "\n",
    "\n",
    "velocity_fns = (vx_fn, vy_fn)\n",
    "v0 = tuple(grid.eval_on_mesh(v_fn, offset) for v_fn, offset in zip(velocity_fns, grid.cell_faces))\n",
    "\n",
    "v0 = tuple(\n",
    "      ib.grids.GridVariable(u, bc) for u, offset,\n",
    "      bc in zip(v0, grid.cell_faces, velocity_bc))\n",
    "\n",
    "#-- Initial Pressure Profile\n",
    "\n",
    "pressure0 = ib.grids.GridVariable(ib.grids.GridArray(jnp.zeros_like(v0[0].data), grid.cell_center, grid), ib.boundaries.get_pressure_bc_from_velocity(v0))\n",
    "\n"
   ]
  },
  {
   "cell_type": "markdown",
   "id": "75e43cbe",
   "metadata": {
    "id": "75e43cbe"
   },
   "source": [
    "<font size=\"5\"> Immersed Boudary Kinematics <font size=\"5\">"
   ]
  },
  {
   "cell_type": "code",
   "execution_count": 3,
   "id": "39f81a6d",
   "metadata": {
    "id": "39f81a6d",
    "tags": []
   },
   "outputs": [],
   "source": [
    "#-- Immersed objects\n",
    "rad_ratio = 0.5\n",
    "alpha0 = [jnp.pi/2]*2\n",
    "n_terms = 1\n",
    "alpha_1 = [0.0]*n_terms\n",
    "beta_1 = [0.0]*n_terms\n",
    "alpha_2 = [0.0]*n_terms\n",
    "beta_2 = [0.0]*n_terms\n",
    "frequency = 1.0\n",
    "theta_out = jnp.pi/2*1.9#\n",
    "omega = 3.0\n",
    "p_H = 1.\n",
    "p_P = 1.\n",
    "\n",
    "# Specify Immersed Objects Geometery and Initial locations\n",
    "\n",
    "def foil_XY_circle(geometry_param,theta):\n",
    "      A = geometry_param[0]\n",
    "      B = geometry_param[1]\n",
    "      ntheta = 80#150 (150 worked well)\n",
    "      #xt = jnp.array(theta[:len(theta)//2]/(jnp.pi))\n",
    "      theta = jnp.linspace(0,1.98*jnp.pi,ntheta)\n",
    "      xt = A*jnp.cos(theta)\n",
    "      yt = A*jnp.sin(theta)\n",
    "\n",
    "\n",
    "      return xt,yt\n",
    "\n",
    "particle_geometry_param = [[1.*rad_ratio,1.*rad_ratio],[1.0,1.0]]\n",
    "particle_center_position=[[2.5,2.5],[2.5,2.5]]\n",
    "\n",
    "\n",
    "# Specify Immersed Objects kinematics\n",
    "\n",
    "displacement_param=[[0.,0.,0.,jnp.array([1.]),jnp.array([1.]),0.],\n",
    "            [0.,0.,0.,jnp.array([1.]),jnp.array([1.]),0]]#,[jnp.array([1,2,5]),3]]\n",
    "\n",
    "rotation_param=[[alpha0[0],frequency,0.,jnp.array(alpha_1),jnp.array(beta_1),theta_out*omega,p_H],\n",
    "            [alpha0[1],frequency,0.,-jnp.array(alpha_2),jnp.array(beta_2),theta_out,p_P]]\n",
    "\n",
    "Displacement_EQ = ks.Displacement_Foil_Fourier_Dotted_Mutliple\n",
    "Rotation_EQ = ks.rotation_Foil_Fourier_Dotted_Mutliple_NORMALIZED\n",
    "\n",
    "\n",
    "Shape_fn = foil_XY_circle\n",
    "mygrids= pc.Grid1d(2, domain= (0, 2*jnp.pi)) # Only needed when using Penalty method simulation setup\n",
    "\n",
    "particles =  pc.particle(jnp.array(particle_center_position),jnp.array(particle_geometry_param),displacement_param,rotation_param,mygrids,Shape_fn,Displacement_EQ,Rotation_EQ)"
   ]
  },
  {
   "cell_type": "markdown",
   "id": "2ac96a4f",
   "metadata": {
    "id": "2ac96a4f"
   },
   "source": [
    "<font size=\"5\"> Brownian Dynamics <font size=\"5\">"
   ]
  },
  {
   "cell_type": "code",
   "execution_count": 4,
   "id": "29a9ce70",
   "metadata": {
    "id": "29a9ce70",
    "tags": []
   },
   "outputs": [],
   "source": [
    "#----- Setup Brownian Simulation----------#\n",
    "\n",
    "# Brownian Particles\n",
    "dt_MD = dt\n",
    "kT = 0.0\n",
    "num_distrib = 600\n",
    "num_outer_bc = 200\n",
    "key = random.PRNGKey(0)\n",
    "key1 = random.PRNGKey(1)\n",
    "key2 = random.PRNGKey(2)\n",
    "gamma_val = 1.0\n",
    "\n",
    "\n",
    "import jax.numpy as jnp\n",
    "from jax.random import uniform as random_uniform\n",
    "\n",
    "\n",
    "# Setup different types of particles including force points for the immersed objects\n",
    "\n",
    "# Immersed Object point forces to setup repulsive hard wall boundaries\n",
    "Outer_Rad, Inner_Rad = particle_geometry_param[1][0], particle_geometry_param[0][0]\n",
    "Inner_particle_center, Outer_particle_center = particle_center_position[0], particle_center_position[1]\n",
    "\n",
    "    # Inner cylinder point\n",
    "pos_fixed_inner = jnp.array([Inner_particle_center])\n",
    "\n",
    "    # Outer boundary particle\n",
    "theta = jnp.linspace(0, 2 * jnp.pi, num_outer_bc)\n",
    "x_outer = Outer_Rad * jnp.cos(theta) + Outer_particle_center[0]\n",
    "y_outer = Outer_Rad * jnp.sin(theta) + Outer_particle_center[1]\n",
    "pos_fixed_outer = jnp.moveaxis(jnp.array([x_outer, y_outer]), 0, -1)\n",
    "\n",
    "\n",
    "# Interior passive particles\n",
    "\n",
    "    # Upper Half of the domain\n",
    "eps_val = 1e-2\n",
    "theta_p_upper = random_uniform(key, shape=(num_distrib,), minval=0., maxval=jnp.pi)\n",
    "distance = Outer_particle_center[0] - Inner_particle_center[0]\n",
    "p1, p2 = Inner_Rad, jnp.sqrt(Outer_Rad**2 + distance**2 - 2*Outer_Rad*distance*jnp.cos(jnp.pi-theta_p_upper))\n",
    "R_p_upper = p1 + random_uniform(key1, shape=(num_distrib,), minval=0. + eps_val, maxval=1. - eps_val) * (p2 - p1)\n",
    "\n",
    "updated_angle = jnp.arctan2(Outer_Rad * jnp.sin(theta_p_upper), distance + Outer_Rad * jnp.cos(theta_p_upper))\n",
    "x_upper, y_upper = R_p_upper * jnp.cos(updated_angle) + Inner_particle_center[0], R_p_upper * jnp.sin(updated_angle) + Inner_particle_center[1]\n",
    "\n",
    "\n",
    "    # Lower Half of the domain\n",
    "x_lower, y_lower = x_upper, -y_upper + 2*Inner_particle_center[1]\n",
    "\n",
    "# BrownianState Variables\n",
    "\n",
    "    # Particles initial position\n",
    "Pos_all = jnp.concatenate([jnp.moveaxis(jnp.array([x_upper, y_upper]), 0, -1),\n",
    "                               jnp.moveaxis(jnp.array([x_lower, y_lower]), 0, -1),\n",
    "                               pos_fixed_outer,\n",
    "                               pos_fixed_inner])\n",
    "\n",
    "    # Particles repulsive radius\n",
    "Rad_outer_wall = Outer_Rad * 2 * jnp.pi / num_outer_bc\n",
    "r0_array = jnp.array([[0., Rad_outer_wall, Inner_Rad],\n",
    "                      [Rad_outer_wall, 0., 0.],\n",
    "                      [Inner_Rad, 0.0, 0.0]])\n",
    "\n",
    "    # Morse repulsion interaction matrix\n",
    "\n",
    "h_array = jnp.array([[0., 5.0, 5.0],\n",
    "                         [5.0, 0., 0.],\n",
    "                         [5.0, 0.0, 0.0]])\n",
    "\n",
    "    # Fixing immersed object piont forces\n",
    "\n",
    "is_mobile = jnp.concatenate([jnp.ones(2 * num_distrib), jnp.zeros([num_outer_bc + 1])])\n",
    "\n",
    "    # Define species type needed for interaction matrix\n",
    "\n",
    "species_moving=jnp.full(2*num_distrib, 0)\n",
    "species_wall = jnp.full(num_outer_bc,1)\n",
    "species_inner = jnp.array([2])\n",
    "species=jnp.concatenate([species_moving,species_wall,species_inner])\n",
    "\n",
    "\n",
    "#-- Brownian Dynamics Setup\n",
    "\n",
    "displacement, shift=space.periodic(domain[0][1], wrapped=False)\n",
    "\n",
    "fixed_harmonic = lambda displacement_or_metric, h,r0: MD.interaction_potential.harmonic_morse_pair(displacement_or_metric, species=species, h=h, D0=0.0, alpha=10.0, r0=r0, k=1.0)\n",
    "\n",
    "def masked_shift(R, dR, is_mobile=None):\n",
    "    if is_mobile is None:\n",
    "        return shift(R, dR)\n",
    "    return jnp.where(is_mobile[:, None], shift(R, dR), R)\n",
    "\n",
    "energy_fn = fixed_harmonic(displacement, h_array, r0_array)\n",
    "energy_fn=quantity.force(energy_fn)\n",
    "\n",
    "\n",
    "def new_energy_fn(R, **kwargs):\n",
    "    return energy_fn(R)\n",
    "\n",
    "init_fn, apply_fn = MD.simulate.brownian_cfd(new_energy_fn, masked_shift, dt_MD,kT,MD.CFD_MD_coupling.custom_force_fn_pbc, gamma=gamma_val)\n",
    "apply_fn = jax.jit(apply_fn)\n",
    "MD_state = init_fn(key2, Pos_all, mass=1.)\n",
    "def step_fn_MD(state):\n",
    "        return apply_fn(state, is_mobile=is_mobile)\n",
    "\n",
    "\n",
    "# Integrating Brownian Step during numerical integration of the Navier-Stokes equation\n",
    "\n",
    "Update_position = lambda v,dt:ib.particle_motion.Update_particle_position_Multiple_and_MD_Step(step_fn_MD,v,dt)\n",
    "\n"
   ]
  },
  {
   "cell_type": "markdown",
   "id": "23255110",
   "metadata": {
    "id": "23255110"
   },
   "source": [
    "<font size=\"5\"> Simulation Setup <font size=\"5\">"
   ]
  },
  {
   "cell_type": "code",
   "execution_count": null,
   "id": "302c03c0-063f-4ade-bf35-12722c947db5",
   "metadata": {
    "colab": {
     "base_uri": "https://localhost:8080/"
    },
    "id": "302c03c0-063f-4ade-bf35-12722c947db5",
    "outputId": "0b6965da-9727-42d7-8bb7-85f8215ee759",
    "tags": []
   },
   "outputs": [
    {
     "name": "stderr",
     "output_type": "stream",
     "text": [
      "/home/martin_ganahl/.local/lib/python3.9/site-packages/jax/_src/numpy/reductions.py:221: UserWarning: Explicitly requested dtype <class 'jax.numpy.float64'> requested in sum is not available, and will be truncated to dtype float32. To enable more dtypes, set the jax_enable_x64 configuration option or the JAX_ENABLE_X64 shell environment variable. See https://github.com/google/jax#current-gotchas for more.\n",
      "  return _reduction(a, \"sum\", np.sum, lax.add, 0, preproc=_cast_to_numeric,\n",
      "/home/martin_ganahl/.local/lib/python3.9/site-packages/jax/_src/numpy/reductions.py:221: UserWarning: Explicitly requested dtype <class 'jax.numpy.float64'> requested in sum is not available, and will be truncated to dtype float32. To enable more dtypes, set the jax_enable_x64 configuration option or the JAX_ENABLE_X64 shell environment variable. See https://github.com/google/jax#current-gotchas for more.\n",
      "  return _reduction(a, \"sum\", np.sum, lax.add, 0, preproc=_cast_to_numeric,\n",
      "/home/martin_ganahl/.local/lib/python3.9/site-packages/jax/_src/numpy/reductions.py:221: UserWarning: Explicitly requested dtype <class 'jax.numpy.float64'> requested in sum is not available, and will be truncated to dtype float32. To enable more dtypes, set the jax_enable_x64 configuration option or the JAX_ENABLE_X64 shell environment variable. See https://github.com/google/jax#current-gotchas for more.\n",
      "  return _reduction(a, \"sum\", np.sum, lax.add, 0, preproc=_cast_to_numeric,\n",
      "/home/martin_ganahl/.local/lib/python3.9/site-packages/jax/_src/numpy/reductions.py:221: UserWarning: Explicitly requested dtype <class 'jax.numpy.float64'> requested in sum is not available, and will be truncated to dtype float32. To enable more dtypes, set the jax_enable_x64 configuration option or the JAX_ENABLE_X64 shell environment variable. See https://github.com/google/jax#current-gotchas for more.\n",
      "  return _reduction(a, \"sum\", np.sum, lax.add, 0, preproc=_cast_to_numeric,\n",
      "/home/martin_ganahl/.local/lib/python3.9/site-packages/jax/_src/numpy/reductions.py:221: UserWarning: Explicitly requested dtype <class 'jax.numpy.float64'> requested in sum is not available, and will be truncated to dtype float32. To enable more dtypes, set the jax_enable_x64 configuration option or the JAX_ENABLE_X64 shell environment variable. See https://github.com/google/jax#current-gotchas for more.\n",
      "  return _reduction(a, \"sum\", np.sum, lax.add, 0, preproc=_cast_to_numeric,\n",
      "/home/martin_ganahl/.local/lib/python3.9/site-packages/jax/_src/numpy/reductions.py:221: UserWarning: Explicitly requested dtype <class 'jax.numpy.float64'> requested in sum is not available, and will be truncated to dtype float32. To enable more dtypes, set the jax_enable_x64 configuration option or the JAX_ENABLE_X64 shell environment variable. See https://github.com/google/jax#current-gotchas for more.\n",
      "  return _reduction(a, \"sum\", np.sum, lax.add, 0, preproc=_cast_to_numeric,\n",
      "/home/martin_ganahl/.local/lib/python3.9/site-packages/jax/_src/interpreters/pxla.py:1904: UserWarning: The jitted function scan includes a pmap. Using jit-of-pmap can lead to inefficient data movement, as the outer jit does not preserve sharded data representations and instead collects input and output arrays onto a single device. Consider removing the outer jit unless you know what you're doing. See https://github.com/google/jax/issues/2926.\n",
      "  warnings.warn(\n"
     ]
    }
   ],
   "source": [
    "\n",
    "#-- Setup Pytree Variable to be looped over during integration steps\n",
    "\n",
    "Intermediate_calcs = [0] ## If one is interested to perform post-calculation without the need to save large trajectories\n",
    "Step_counter = 0\n",
    "\n",
    "all_variables = pc.All_Variables(particles,v0,pressure0,Intermediate_calcs,Step_counter,MD_state)\n",
    "\n",
    "#-- IB force coupling functions\n",
    "def internal_post_processing(all_variables,dt):\n",
    "    return all_variables\n",
    "\n",
    "# Force convolution kernel\n",
    "discrete_delta = lambda x,x0,w1: ib.convolution_functions.delta_approx_logistjax(x,x0,w1)\n",
    "\n",
    "# Convultion Discretized Integral\n",
    "surf_fn =  lambda field,xp,yp:ib.convolution_functions.new_surf_fn(field,xp,yp,discrete_delta)\n",
    "\n",
    "# IB forcing function\n",
    "IBM_forcing = lambda v,dt: ib.IBM_Force.calc_IBM_force_NEW_MULTIPLE(v,discrete_delta,surf_fn,dt)\n",
    "\n",
    "\n",
    "step_fn = cfd.funcutils.repeated(\n",
    "    ib.equations.semi_implicit_navier_stokes_timeBC(\n",
    "        density=density,\n",
    "        viscosity=viscosity,\n",
    "        dt=dt,\n",
    "        grid=grid,\n",
    "        convect=convect,\n",
    "        pressure_solve= ib.pressure.solve_fast_diag,\n",
    "        forcing=None, #pfo.arbitrary_obstacle(flow_cond.pressure_gradient,perm_f),\n",
    "        time_stepper= ib.time_stepping.forward_euler_updated,\n",
    "        IBM_forcing = IBM_forcing,\n",
    "        Updating_Position = Update_position,\n",
    "        Drag_fn = internal_post_processing, ### TO be removed from the example\n",
    "        ),\n",
    "    steps=inner_steps)\n",
    "\n",
    "\n",
    "#rollout_fn = jax.jit(cfd.funcutils.trajectory(\n",
    "#        step_fn, outer_steps, start_with_input=True))\n",
    "\n",
    "rollout_fn = cfd.funcutils.trajectory(\n",
    "        step_fn, outer_steps, start_with_input=True)\n",
    "final_result, trajectory = jax.device_get(rollout_fn(all_variables))"
   ]
  },
  {
   "cell_type": "code",
   "execution_count": null,
   "id": "fef4d3ac-33ee-4278-b1e7-dc4fd3bcfb36",
   "metadata": {
    "colab": {
     "base_uri": "https://localhost:8080/",
     "height": 1000
    },
    "id": "fef4d3ac-33ee-4278-b1e7-dc4fd3bcfb36",
    "outputId": "e762d3de-8f5c-46db-d804-b16ea4c61a87",
    "tags": []
   },
   "outputs": [],
   "source": [
    "import matplotlib.animation as animation\n",
    "import matplotlib.pyplot as plt\n",
    "from IPython import display\n",
    "from pathlib import Path\n",
    "from mpl_toolkits.axes_grid1 import make_axes_locatable\n",
    "fps=2\n",
    "fig10 = plt.figure(dpi=400,figsize=(8/2,8/2))\n",
    "rot = ks.rotation_Foil_Fourier_Dotted_Mutliple_NORMALIZED\n",
    "\n",
    "\n",
    "MD_trajectories = trajectory.MD_var.position\n",
    "\n",
    "def animate(i):\n",
    "\n",
    "\n",
    "        loc = i\n",
    "        timess = loc*inner_steps*dt\n",
    "        myth = rot(rotation_param,timess)\n",
    "        #print('Trajectory',loc,timess,myth)\n",
    "\n",
    "        plt.clf()\n",
    "        colors = ['r','b']\n",
    "        j=0\n",
    "\n",
    "        am =plt.plot(MD_trajectories[loc][:num_distrib,0],MD_trajectories[loc][:num_distrib,1],'o',color=colors[0],markersize=0.3)\n",
    "        am =plt.plot(MD_trajectories[loc][num_distrib:2*num_distrib,0],MD_trajectories[loc][num_distrib:2*num_distrib,1],'o',color=colors[1],markersize=0.3)\n",
    "        #am = plt.plot(MD_trajectories[loc][2*num_distrib:2*num_distrib+num_outer_bc,0],MD_trajectories[loc][2*num_distrib:2*num_distrib+num_outer_bc,1],'ok')\n",
    "        #am = plt.plot(Inner_Rad*+trajectories[i][-1,0],trajectories[i][-1,1],'m')\n",
    "        #circle1 = plt.Circle((trajectories[i][-1,0],trajectories[i][-1,1] ), Inner_Rad, color='c')\n",
    "       # am = plt.scatter(MD_trajectories[j][loc][-1,0],MD_trajectories[j][loc][-1,1],s=4000)\n",
    "        am = plt.plot(MD_trajectories[loc][-1,0]+rad_ratio*jnp.cos(jnp.linspace(0,2*jnp.pi,100)),MD_trajectories[loc][-1,1]+rad_ratio*jnp.sin(jnp.linspace(0,2*jnp.pi,100)),'-k')\n",
    "        am = plt.plot(Inner_particle_center[0]+1.*jnp.cos(jnp.linspace(0,2*jnp.pi,100)),Inner_particle_center[0]+1.0*jnp.sin(jnp.linspace(0,2*jnp.pi,100)),'-k')\n",
    "        am = plt.scatter(MD_trajectories[loc][-1,0]+rad_ratio*jnp.cos(myth[0]),MD_trajectories[loc][-1,1]+rad_ratio*jnp.sin(myth[0]),marker='<',color='m',s=10)\n",
    "        am = plt.scatter(Inner_particle_center[0]+1.*jnp.cos(myth[1]),Inner_particle_center[0]+1.*jnp.sin(myth[1]),marker='>',color='c',s=10)\n",
    "\n",
    "        return am\n",
    "\n",
    "ani = animation.FuncAnimation(fig10, animate, frames=outer_steps,interval = 1000/fps,repeat=False,blit=False)\n",
    "video = ani.to_html5_video()\n",
    "html = display.HTML(video)\n",
    "display.display(html)\n",
    "plt.close()"
   ]
  },
  {
   "cell_type": "code",
   "execution_count": null,
   "id": "75a7fe2a-f3bc-4c2b-bb20-f92627f81c32",
   "metadata": {},
   "outputs": [],
   "source": []
  }
 ],
 "metadata": {
  "accelerator": "GPU",
  "colab": {
   "gpuType": "T4",
   "include_colab_link": true,
   "provenance": []
  },
  "kernelspec": {
   "display_name": "jax-cfd-3.9",
   "language": "python",
   "name": "jax-cfd-3.9"
  },
  "language_info": {
   "codemirror_mode": {
    "name": "ipython",
    "version": 3
   },
   "file_extension": ".py",
   "mimetype": "text/x-python",
   "name": "python",
   "nbconvert_exporter": "python",
   "pygments_lexer": "ipython3",
   "version": "3.9.20"
  }
 },
 "nbformat": 4,
 "nbformat_minor": 5
}
