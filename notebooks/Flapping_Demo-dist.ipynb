{
 "cells": [
  {
   "cell_type": "markdown",
   "id": "ba7ca905",
   "metadata": {
    "colab_type": "text",
    "id": "view-in-github"
   },
   "source": [
    "<a href=\"https://colab.research.google.com/github/hashimmg/jax_IB/blob/main/Flapping_Demo.ipynb\" target=\"_parent\"><img src=\"https://colab.research.google.com/assets/colab-badge.svg\" alt=\"Open In Colab\"/></a>"
   ]
  },
  {
   "cell_type": "code",
   "execution_count": 1,
   "id": "e30dec93-f590-4a9b-9e5a-aa667467eb73",
   "metadata": {
    "tags": []
   },
   "outputs": [],
   "source": [
    "%load_ext autoreload\n",
    "%autoreload 2"
   ]
  },
  {
   "cell_type": "code",
   "execution_count": 68,
   "id": "48f8bb7c-e30c-4cd0-855b-1dabd408a7b8",
   "metadata": {
    "id": "48f8bb7c-e30c-4cd0-855b-1dabd408a7b8",
    "tags": []
   },
   "outputs": [],
   "source": [
    "import numpy as np\n",
    "import tree_math as tm\n",
    "import jax\n",
    "import jax.numpy as jnp\n",
    "from jax_ib.base import particle_class as pc\n",
    "from jax_ib.base import grids, fast_diagonalization, boundaries, pressure, diffusion, advection, finite_differences, IBM_Force,convolution_functions,particle_motion, equations\n",
    "import jax_cfd.base as cfd\n",
    "import jax_ib.MD as MD\n",
    "from jax import random\n",
    "from jax_md import space, quantity\n",
    "import jax_ib\n",
    "import jax_ib.base as ib\n",
    "from jax_ib.base import kinematics as ks\n",
    "from jax.random import uniform as random_uniform\n",
    "import matplotlib.pyplot as plt\n",
    "import functools as fct\n",
    "import scipy \n",
    "import tree_math\n",
    "from jax_ib.base import array_utils"
   ]
  },
  {
   "cell_type": "code",
   "execution_count": 3,
   "id": "6cc35d82-3e62-4660-bfd7-7151fdcad55f",
   "metadata": {
    "tags": []
   },
   "outputs": [],
   "source": [
    "from functools import partial\n",
    "\n",
    "import jax\n",
    "import jax.numpy as jnp\n",
    "\n",
    "from jax.sharding import Mesh, PartitionSpec as P\n",
    "from jax.experimental.shard_map import shard_map"
   ]
  },
  {
   "cell_type": "code",
   "execution_count": 4,
   "id": "5292e49d-9398-4ce1-a892-5635a49faba8",
   "metadata": {
    "tags": []
   },
   "outputs": [
    {
     "data": {
      "text/plain": [
       "[CudaDevice(id=0),\n",
       " CudaDevice(id=1),\n",
       " CudaDevice(id=2),\n",
       " CudaDevice(id=3),\n",
       " CudaDevice(id=4),\n",
       " CudaDevice(id=5),\n",
       " CudaDevice(id=6),\n",
       " CudaDevice(id=7)]"
      ]
     },
     "execution_count": 4,
     "metadata": {},
     "output_type": "execute_result"
    }
   ],
   "source": [
    "jax.devices()"
   ]
  },
  {
   "cell_type": "code",
   "execution_count": 72,
   "id": "faba80d9-462d-4748-b6a1-48a4227dbc5d",
   "metadata": {
    "tags": []
   },
   "outputs": [],
   "source": [
    "mesh2d = jax.make_mesh((4, 2), ('i', 'j'))"
   ]
  },
  {
   "cell_type": "code",
   "execution_count": 73,
   "id": "4966bc21-d035-4e70-bc65-d1a327553f14",
   "metadata": {
    "tags": []
   },
   "outputs": [],
   "source": [
    "#grid = jax_ib.base.grids.Grid(shape=(16,16) ,domain = ((0,16),(0,16)), device_mesh=mesh2d)\n"
   ]
  },
  {
   "cell_type": "code",
   "execution_count": 90,
   "id": "e450215c-2d55-4f58-84c1-bdd1b493832f",
   "metadata": {
    "tags": []
   },
   "outputs": [],
   "source": [
    "density = 1.0    # fluid density\n",
    "viscosity = 0.05 # fluid viscocity\n",
    "dt=5e-4          # time step \n",
    "num_boundaries = 4\n",
    "grid = grids.Grid((128,128), domain=((0,15.),(0,15.0)), device_mesh = mesh2d, periods = (15,15)) #gridpoints in \n",
    "bc_fns = [lambda t: 0.0 for _ in range(4)]\n",
    "vx_bc=((0.0, 0.0), (0.0, 0.0))\n",
    "vy_bc=((0.0, 0.0), (0.0, 0.0))\n",
    "\n",
    "velocity_bc = (boundaries.new_periodic_boundary_conditions(ndim=2,bc_vals=vx_bc,bc_fn=bc_fns,time_stamp=0.0),\n",
    "               boundaries.new_periodic_boundary_conditions(ndim=2,bc_vals=vy_bc,bc_fn=bc_fns,time_stamp=0.0))\n",
    "\n",
    "vx_fn = lambda x, y: jnp.zeros_like(x)\n",
    "vy_fn = lambda x, y: jnp.zeros_like(x)\n",
    "vx_0, vy_0 = tuple(\n",
    "    [\n",
    "       grids.GridVariable\n",
    "        (\n",
    "           grid.eval_on_mesh(fn = lambda x, y: jnp.ones_like(x), offset = offset), bc # initial values for fluid velocities are 0 both in x and y direction\n",
    "        ) \n",
    "        for offset, bc in zip(grid.cell_faces,velocity_bc)\n",
    "    ]\n",
    ")\n",
    "v0 = (vx_0, vy_0)\n",
    "global_pressure = grids.GridVariable(\n",
    "    grids.GridArray(jnp.zeros(grid.shape), grid.cell_center, grid), \n",
    "    boundaries.get_pressure_bc_from_velocity((vx_0, vy_0)))\n",
    "\n",
    "\n",
    "\n",
    "\n",
    "subgrid=grid.subgrid((1,1),boundary_layer_widths=(1,1))"
   ]
  },
  {
   "cell_type": "code",
   "execution_count": 122,
   "id": "60d1ae88-3071-418c-96e6-860313021889",
   "metadata": {
    "tags": []
   },
   "outputs": [],
   "source": [
    "def gather_boundary_layers(array):\n",
    "    I, J = jax.lax.psum(1, 'i'), jax.lax.psum(1, 'j')\n",
    "    left_halo = jax.lax.ppermute(array[:,-1], 'j', [(j, (j + 1) % J) for j in range(J)])\n",
    "    right_halo = jax.lax.ppermute(array[:,0], 'j', [(j, (j - 1) % J) for j in range(J)])\n",
    "    upper_halo = jax.lax.ppermute(array[-1,:], 'i', [(i, (i + 1) % I) for i in range(I)])\n",
    "    lower_halo = jax.lax.ppermute(array[0,:], 'i', [(i, (i - 1) % I) for i in range(I)])\n",
    "    \n",
    "    upper_halo = jnp.append(0.0, jnp.append(upper_halo, 0.0))\n",
    "    lower_halo = jnp.append(0.0, jnp.append(lower_halo, 0.0))\n",
    "    \n",
    "    temp = jnp.concatenate([left_halo[:,None], array, right_halo[:,None]], axis=1)\n",
    "    return  jnp.concatenate([upper_halo[None, :], temp, lower_halo[None,:]], axis=0)\n",
    "\n",
    "def convect(v):\n",
    "    return tuple(advection.advect_upwind(u, v, dt) for u in v)\n",
    "\n",
    "\n",
    "# we assume all subgrids have identical shapes and steps\n",
    "def get_subgrid_laplacians(grid, boundary_layer_widths):\n",
    "    subgrid = grid.subgrid((1,1), boundary_layer_widths)\n",
    "    return tuple([jnp.array(a) for a in list(map(array_utils.laplacian_matrix,subgrid.shape, subgrid.step))])\n",
    "\n",
    "####################################################################\n",
    "# this requires more investigation to be sure it actually runs distributed and isnt' causing any\n",
    "# unwanted host-device comms\n",
    "boundary_layer_widths = (1,1)\n",
    "laplacians = get_subgrid_laplacians(grid, boundary_layer_widths)\n",
    "pinv = fast_diagonalization.pseudoinverse(\n",
    "    laplacians,global_pressure.array.data.dtype, \n",
    "    hermitian=True,circulant=True,implementation=None)\n",
    "pinv(np.ones(laplacians[1].shape[0]).astype(np.float32))\n",
    "####################################################################\n",
    "\n",
    "\n",
    "@partial(shard_map, mesh=mesh2d, in_specs=(P('i','j'),(P('i','j'), P('i','j')), None,None,(None,None)), out_specs=((P('i','j'),P('i','j')), P('i','j')))\n",
    "def master(global_pressure, global_velocities, grid, boundary_layer_widths, laplacians):\n",
    "    local_pressure = gather_boundary_layers(global_pressure)\n",
    "    global_ux, global_uy = global_velocities\n",
    "\n",
    "    \n",
    "    local_ux = gather_boundary_layers(global_ux)\n",
    "    local_uy = gather_boundary_layers(global_uy)\n",
    "    i = jax.lax.axis_index('i')\n",
    "    j = jax.lax.axis_index('j')\n",
    "    subgrid = grid.subgrid((i,j), boundary_layer_widths=boundary_layer_widths)#, boundary_conditions = ('periodic','periodic'))\n",
    "    bc_fns = [lambda t: 0.0 for _ in range(4)]\n",
    "    ux_bc=((0.0, 0.0), (0.0, 0.0))\n",
    "    uy_bc=((0.0, 0.0), (0.0, 0.0))\n",
    "    pressure_bc = ((0.0, 0.0), (0.0, 0.0))\n",
    "    boundary_condition = boundaries.new_periodic_boundary_conditions(ndim=2,bc_vals=pressure_bc,bc_fn=bc_fns,time_stamp=0.0)\n",
    "\n",
    "    velocity_bc = (boundaries.new_periodic_boundary_conditions(ndim=2,bc_vals=ux_bc,bc_fn=bc_fns,time_stamp=0.0),\n",
    "                   boundaries.new_periodic_boundary_conditions(ndim=2,bc_vals=uy_bc,bc_fn=bc_fns,time_stamp=0.0))\n",
    "\n",
    "    local_pressure = grids.GridVariable(grids.GridArray(local_pressure, subgrid.cell_center, subgrid), boundary_condition)\n",
    "    local_ux = grids.GridVariable(grids.GridArray(local_ux, subgrid.cell_faces[0], subgrid), velocity_bc[0])\n",
    "    local_uy = grids.GridVariable(grids.GridArray(local_uy, subgrid.cell_faces[1], subgrid), velocity_bc[1])\n",
    "    \n",
    "    explicit_update = equations.navier_stokes_explicit_terms(\n",
    "        density=1.0, viscosity=1.0, dt=5E-4,grid=subgrid, convect=convect, diffuse=diffusion.diffuse, forcing=None)\n",
    "    explicit = explicit_update((local_ux, local_uy))\n",
    "    dP = finite_differences.forward_difference(local_pressure)\n",
    "\n",
    "    local_u_star = tuple([u.array.data + dt * e.array.data - dp.data for u, e, dp in zip((local_ux, local_uy), explicit, dP)])\n",
    "    local_u_star = tuple([grids.GridVariable(grids.GridArray(u, os, subgrid), bc) for os, u, bc in zip(subgrid.cell_faces, local_u_star, velocity_bc)])\n",
    "   \n",
    "    local_u_final, new_local_pressure= pressure.projection_and_update_pressure(local_pressure, local_u_star, pinv)\n",
    "    \n",
    "    return tuple([u.array.data for u in local_u_final]), new_local_pressure.array.data"
   ]
  },
  {
   "cell_type": "code",
   "execution_count": 123,
   "id": "8778b65e-0fed-4c0d-96ce-864702f5a591",
   "metadata": {
    "tags": []
   },
   "outputs": [
    {
     "name": "stdout",
     "output_type": "stream",
     "text": [
      "FINAL RESULT:\n",
      " ((Array([[0.5355639 , 0.8930345 , 0.9865329 , ..., 1.1325518 , 1.2622547 ,\n",
      "        0.802761  ],\n",
      "       [0.7995359 , 0.8930347 , 0.9540392 , ..., 1.0727541 , 1.0738642 ,\n",
      "        0.90533894],\n",
      "       [0.9048818 , 0.9255292 , 0.9540402 , ..., 1.0323198 , 1.0123001 ,\n",
      "        0.947328  ],\n",
      "       ...,\n",
      "       [0.905082  , 1.0711942 , 1.0723054 , ..., 0.95433354, 0.8939764 ,\n",
      "        0.801521  ],\n",
      "       [0.8004292 , 1.2595847 , 1.1338688 , ..., 0.98643106, 0.8939762 ,\n",
      "        0.53789556],\n",
      "       [0.5355639 , 1.1570066 , 1.0918789 , ..., 1.0904495 , 1.1576016 ,\n",
      "        0.53789556]], dtype=float32), Array([[0.5374064 , 0.8013785 , 0.9067246 , ..., 0.90692484, 0.80227196,\n",
      "        0.5374064 ],\n",
      "       [0.8948771 , 0.8948769 , 0.92737055, ..., 1.0730366 , 1.261427  ,\n",
      "        1.1588492 ],\n",
      "       [0.98837584, 0.9558815 , 0.9558804 , ..., 1.0741467 , 1.1357107 ,\n",
      "        1.0937217 ],\n",
      "       ...,\n",
      "       [1.1343938 , 1.0745953 , 1.034161  , ..., 0.95617574, 0.98827404,\n",
      "        1.0922922 ],\n",
      "       [1.2640971 , 1.0757066 , 1.0141433 , ..., 0.8958186 , 0.89581865,\n",
      "        1.1594443 ],\n",
      "       [0.80460364, 0.90718174, 0.9491716 , ..., 0.80336374, 0.53973806,\n",
      "        0.53973806]], dtype=float32)), Array([[ 0.00043058, -0.05401339, -0.03550411, ...,  0.02456271,\n",
      "         0.03546996,  0.05462455],\n",
      "       [-0.05379747, -0.04624505, -0.03392593, ...,  0.0090293 ,\n",
      "         0.00047032, -0.03041566],\n",
      "       [-0.03507225, -0.03371005, -0.02853991, ...,  0.00050343,\n",
      "        -0.00818563, -0.02408924],\n",
      "       ...,\n",
      "       [ 0.02391491,  0.00816563, -0.000576  , ...,  0.02822061,\n",
      "         0.03335626,  0.0347304 ],\n",
      "       [ 0.03503811, -0.00017744, -0.0090493 , ...,  0.03357215,\n",
      "         0.0457809 ,  0.05798965],\n",
      "       [ 0.05440863, -0.03084751, -0.02473705, ...,  0.03516226,\n",
      "         0.05820557,  0.10837585]], dtype=float32))\n"
     ]
    }
   ],
   "source": [
    "subgrid_laplacians = get_subgrid_laplacians(grid, boundary_layer_widths)\n",
    "y = master(global_pressure.array.data, (vx_0.array.data, vy_0.array.data), grid,boundary_layer_widths, subgrid_laplacians)\n",
    "print('FINAL RESULT:\\n', y)"
   ]
  },
  {
   "cell_type": "code",
   "execution_count": 8,
   "id": "cac7198b-60a6-4c16-9353-da017541cff0",
   "metadata": {
    "tags": []
   },
   "outputs": [
    {
     "name": "stdout",
     "output_type": "stream",
     "text": [
      "703725.0 170775.0 253500.0\n"
     ]
    }
   ],
   "source": [
    "\n",
    "fmv = 6.79\n",
    "sp = 1.72\n",
    "price = 13.00\n",
    "shares = 100000\n",
    "\n",
    "\n",
    "strike = shares * 1.72\n",
    "einkst = shares * (fmv - sp) * 0.5\n",
    "kapst = shares * (price - fmv) * 0.275\n",
    "print(shares * price - kapst - einkst-strike, kapst, einkst)\n",
    "\n",
    "\n"
   ]
  },
  {
   "cell_type": "code",
   "execution_count": null,
   "id": "4c70d119-e481-4edb-97c5-8c00bc5c38fd",
   "metadata": {},
   "outputs": [],
   "source": [
    "*"
   ]
  }
 ],
 "metadata": {
  "accelerator": "GPU",
  "colab": {
   "gpuType": "T4",
   "include_colab_link": true,
   "provenance": []
  },
  "kernelspec": {
   "display_name": "jax-cfd-3.12",
   "language": "python",
   "name": "jax-cfd-3.12"
  },
  "language_info": {
   "codemirror_mode": {
    "name": "ipython",
    "version": 3
   },
   "file_extension": ".py",
   "mimetype": "text/x-python",
   "name": "python",
   "nbconvert_exporter": "python",
   "pygments_lexer": "ipython3",
   "version": "3.12.7"
  }
 },
 "nbformat": 4,
 "nbformat_minor": 5
}
