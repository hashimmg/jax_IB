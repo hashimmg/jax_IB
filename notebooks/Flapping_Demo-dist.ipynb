{
 "cells": [
  {
   "cell_type": "markdown",
   "id": "ba7ca905",
   "metadata": {
    "colab_type": "text",
    "id": "view-in-github"
   },
   "source": [
    "<a href=\"https://colab.research.google.com/github/hashimmg/jax_IB/blob/main/Flapping_Demo.ipynb\" target=\"_parent\"><img src=\"https://colab.research.google.com/assets/colab-badge.svg\" alt=\"Open In Colab\"/></a>"
   ]
  },
  {
   "cell_type": "code",
   "execution_count": 82,
   "id": "e30dec93-f590-4a9b-9e5a-aa667467eb73",
   "metadata": {
    "tags": []
   },
   "outputs": [
    {
     "name": "stdout",
     "output_type": "stream",
     "text": [
      "The autoreload extension is already loaded. To reload it, use:\n",
      "  %reload_ext autoreload\n"
     ]
    }
   ],
   "source": [
    "%load_ext autoreload\n",
    "%autoreload 2"
   ]
  },
  {
   "cell_type": "code",
   "execution_count": 83,
   "id": "12ca2755-4095-44e4-bf33-e6bb148d9553",
   "metadata": {
    "tags": []
   },
   "outputs": [],
   "source": [
    "import jax\n",
    "jax.config.update(\"jax_enable_x64\", True)"
   ]
  },
  {
   "cell_type": "code",
   "execution_count": 84,
   "id": "48f8bb7c-e30c-4cd0-855b-1dabd408a7b8",
   "metadata": {
    "id": "48f8bb7c-e30c-4cd0-855b-1dabd408a7b8",
    "tags": []
   },
   "outputs": [],
   "source": [
    "import numpy as np\n",
    "import tree_math as tm\n",
    "import jax\n",
    "import jax.numpy as jnp\n",
    "from jax_ib.base import particle_class as pc\n",
    "from jax_ib.base import grids, interpolation, fast_diagonalization, boundaries, pressure, diffusion, advection, finite_differences, IBM_Force,convolution_functions,particle_motion, equations\n",
    "import jax_cfd.base as cfd\n",
    "import jax_ib.MD as MD\n",
    "from jax import random\n",
    "from jax_md import space, quantity\n",
    "import jax_ib\n",
    "import jax_ib.base as ib\n",
    "from jax_ib.base import kinematics as ks\n",
    "from jax.random import uniform as random_uniform\n",
    "import matplotlib.pyplot as plt\n",
    "import functools as fct\n",
    "import scipy \n",
    "import tree_math\n",
    "from jax.experimental.pjit import pjit\n",
    "from jax_ib.base import array_utils\n",
    "import jax\n",
    "from jax.sharding import NamedSharding\n",
    "from jax.experimental.custom_partitioning import custom_partitioning\n",
    "from jax.experimental.pjit import pjit\n",
    "from jax.sharding import PartitionSpec as P\n",
    "from jax.sharding import Mesh\n",
    "#import regex as re\n",
    "import functools\n",
    "from functools import partial\n",
    "import jax\n",
    "import jax.numpy as jnp\n",
    "from jax.sharding import Mesh, PartitionSpec as P\n",
    "from jax.experimental.shard_map import shard_map\n",
    "from jax_ib.base import xfft, utils\n",
    "import functools\n",
    "from functools import partial\n",
    "import jax\n",
    "import jax.numpy as jnp\n",
    "from jax.sharding import Mesh, PartitionSpec as P\n",
    "from jax.experimental.shard_map import shard_map\n",
    "import numpy as np\n",
    "import jax_ib.base.fft as fft\n",
    "import scipy as sp\n",
    "from scipy import linalg\n",
    "from jax_ib.base import fast_diagonalization as fdiag"
   ]
  },
  {
   "cell_type": "code",
   "execution_count": 85,
   "id": "a6f7f60e-9e9f-4680-8d3c-9eda5df473ac",
   "metadata": {
    "tags": []
   },
   "outputs": [],
   "source": [
    "N = 128\n",
    "M = 8\n",
    "α, β = 1,1\n",
    "As = [[None for _ in range(M)] for _ in range(M)]\n",
    "subA = np.exp(-2*np.pi*1j*np.outer(np.arange(N//M), np.arange(N//M))/N)\n",
    "exp =  np.exp(-2*np.pi*1j*np.outer(np.arange(N), np.arange(N))/N)\n",
    "cols = [ np.exp(-2*np.pi*1j/N*j*(N//M) * np.arange(N//M)) for j in range(M)]\n",
    "rows = [np.exp(-2*np.pi*1j/N*i*(N//M) * np.arange(N//M)) for i in range(M)]\n",
    "x = np.random.rand(N).astype(np.complex64)\n",
    "result = []\n",
    "for i in range(M):\n",
    "    for j in range(M):\n",
    "        phase = np.exp(-2*np.pi*1j/N * i * j * (N//M)**2)\n",
    "        As[i][j] = cols[j][:,None]*subA * rows[i][None,:] * phase\n",
    "for i in range(M):\n",
    "    temp = np.zeros(N//M, dtype=complex)\n",
    "    for j in range(M):\n",
    "        phase = np.exp(-2*np.pi*1j/N * i * j * (N//M)**2)\n",
    "        temp += cols[j]*np.fft.fft(rows[i] *x[j*(N//M):(j+1)*(N//M)], N)[:(N//M)]* phase\n",
    "    result.append(temp)\n",
    "    \n",
    "A = np.exp(-2*np.pi*1j*np.outer(np.arange(N), np.arange(N))/N)\n",
    "y1 = np.fft.fft(x)\n",
    "y2 = np.concatenate(result)\n",
    "A2 = np.concatenate([np.concatenate(As[m], axis=1) for m in range(M)], axis=0)"
   ]
  },
  {
   "cell_type": "code",
   "execution_count": 86,
   "id": "aa673bae-edc3-4884-92a3-a43ff8d1964f",
   "metadata": {
    "tags": []
   },
   "outputs": [],
   "source": [
    "mesh = jax.make_mesh(axis_shapes = (4,2), axis_names = ('i','j'))"
   ]
  },
  {
   "cell_type": "code",
   "execution_count": 87,
   "id": "e450215c-2d55-4f58-84c1-bdd1b493832f",
   "metadata": {
    "tags": []
   },
   "outputs": [],
   "source": [
    "density = 1.0    # fluid density\n",
    "viscosity = 0.2 # fluid viscocity\n",
    "dt=5e-3          # time step \n",
    "num_boundaries = 4\n",
    "domain = ((0,15),(0,15))\n",
    "mesh = jax.make_mesh((4,2), ('i','j'))\n",
    "grid = grids.Grid((32,32), domain=domain, device_mesh = mesh, periods = (15,15))\n",
    "bc_fns = [lambda t: 0.0 for _ in range(4)]\n",
    "vx_bc=((0.0, 0.0), (0.0, 0.0))\n",
    "vy_bc=((0.0, 0.0), (0.0, 0.0))\n",
    "\n",
    "velocity_bc = (boundaries.new_periodic_boundary_conditions(ndim=2,bc_vals=vx_bc,bc_fn=bc_fns,time_stamp=0.0),\n",
    "               boundaries.new_periodic_boundary_conditions(ndim=2,bc_vals=vy_bc,bc_fn=bc_fns,time_stamp=0.0))\n",
    "\n",
    "vx_fn = lambda x, y: jnp.zeros_like(x)\n",
    "vy_fn = lambda x, y: jnp.zeros_like(x)\n",
    "vx_0, vy_0 = tuple(\n",
    "    [\n",
    "       grids.GridVariable\n",
    "        (\n",
    "           grid.eval_on_mesh(fn = lambda x, y: jnp.ones_like(x), offset = offset), bc # initial values for fluid velocities are 0 both in x and y direction\n",
    "        ) \n",
    "        for offset, bc in zip(grid.cell_faces,velocity_bc)\n",
    "    ]\n",
    ")\n",
    "\n",
    "v0 = (vx_0, vy_0)\n",
    "global_pressure = grids.GridVariable(\n",
    "    grids.GridArray(jnp.ones(grid.shape), grid.cell_center, grid), \n",
    "    boundaries.get_pressure_bc_from_velocity((vx_0, vy_0)))\n",
    "\n",
    "\n",
    "subgrid=grid.subgrid((1,1),boundary_layer_widths=(1,1))"
   ]
  },
  {
   "cell_type": "code",
   "execution_count": 101,
   "id": "a2934b75-037b-40cd-a36c-0b01cb25b6f0",
   "metadata": {
    "tags": []
   },
   "outputs": [],
   "source": [
    "density = 1.0    # fluid density\n",
    "viscosity = 0.05 # fluid viscocity\n",
    "dt=5e-4          # time step \n",
    "num_boundaries = 4\n",
    "domain = ((0,5.0),(0,5.0))\n",
    "grid = grids.Grid((2**8, 2**8), domain=domain, device_mesh = mesh, periods = (5,5))\n",
    "bc_fns = [lambda t: 0.0 for _ in range(4)]\n",
    "vx_bc=((0.0, 0.0), (0.0, 0.0))\n",
    "vy_bc=((0.0, 0.0), (0.0, 0.0))\n",
    "bc_fns = [lambda t: 0.0 for _ in range(4)]\n",
    "vx_bc=((0.0, 0.0), (0.0, 0.0))\n",
    "vy_bc=((0.0, 0.0), (0.0, 0.0))\n",
    "\n",
    "velocity_bc = (boundaries.new_periodic_boundary_conditions(ndim=2,bc_vals=vx_bc,bc_fn=bc_fns,time_stamp=0.0),\n",
    "               boundaries.new_periodic_boundary_conditions(ndim=2,bc_vals=vy_bc,bc_fn=bc_fns,time_stamp=0.0))\n",
    "#velocity_bc = (boundaries.dirichlet_boundary_conditions(ndim=2,bc_vals=vx_bc,bc_fn=bc_fns,time_stamp=0.0),\n",
    "#               boundaries.dirichlet_boundary_conditions(ndim=2,bc_vals=vy_bc,bc_fn=bc_fns,time_stamp=0.0))\n",
    "vx_fn = lambda x, y: jnp.zeros_like(x)\n",
    "vy_fn = lambda x, y: jnp.zeros_like(x)\n",
    "velocities = tuple(\n",
    "    [\n",
    "       grids.GridVariable\n",
    "        (\n",
    "           grid.eval_on_mesh(fn = lambda x, y: jnp.array(np.random.rand(*x.shape)), offset = offset), bc # initial values for fluid velocities are 0 both in x and y direction\n",
    "        ) \n",
    "        for offset, bc in zip(grid.cell_faces,velocity_bc)\n",
    "    ]\n",
    ")\n",
    "\n",
    "pressure0 = grids.GridVariable(\n",
    "           grid.eval_on_mesh(fn = lambda x, y: jnp.cos(x+y), offset = grid.cell_center),  boundaries.get_pressure_bc_from_velocity(velocities) \n",
    "        ) \n"
   ]
  },
  {
   "cell_type": "code",
   "execution_count": 102,
   "id": "60d1ae88-3071-418c-96e6-860313021889",
   "metadata": {
    "tags": []
   },
   "outputs": [],
   "source": [
    "def convect(v):\n",
    "    return tuple(advection.advect_upwind(u, v, dt) for u in v)\n",
    "\n",
    "def ellipse(geometry_params, ntheta=200):\n",
    "    A = geometry_params[0]\n",
    "    B = geometry_params[1]\n",
    "    xt = jnp.linspace(-A,A,ntheta)\n",
    "    yt = B/A*jnp.sqrt(A**2-xt**2)\n",
    "    xt_2 = jnp.linspace(A,-A,ntheta)[1:-1]\n",
    "    yt2 = -B/A*jnp.sqrt(A**2-xt_2**2)\n",
    "    return jnp.append(xt,xt_2),jnp.append(yt,yt2)\n",
    "\n",
    "\n",
    "def ellipse_trajectory(ellipse_parameters, initial_center_of_mass_position, angular_rotation_speed, \n",
    "                       center_of_mass_motion_parameters, t):\n",
    "    x, y = ellipse(ellipse_parameters, 200)\n",
    "    amplitude, frequency = center_of_mass_motion_parameters\n",
    "    center_of_mass = initial_center_of_mass_position + jnp.array([amplitude/2 * jnp.cos(2*jnp.pi*frequency*t), 0.0]) - jnp.array([amplitude/2, 0.0])\n",
    "    xp = x*jnp.cos(angular_rotation_speed*t)-y*jnp.sin(angular_rotation_speed*t)+center_of_mass[0]                                                                                  \n",
    "    yp = x*jnp.sin(angular_rotation_speed*t)+y*jnp.cos(angular_rotation_speed*t)+center_of_mass[1] \n",
    "    return xp, yp\n",
    "\n",
    "surf_fn =  lambda field,xp,yp:convolution_functions.convolve(field,xp,yp,convolution_functions.gaussian)\n",
    "\n",
    "\n",
    "\n",
    "@partial(shard_map, mesh=mesh, in_specs=(P('i','j'),(P('i','j'), P('i','j')), None,None,P(),None, P()), \n",
    "         out_specs=(P('i','j'), P('i','j')))\n",
    "def evolve_navier_stokes(pressure_field, velocities, grid, boundary_layer_widths, diags, num_steps,dt):\n",
    "    #create a subgrid for the current patch\n",
    "    i = jax.lax.axis_index('i')\n",
    "    j = jax.lax.axis_index('j')\n",
    "    subgrid = grid.subgrid((i,j), boundary_layer_widths=boundary_layer_widths)\n",
    "    explicit_update = equations.navier_stokes_explicit_terms(\n",
    "        density=1.0, viscosity=1.0, dt=5E-4,grid=subgrid, convect=convect, diffuse=diffusion.diffuse, forcing=None)\n",
    "    \n",
    "    surface_velocity = lambda f,x,y: convolution_functions.mesh_convolve(f,x,y,convolution_functions.gaussian, axis_names=['i','j'])\n",
    "    \n",
    "    #forcex, forcey = IBM_Force.immersed_boundary_force(\n",
    "    #    local_velocities, obj_fns, convolution_functions.gaussian, surface_velocity, t, dt)\n",
    "          \n",
    "    # hard coded boundary condition values in each direction\n",
    "    bc_fns = [lambda t: 0.0 for _ in range(4)]\n",
    "    ux_bc=((0.0, 0.0), (0.0, 0.0))\n",
    "    uy_bc=((0.0, 0.0), (0.0, 0.0))\n",
    "    pressure_bc = ((0.0, 0.0), (0.0, 0.0))\n",
    "    \n",
    "    pressure_bc = boundaries.new_periodic_boundary_conditions(ndim=2,bc_vals=pressure_bc,bc_fn=bc_fns,time_stamp=0.0)\n",
    "    velocity_bcs = (boundaries.new_periodic_boundary_conditions(ndim=2,bc_vals=ux_bc,bc_fn=bc_fns,time_stamp=0.0),\n",
    "                    boundaries.new_periodic_boundary_conditions(ndim=2,bc_vals=uy_bc,bc_fn=bc_fns,time_stamp=0.0))\n",
    "    \n",
    "    ux, uy = velocities\n",
    "    ux_trajectory = []\n",
    "    uy_trajectory = []\n",
    "    pressure_trajectory = []\n",
    "    for step in range(num_steps):\n",
    "        t = step * dt\n",
    "        local_pressure = extend(pressure_field, subgrid, pressure_bc)\n",
    "        local_ux = extend(ux, subgrid, velocity_bcs[0])\n",
    "        local_uy = extend(uy, subgrid, velocity_bcs[1])\n",
    "\n",
    "    \n",
    "        explicit = explicit_update((local_ux, local_uy))\n",
    "        dP = finite_differences.forward_difference(local_pressure)\n",
    "\n",
    "        local_u_star = tuple([u.data + dt * e.data - dp.data for u, e, dp in zip((local_ux, local_uy), explicit, dP)])\n",
    "        local_u_star = tuple([grids.GridVariable(\n",
    "            grids.GridArray(u, os, subgrid), bc) for os, u, bc in zip(subgrid.cell_faces, local_u_star, velocity_bcs)])\n",
    "        #forces = IBM_Force.immersed_boundary_force(\n",
    "        #    local_u_star,[ellipse_position],convolution_functions.gaussian,surf_fn, t, dt)\n",
    "      \n",
    "        #local_u_star_star = tuple([u.data + dt * force.data for u, force in zip(local_u_star, forces)])\n",
    "        local_u_star_star = tuple([grids.GridVariable(grids.GridArray(u, offset, subgrid), bc) for u, bc, offset in zip(local_u_star_star, velocity_bcs, subgrid.cell_faces)])\n",
    "        local_u_final, new_local_pressure= pressure.projection_and_update_pressure_pinv(local_pressure, local_u_star_star, pinv)\n",
    "        \n",
    "        ux = local_u_final[0].data[1:-1,1:-1]\n",
    "        uy = local_u_final[1].data[1:-1,1:-1]\n",
    "        \n",
    "        pressure_field = new_local_pressure.data[1:-1,1:-1]\n",
    "        ux_trajectory.append(ux)\n",
    "        uy_trajectory.append(uy)\n",
    "        pressure_trajectory.append(pressure_field)\n",
    "    return jnp.stack(ux_trajectory, axis=2), jnp.stack(uy_trajectory, axis=2)\n",
    "\n",
    "\n",
    "\n"
   ]
  },
  {
   "cell_type": "code",
   "execution_count": 103,
   "id": "7ae2cfe0-7812-423e-a077-eabf6188619e",
   "metadata": {
    "tags": []
   },
   "outputs": [],
   "source": [
    "def solve_linear(velocities, pinv, width)->grids.GridArray:\n",
    "    subgrid = velocities[0].grid\n",
    "    pressure_bc = boundaries.get_pressure_bc_from_velocity(velocities)\n",
    "    extended_velocities = tuple([extend(v, width) for v in velocities])\n",
    "    rhs_extended = finite_differences.divergence(extended_velocities)\n",
    "    rhs = crop(grids.GridVariable(rhs_extended, velocities[0].bc), width)\n",
    "    return grids.GridArray(pinv(rhs.data), rhs.offset, rhs.grid)\n",
    "\n",
    "def projection_and_update_pressure_sharded(\n",
    "    pressure: grids.GridVariable, \n",
    "    velocities: tuple[grids.GridVariable], pinv:callable, width:int\n",
    ") -> grids.GridVariableVector:\n",
    "    grid = pressure.grid\n",
    "    pressure_bc = boundaries.get_pressure_bc_from_velocity(velocities)\n",
    "    solution = grids.GridVariable(solve_linear(velocities, pinv, width), pressure_bc)\n",
    "    new_pressure_array =  grids.GridArray(solution.data + pressure.data,pressure.offset,grid)\n",
    "    new_pressure = grids.GridVariable(new_pressure_array,pressure_bc)\n",
    "    \n",
    "    extended_solution = extend(solution, width)\n",
    "    grads = finite_differences.forward_difference(extended_solution)\n",
    "    grads = tuple([crop(grids.GridVariable(grids.GridArray(g.data, g.offset, g.grid), solution.bc)) for g in grads])\n",
    "    \n",
    "    v_projected = tuple(grids.GridVariable(u.array - g.array, u.bc) for u, g in zip(velocities, grads))\n",
    "    return v_projected, new_pressure\n",
    "\n",
    "@partial(jax.jit, static_argnums = (3,))\n",
    "@partial(shard_map, mesh=mesh, \n",
    "         in_specs = (P('i','j'),(P('i','j'), P('i','j')), (P('i'),P('j')), None), \n",
    "         out_specs = (P('i','j'),P('i','j')))\n",
    "def wrapper(pressure_array, velocities, laplacian_eigenvalues, width):\n",
    "    bc_fns = [lambda t: 0.0 for _ in range(4)]\n",
    "    ux_bc=((0.0, 0.0), (0.0, 0.0))\n",
    "    uy_bc=((0.0, 0.0), (0.0, 0.0))\n",
    "    pressure_bc = ((0.0, 0.0), (0.0, 0.0))\n",
    "    grid = pressure_array.grid\n",
    "    pressure_bc = boundaries.new_periodic_boundary_conditions(ndim=2,bc_vals=pressure_bc,bc_fn=bc_fns,time_stamp=0.0)\n",
    "    velocity_bcs = (boundaries.new_periodic_boundary_conditions(ndim=2,bc_vals=ux_bc,bc_fn=bc_fns,time_stamp=0.0),\n",
    "                    boundaries.new_periodic_boundary_conditions(ndim=2,bc_vals=uy_bc,bc_fn=bc_fns,time_stamp=0.0))\n",
    "    \n",
    "    i = jax.lax.axis_index('i')\n",
    "    j = jax.lax.axis_index('j')    \n",
    "    subgrid = grid.subgrid((i,j), boundary_layer_widths=(width,width))\n",
    "    pressure_var = grids.GridVariable(grids.GridArray(pressure_array.data, pressure_array.offset, subgrid),pressure_bc)\n",
    "    velocities = tuple([grids.GridVariable(grids.GridArray(v.data, v.offset, subgrid),velocity_bcs[n]) for n, v in enumerate(velocities)])\n",
    "    cutoff = 10 * jnp.finfo(jnp.float32).eps\n",
    "    eigvals = jnp.add.outer(laplacian_eigenvalues[0], laplacian_eigenvalues[1].T)\n",
    "    pinv = fdiag.pseudo_poisson_inversion(eigvals, jnp.complex128, ('i','j'), cutoff)  \n",
    "    v_projected, new_pressure = pressure.projection_and_update_pressure_sharded(pressure_var, velocities, pinv,width)\n",
    "    return tuple([v.array for v in v_projected]), new_pressure.array\n",
    "    \n",
    "    \n",
    "    "
   ]
  },
  {
   "cell_type": "code",
   "execution_count": 104,
   "id": "978e0a25-ef3a-4e92-b32d-9837cdb0cc8d",
   "metadata": {
    "tags": []
   },
   "outputs": [],
   "source": [
    "eigvals = tuple([np.fft.fft(array_utils.laplacian_column(size, step)) for size, step in zip(grid.shape, grid.step)])"
   ]
  },
  {
   "cell_type": "code",
   "execution_count": 105,
   "id": "33ef874c-71f7-41a8-8203-97fd8d6764f4",
   "metadata": {
    "tags": []
   },
   "outputs": [],
   "source": [
    "v_projected, new_pressure = pressure.projection_and_update_pressure(pressure0, velocities)"
   ]
  },
  {
   "cell_type": "code",
   "execution_count": 108,
   "id": "ce70412c-4e67-4072-bfad-ca42ea7d7454",
   "metadata": {
    "tags": []
   },
   "outputs": [],
   "source": [
    "v_projected2, new_pressure2 = wrapper(pressure0.array, tuple([v.array for v in velocities]), eigvals, 1)"
   ]
  },
  {
   "cell_type": "code",
   "execution_count": 107,
   "id": "50119114-7a62-4259-8509-02e2fc9766ff",
   "metadata": {
    "tags": []
   },
   "outputs": [
    {
     "name": "stdout",
     "output_type": "stream",
     "text": [
      "1.181632908789442e-12\n",
      "1.244720070889928e-12\n",
      "4.210203190097082e-13\n"
     ]
    }
   ],
   "source": [
    "print(np.linalg.norm(v_projected[0].data - v_projected2[0].data))\n",
    "print(np.linalg.norm(v_projected[1].data - v_projected2[1].data))\n",
    "print(np.linalg.norm(new_pressure2.data - new_pressure.data))"
   ]
  },
  {
   "cell_type": "code",
   "execution_count": 80,
   "id": "60988a90-2673-4a11-a07f-09b23f142600",
   "metadata": {
    "tags": []
   },
   "outputs": [],
   "source": [
    "@partial(shard_map, mesh=mesh, in_specs=((P('i','j'),P('i','j')), None,None,None), \n",
    "         out_specs=(P('i','j'),P('i','j')))\n",
    "def explicit_update_distributed(velocities, grid, boundary_layer_widths,dt):\n",
    "    #create a subgrid for the current patch\n",
    "    i = jax.lax.axis_index('i')\n",
    "    j = jax.lax.axis_index('j')\n",
    "    subgrid = grid.subgrid((i,j), boundary_layer_widths=boundary_layer_widths)\n",
    "    def convect(v):\n",
    "        return tuple(advection.advect_upwind(u, v, dt) for u in v)       \n",
    "    \n",
    "    explicit_update = equations.navier_stokes_explicit_terms(\n",
    "        density=1.0, viscosity=1.0, dt=dt,grid=subgrid, convect=convect, diffuse=diffusion.diffuse, forcing=None)\n",
    "  \n",
    "    # hard coded boundary condition values in each direction\n",
    "    bc_fns = [lambda t: 0.0 for _ in range(4)]\n",
    "    ux_bc=((0.0, 0.0), (0.0, 0.0))\n",
    "    uy_bc=((0.0, 0.0), (0.0, 0.0))\n",
    "    \n",
    "    velocity_bcs = (boundaries.new_periodic_boundary_conditions(ndim=2,bc_vals=ux_bc,bc_fn=bc_fns,time_stamp=0.0),\n",
    "                    boundaries.new_periodic_boundary_conditions(ndim=2,bc_vals=uy_bc,bc_fn=bc_fns,time_stamp=0.0))\n",
    "    \n",
    "    ux, uy = velocities\n",
    "    local_shape = ux.shape\n",
    "    width = boundary_layer_widths[0]\n",
    "    local_ux = add_halo_layer(ux, width)\n",
    "    local_uy = add_halo_layer(uy, width)\n",
    "    \n",
    "    local_ux = grids.GridVariable(grids.GridArray(local_ux, subgrid.cell_faces[0], subgrid), velocity_bcs[0])\n",
    "    local_uy = grids.GridVariable(grids.GridArray(local_uy, subgrid.cell_faces[1], subgrid), velocity_bcs[1])\n",
    "    explicit = explicit_update((local_ux, local_uy))\n",
    "    blw = boundary_layer_widths\n",
    "    return tuple([e.data[blw[0]:blw[0] + local_shape[0],blw[1]:blw[1] + local_shape[1]] for e in explicit])\n",
    "\n",
    "\n",
    "def test_explicit_update(velocity_field, density=1, viscosity=0.05, dt=5E-4, domain = ((0,15.),(0,15.0)), width=1):\n",
    "    num_boundaries = 4\n",
    "    device_mesh = jax.make_mesh((4, 2), ('i', 'j'))\n",
    "    grid = velocity_field[0].array.grid\n",
    "\n",
    "    def convect(v):\n",
    "        return tuple(advection.advect_upwind(u, v, dt) for u in v)\n",
    "    diffuse = diffusion.diffuse\n",
    "    explicit_update_fn= equations.navier_stokes_explicit_terms(density, viscosity, dt, grid, convect, diffuse, forcing=None)\n",
    "    expected = explicit_update_fn(velocity_field)\n",
    "    actual = explicit_update_distributed(tuple([v.data for v in velocities]), grid, (width,width), dt)\n",
    "    return tuple([np.array(a) for a in actual]), tuple([np.array(e.data) for e in expected])\n",
    "  \n",
    "    \n",
    "    \n",
    "@partial(shard_map, mesh=mesh, in_specs=((P('i','j'),P('i','j')), None,None,None), \n",
    "         out_specs=(P('i','j'),P('i','j')))\n",
    "def advect_distributed(velocities, grid, boundary_layer_widths,dt):\n",
    "    #create a subgrid for the current patch\n",
    "    i = jax.lax.axis_index('i')\n",
    "    j = jax.lax.axis_index('j')\n",
    "    subgrid = grid.subgrid((i,j), boundary_layer_widths=boundary_layer_widths)\n",
    "      \n",
    "    # hard coded boundary condition values in each direction\n",
    "    bc_fns = [lambda t: 0.0 for _ in range(4)]\n",
    "    ux_bc=((0.0, 0.0), (0.0, 0.0))\n",
    "    uy_bc=((0.0, 0.0), (0.0, 0.0))\n",
    "    \n",
    "    velocity_bcs = (boundaries.new_periodic_boundary_conditions(ndim=2,bc_vals=ux_bc,bc_fn=bc_fns,time_stamp=0.0),\n",
    "                    boundaries.new_periodic_boundary_conditions(ndim=2,bc_vals=uy_bc,bc_fn=bc_fns,time_stamp=0.0))\n",
    "    \n",
    "    ux, uy = velocities\n",
    "    local_shape = ux.shape\n",
    "    width = boundary_layer_widths[0]\n",
    "    local_ux = add_halo_layer(ux, width)\n",
    "    local_uy = add_halo_layer(uy, width)\n",
    "    \n",
    "    #wrap into GridVariable to make jax_ib happy \n",
    "    def convect(v):\n",
    "        return tuple(advection.advect_upwind(u, v, dt) for u in v)\n",
    "    local_ux = grids.GridVariable(grids.GridArray(local_ux, subgrid.cell_faces[0], subgrid), velocity_bcs[0])\n",
    "    local_uy = grids.GridVariable(grids.GridArray(local_uy, subgrid.cell_faces[1], subgrid), velocity_bcs[1])\n",
    "    result = convect((local_ux, local_uy))\n",
    "    blw = boundary_layer_widths\n",
    "    return tuple([e.data[blw[0]:blw[0] + local_shape[0],blw[1]:blw[1] + local_shape[1]] for e in result]) \n",
    "\n",
    "\n",
    "def test_advect(velocity_field, dt=5E-4, width=1):\n",
    "    grid = velocity_field[0].array.grid\n",
    "    def convect(v):\n",
    "        return tuple(advection.advect_upwind(u, v, dt) for u in v)\n",
    "    expected = convect(velocity_field)\n",
    "    actual = advect_distributed(tuple([v.data for v in velocities]), grid, (width,width), dt)\n",
    "    return tuple([np.array(a) for a in actual]), tuple([np.array(e.data) for e in expected])    \n",
    "\n",
    "\n",
    "@partial(shard_map, mesh=mesh, in_specs=(P('i','j'), None,None,None), \n",
    "         out_specs=P('i','j'))\n",
    "def laplacian_distributed(field, grid, boundary_layer_widths,dt):\n",
    "    #create a subgrid for the current patch\n",
    "    i = jax.lax.axis_index('i')\n",
    "    j = jax.lax.axis_index('j')\n",
    "    subgrid = grid.subgrid((i,j), boundary_layer_widths=boundary_layer_widths)\n",
    "      \n",
    "    # hard coded boundary condition values in each direction\n",
    "    bc_fns = [lambda t: 0.0 for _ in range(4)]\n",
    "    bc = boundaries.new_periodic_boundary_conditions(ndim=2,bc_vals=((0.0, 0.0), (0.0, 0.0)),\n",
    "                                                              bc_fn=bc_fns,time_stamp=0.0)\n",
    "\n",
    "    local_shape = field.shape\n",
    "    width = boundary_layer_widths[0]\n",
    "    local_field = add_halo_layer(field, width)\n",
    "\n",
    "    \n",
    "    #wrap into GridVariable to make jax_ib happy \n",
    "    local_field = grids.GridVariable(grids.GridArray(local_field, subgrid.cell_faces[0], subgrid), bc)\n",
    "    result = finite_differences.laplacian(local_field)\n",
    "    blw = boundary_layer_widths\n",
    "    return result.data[blw[0]:blw[0] + local_shape[0],blw[1]:blw[1] + local_shape[1]]\n",
    "\n",
    "\n",
    "def test_laplacian(field, density=1, viscosity=0.05, dt=5E-4, domain = ((0,15.),(0,15.0)), width=1):\n",
    "    num_boundaries = 4\n",
    "    device_mesh = jax.make_mesh((4, 2), ('i', 'j'))\n",
    "    grid = field.array.grid\n",
    "\n",
    "    expected = finite_differences.laplacian(field)\n",
    "    actual = laplacian_distributed(field.data, grid, (width,width), dt)\n",
    "    return np.array(actual), np.array(expected.data) \n",
    "\n",
    "\n",
    "@partial(shard_map, mesh=mesh, in_specs=((P('i','j'),P('i','j')), None,None,None), \n",
    "         out_specs=P('i','j'))\n",
    "def divergence_distributed(velocities, grid, boundary_layer_widths,dt):\n",
    "    #create a subgrid for the current patch\n",
    "    i = jax.lax.axis_index('i')\n",
    "    j = jax.lax.axis_index('j')\n",
    "    subgrid = grid.subgrid((i,j), boundary_layer_widths=boundary_layer_widths)\n",
    "      \n",
    "    # hard coded boundary condition values in each direction\n",
    "    bc_fns = [lambda t: 0.0 for _ in range(4)]\n",
    "    ux_bc=((0.0, 0.0), (0.0, 0.0))\n",
    "    uy_bc=((0.0, 0.0), (0.0, 0.0))\n",
    "    \n",
    "    velocity_bcs = (boundaries.new_periodic_boundary_conditions(ndim=2,bc_vals=ux_bc,bc_fn=bc_fns,time_stamp=0.0),\n",
    "                    boundaries.new_periodic_boundary_conditions(ndim=2,bc_vals=uy_bc,bc_fn=bc_fns,time_stamp=0.0))\n",
    "    \n",
    "    ux, uy = velocities\n",
    "    local_shape = ux.shape\n",
    "    width = boundary_layer_widths[0]\n",
    "    local_ux = add_halo_layer(ux, width)\n",
    "    local_uy = add_halo_layer(uy, width)\n",
    "    \n",
    "    local_ux = grids.GridVariable(grids.GridArray(local_ux, subgrid.cell_faces[0], subgrid), velocity_bcs[0])\n",
    "    local_uy = grids.GridVariable(grids.GridArray(local_uy, subgrid.cell_faces[1], subgrid), velocity_bcs[1])\n",
    "    result = finite_differences.divergence((local_ux, local_uy))\n",
    "    blw = boundary_layer_widths\n",
    "    return result.data[blw[0]:blw[0] + local_shape[0],blw[1]:blw[1] + local_shape[1]]\n",
    "\n",
    "\n",
    "def test_divergence(velocities, density=1, viscosity=0.05, dt=5E-4, domain = ((0,15.),(0,15.0)), width=1):\n",
    "    num_boundaries = 4\n",
    "    device_mesh = jax.make_mesh((4, 2), ('i', 'j'))\n",
    "    grid = velocities[0].array.grid\n",
    "\n",
    "    expected = finite_differences.divergence(velocities)\n",
    "    actual = divergence_distributed(tuple([v.data for v in velocities]), grid, (width,width), dt)\n",
    "    return np.array(actual), np.array(expected.data)\n",
    "\n",
    "\n",
    "@partial(shard_map, mesh=mesh, in_specs=(P('i','j'), None, None,None), \n",
    "         out_specs=P('i','j'))\n",
    "def diffuse_distributed(field, viscosity, grid, boundary_layer_widths):\n",
    "    #create a subgrid for the current patch\n",
    "    i = jax.lax.axis_index('i')\n",
    "    j = jax.lax.axis_index('j')\n",
    "    subgrid = grid.subgrid((i,j), boundary_layer_widths=boundary_layer_widths)\n",
    "      \n",
    "    # hard coded boundary condition values in each direction\n",
    "    bc_fns = [lambda t: 0.0 for _ in range(4)]\n",
    "    bc = boundaries.new_periodic_boundary_conditions(ndim=2,bc_vals=((0.0, 0.0), (0.0, 0.0)),\n",
    "                                                              bc_fn=bc_fns,time_stamp=0.0)\n",
    "\n",
    "    local_shape = field.shape\n",
    "    width = boundary_layer_widths[0]\n",
    "    local_field = add_halo_layer(field, width)\n",
    "\n",
    "    \n",
    "    #wrap into GridVariable to make jax_ib happy \n",
    "    local_field = grids.GridVariable(grids.GridArray(local_field, subgrid.cell_faces[0], subgrid), bc)\n",
    "    result = diffusion.diffuse(local_field, viscosity)\n",
    "    blw = boundary_layer_widths\n",
    "    return result.data[blw[0]:blw[0] + local_shape[0],blw[1]:blw[1] + local_shape[1]]\n",
    "\n",
    "\n",
    "def test_diffuse(field, density=1, viscosity=0.05, domain = ((0,15.),(0,15.0)), width=1):\n",
    "    num_boundaries = 4\n",
    "    device_mesh = jax.make_mesh((4, 2), ('i', 'j'))\n",
    "    grid = field.array.grid\n",
    "\n",
    "    expected = diffusion.diffuse(field, viscosity)\n",
    "    actual = diffuse_distributed(field.data, viscosity, grid, (width,width), dt)\n",
    "    return np.array(actual), np.array(expected.data) \n",
    "\n",
    "\n",
    "@partial(shard_map, mesh=mesh, in_specs=(P('i','j'), None, None,None), \n",
    "         out_specs=P('i','j'))\n",
    "def linear_interpolation_distributed(field, idx, grid, boundary_layer_widths):\n",
    "    #create a subgrid for the current patch\n",
    "    i = jax.lax.axis_index('i')\n",
    "    j = jax.lax.axis_index('j')\n",
    "    subgrid = grid.subgrid((i,j), boundary_layer_widths=boundary_layer_widths)\n",
    "      \n",
    "    # hard coded boundary condition values in each direction\n",
    "    bc_fns = [lambda t: 0.0 for _ in range(4)]\n",
    "    bc = boundaries.new_periodic_boundary_conditions(ndim=2,bc_vals=((0.0, 0.0), (0.0, 0.0)),\n",
    "                                                              bc_fn=bc_fns,time_stamp=0.0)\n",
    "\n",
    "    local_shape = field.shape\n",
    "    width = boundary_layer_widths[0]\n",
    "    local_field = add_halo_layer(field, width)\n",
    "\n",
    "    \n",
    "    #wrap into GridVariable to make jax_ib happy \n",
    "    local_field = grids.GridVariable(grids.GridArray(local_field, subgrid.cell_faces[idx], subgrid), bc)\n",
    "    target_offsets=  grids.control_volume_offsets(local_field)\n",
    "    result = interpolation.linear(local_field, target_offsets[idx],None,None)\n",
    "    blw = boundary_layer_widths\n",
    "    return  result.data[blw[0]:blw[0] + local_shape[0],blw[1]:blw[1] + local_shape[1]]\n",
    "\n",
    "\n",
    "def test_linear_interpolation(field, idx, width=1):\n",
    "    grid = field.array.grid\n",
    "    target_offsets=  grids.control_volume_offsets(field)\n",
    "    expected = interpolation.linear(field, target_offsets[idx],None,None)\n",
    "    boundary_layer_widths = (width, width)\n",
    "    actual = linear_interpolation_distributed(field.data, idx, grid, boundary_layer_widths)\n",
    "    return np.array(actual), np.array(expected.data)\n",
    "\n",
    "\n",
    "\n",
    "@partial(shard_map, mesh=mesh, in_specs=(P('i','j'), None, None,None), \n",
    "         out_specs=P('i','j'))\n",
    "def upwind_interpolation_distributed(velocities, idx, grid, boundary_layer_widths):\n",
    "   #create a subgrid for the current patch\n",
    "    i = jax.lax.axis_index('i')\n",
    "    j = jax.lax.axis_index('j')\n",
    "    subgrid = grid.subgrid((i,j), boundary_layer_widths=boundary_layer_widths)\n",
    "      \n",
    "    # hard coded boundary condition values in each direction\n",
    "    bc_fns = [lambda t: 0.0 for _ in range(4)]\n",
    "    ux_bc=((0.0, 0.0), (0.0, 0.0))\n",
    "    uy_bc=((0.0, 0.0), (0.0, 0.0))\n",
    "    \n",
    "    velocity_bcs = (boundaries.new_periodic_boundary_conditions(ndim=2,bc_vals=ux_bc,bc_fn=bc_fns,time_stamp=0.0),\n",
    "                    boundaries.new_periodic_boundary_conditions(ndim=2,bc_vals=uy_bc,bc_fn=bc_fns,time_stamp=0.0))\n",
    "    \n",
    "    ux, uy = velocities\n",
    "    local_shape = ux.shape\n",
    "    width = boundary_layer_widths[0]\n",
    "    local_ux = add_halo_layer(ux, width)\n",
    "    local_uy = add_halo_layer(uy, width)\n",
    "    \n",
    "    local_ux = grids.GridVariable(grids.GridArray(local_ux, subgrid.cell_faces[0], subgrid), velocity_bcs[0])\n",
    "    local_uy = grids.GridVariable(grids.GridArray(local_uy, subgrid.cell_faces[1], subgrid), velocity_bcs[1])\n",
    "    local_velocities = (local_ux, local_uy)\n",
    "    target_offsets=  grids.control_volume_offsets(local_velocities[idx])\n",
    "    result = interpolation.upwind(local_velocities[idx], target_offsets[idx],local_velocities, None)\n",
    "    blw = boundary_layer_widths\n",
    "    return  result.data[blw[0]:blw[0] + local_shape[0],blw[1]:blw[1] + local_shape[1]]\n",
    "\n",
    "\n",
    "def test_upwind_interpolation(velocities, idx, width=1):\n",
    "    grid = velocities[0].array.grid\n",
    "    target_offsets=  grids.control_volume_offsets(velocities[idx])\n",
    "    expected = interpolation.upwind(velocities[idx], target_offsets[idx],velocities,None)\n",
    "    boundary_layer_widths = (width, width)\n",
    "    actual = upwind_interpolation_distributed(tuple([v.data for v in velocities]), idx, grid, boundary_layer_widths)\n",
    "    return np.array(actual), np.array(expected.data)\n",
    "\n",
    "\n",
    "@partial(shard_map, mesh=mesh, in_specs=(P('i','j'),None, None, None), out_specs=P())\n",
    "def convolve_distributed(field, grid, obj_fn, t):\n",
    "    x, y = obj_fn(t)\n",
    "    \n",
    "    i = jax.lax.axis_index('i')\n",
    "    j = jax.lax.axis_index('j')\n",
    "    subgrid = grid.subgrid((i,j), boundary_layer_widths=(0,0))\n",
    "      \n",
    "    # hard coded boundary condition values in each direction\n",
    "    bc_fns = [lambda t: 0.0 for _ in range(4)]\n",
    "    bc_vals=((0.0, 0.0), (0.0, 0.0))\n",
    "    bc = boundaries.new_periodic_boundary_conditions(ndim=2,bc_vals=bc_vals,bc_fn=bc_fns,time_stamp=0.0)\n",
    "    local_shape = field.shape\n",
    "    width = boundary_layer_widths[0]\n",
    "\n",
    "    local_field = grids.GridVariable(grids.GridArray(field, subgrid.cell_faces[0], subgrid), bc)\n",
    "    local_convolve = convolution_functions.mesh_convolve(\n",
    "        local_field, x, y, \n",
    "        convolution_functions.gaussian, axis_names=['i','j']\n",
    "    )\n",
    "    return local_convolve\n",
    "\n",
    "def test_convolve(field, obj_fn, t ):\n",
    "    x,y = obj_fn(t)\n",
    "    grid = field.array.grid\n",
    "    expected = convolution_functions.convolve(field,x,y,convolution_functions.gaussian)\n",
    "    actual = convolve_distributed(field.data, grid, obj_fn, t)\n",
    "    return actual, expected\n",
    "\n",
    "\n",
    "@partial(shard_map, mesh=mesh, in_specs=((P('i','j'), P('i','j')),None, None, None), out_specs=(P('i','j'), P('i','j')))\n",
    "def distributed_immersed_boundary_force(velocities, obj_fns, t, dt):\n",
    "\n",
    "    i = jax.lax.axis_index('i')\n",
    "    j = jax.lax.axis_index('j')\n",
    "    subgrid = grid.subgrid((i,j), boundary_layer_widths=(0,0))\n",
    "      \n",
    "    # hard coded boundary condition values in each direction\n",
    "    bc_fns = [lambda t: 0.0 for _ in range(4)]\n",
    "    ux_bc=((0.0, 0.0), (0.0, 0.0))\n",
    "    uy_bc=((0.0, 0.0), (0.0, 0.0))\n",
    "    \n",
    "    velocity_bcs = (boundaries.new_periodic_boundary_conditions(ndim=2,bc_vals=ux_bc,bc_fn=bc_fns,time_stamp=0.0),\n",
    "                    boundaries.new_periodic_boundary_conditions(ndim=2,bc_vals=uy_bc,bc_fn=bc_fns,time_stamp=0.0))\n",
    "    \n",
    "    local_ux, local_uy = velocities\n",
    "    local_shape = local_ux.shape\n",
    "    \n",
    "    local_ux = grids.GridVariable(grids.GridArray(local_ux, subgrid.cell_faces[0], subgrid), velocity_bcs[0])\n",
    "    local_uy = grids.GridVariable(grids.GridArray(local_uy, subgrid.cell_faces[1], subgrid), velocity_bcs[1])\n",
    "    local_velocities = (local_ux, local_uy)    \n",
    "    surface_velocity = lambda f,x,y: convolution_functions.mesh_convolve(f,x,y,convolution_functions.gaussian, axis_names=['i','j'])\n",
    "    \n",
    "    forcex, forcey = IBM_Force.immersed_boundary_force(\n",
    "        local_velocities, obj_fns, convolution_functions.gaussian, surface_velocity, t, dt)\n",
    "    return forcex.data, forcey.data\n",
    "\n",
    "\n",
    "def test_immersed_boundary_force(velocities, obj_fns, t, dt):\n",
    "    surface_velocity =  lambda field,x,y:convolution_functions.convolve(field,x,y,convolution_functions.gaussian)\n",
    "    expected = IBM_Force.immersed_boundary_force(velocities, obj_fns, convolution_functions.gaussian, surface_velocity, t, dt)\n",
    "    actual = distributed_immersed_boundary_force(tuple([v.data for v in velocities]), obj_fns, t, dt)\n",
    "    return tuple([np.array(a) for a in actual]), tuple([np.array(e.data) for e in expected])\n",
    "   \n",
    "    \n",
    "@partial(shard_map, mesh=mesh, in_specs=(P('i','j'),(P('i','j'), P('i','j')), None,None,P()), \n",
    "         out_specs=((P('i','j'), P('i','j')), P('i','j')))\n",
    "def pressure_update_dist(pressure_field, velocities, grid, boundary_layer_widths, diags):\n",
    "    #create a subgrid for the current patch\n",
    "    i = jax.lax.axis_index('i')\n",
    "    j = jax.lax.axis_index('j')\n",
    "    subgrid = grid.subgrid((i,j), boundary_layer_widths=boundary_layer_widths)\n",
    "    \n",
    "    def pinv(rhs):                                                                                                                                                       \n",
    "        return jnp.fft.irfftn(diags * jnp.fft.rfftn(rhs)).astype(jnp.float32)\n",
    "      \n",
    "    # hard coded boundary condition values in each direction\n",
    "    bc_fns = [lambda t: 0.0 for _ in range(4)]\n",
    "    ux_bc=((0.0, 0.0), (0.0, 0.0))\n",
    "    uy_bc=((0.0, 0.0), (0.0, 0.0))\n",
    "    pressure_bc = ((0.0, 0.0), (0.0, 0.0))\n",
    "    \n",
    "    pressure_bc = boundaries.new_periodic_boundary_conditions(ndim=2,bc_vals=pressure_bc,bc_fn=bc_fns,time_stamp=0.0)\n",
    "    velocity_bcs = (boundaries.new_periodic_boundary_conditions(ndim=2,bc_vals=ux_bc,bc_fn=bc_fns,time_stamp=0.0),\n",
    "                    boundaries.new_periodic_boundary_conditions(ndim=2,bc_vals=uy_bc,bc_fn=bc_fns,time_stamp=0.0))\n",
    "    \n",
    "    ux, uy = velocities\n",
    "    local_shape = ux.shape\n",
    "\n",
    "    width = boundary_layer_widths[0]\n",
    "    local_pressure = add_halo_layer(pressure_field, width)\n",
    "    local_ux = add_halo_layer(ux, width)\n",
    "    local_uy = add_halo_layer(uy, width)\n",
    "        \n",
    "    #wrap into GridVariable to make jax_ib happy \n",
    "    local_pressure = grids.GridVariable(grids.GridArray(local_pressure, subgrid.cell_center, subgrid), pressure_bc)\n",
    "    local_ux = grids.GridVariable(grids.GridArray(local_ux, subgrid.cell_faces[0], subgrid), velocity_bcs[0])\n",
    "    local_uy = grids.GridVariable(grids.GridArray(local_uy, subgrid.cell_faces[1], subgrid), velocity_bcs[1])\n",
    "    \n",
    "    local_velocities = (local_ux, local_uy)\n",
    "\n",
    "    local_u_final, new_local_pressure= pressure.projection_and_update_pressure_pinv(local_pressure, local_velocities, pinv)\n",
    "    blw = boundary_layer_widths\n",
    "    \n",
    "    def to_output(tup):\n",
    "        return tuple([t.data[blw[0]:blw[0] + local_shape[0],blw[1]:blw[1] + local_shape[1]] for t in tup])\n",
    "    return  to_output(local_u_final), new_local_pressure.data[blw[0]:blw[0] + local_shape[0],blw[1]:blw[1] + local_shape[1]]\n",
    "\n",
    "\n",
    "def test_pressure_update(pressure_field, velocities, grid,\n",
    "                         density=1.0, viscosity=0.05, dt=1E-4 ,\n",
    "                         boundary_layer_widths = (1,1)):\n",
    "\n",
    "    def convect(v):\n",
    "        return tuple(advection.advect_upwind(u, v, dt) for u in v) \n",
    "    \n",
    "    explicit_update = equations.navier_stokes_explicit_terms(\n",
    "        density=density, viscosity=viscosity, dt=dt, grid=grid, convect=convect, diffuse=diffusion.diffuse, forcing=None)\n",
    "    \n",
    "    explicit = explicit_update(velocities)\n",
    "    dP = finite_differences.forward_difference(pressure_field)\n",
    "\n",
    "    u_star = tuple([grids.GridVariable(v.array + dt * e.array - dp,bc = v.bc) for v,e,dp in zip(velocities, explicit, dP)])\n",
    "    u_final, pressure_final = pressure.projection_and_update_pressure(pressure_field, u_star)\n",
    "    \n",
    "    \n",
    "    return u_final, pressure_final\n",
    "\n",
    "\n"
   ]
  },
  {
   "cell_type": "code",
   "execution_count": 83,
   "id": "b68af25c-250b-4a4c-9f8d-94afb92ea601",
   "metadata": {
    "tags": []
   },
   "outputs": [],
   "source": [
    "density = 1.0    # fluid density\n",
    "viscosity = 0.05 # fluid viscocity\n",
    "dt=5e-4          # time step \n",
    "num_boundaries = 4\n",
    "domain = ((0,15.),(0,15.0))\n",
    "grid = grids.Grid((2**4, 2**4), domain=domain, device_mesh = mesh2d, periods = (15,15))\n",
    "bc_fns = [lambda t: 0.0 for _ in range(4)]\n",
    "vx_bc=((0.0, 0.0), (0.0, 0.0))\n",
    "vy_bc=((0.0, 0.0), (0.0, 0.0))\n",
    "bc_fns = [lambda t: 0.0 for _ in range(4)]\n",
    "vx_bc=((0.0, 0.0), (0.0, 0.0))\n",
    "vy_bc=((0.0, 0.0), (0.0, 0.0))\n",
    "\n",
    "velocity_bc = (boundaries.new_periodic_boundary_conditions(ndim=2,bc_vals=vx_bc,bc_fn=bc_fns,time_stamp=0.0),\n",
    "               boundaries.new_periodic_boundary_conditions(ndim=2,bc_vals=vy_bc,bc_fn=bc_fns,time_stamp=0.0))\n",
    "#velocity_bc = (boundaries.dirichlet_boundary_conditions(ndim=2,bc_vals=vx_bc,bc_fn=bc_fns,time_stamp=0.0),\n",
    "#               boundaries.dirichlet_boundary_conditions(ndim=2,bc_vals=vy_bc,bc_fn=bc_fns,time_stamp=0.0))\n",
    "vx_fn = lambda x, y: jnp.zeros_like(x)\n",
    "vy_fn = lambda x, y: jnp.zeros_like(x)\n",
    "velocities = tuple(\n",
    "    [\n",
    "       grids.GridVariable\n",
    "        (\n",
    "           grid.eval_on_mesh(fn = lambda x, y: jnp.array(np.random.rand(*x.shape)), offset = offset), bc # initial values for fluid velocities are 0 both in x and y direction\n",
    "        ) \n",
    "        for offset, bc in zip(grid.cell_faces,velocity_bc)\n",
    "    ]\n",
    ")\n",
    "\n",
    "pressure0 = grids.GridVariable(\n",
    "           grid.eval_on_mesh(fn = lambda x, y: jnp.cos(x+y), offset = grid.cell_center),  boundaries.get_pressure_bc_from_velocity((vx_0, vy_0)) \n",
    "        ) \n",
    "\n",
    "\n",
    "\n",
    "\n",
    "#pressure0 = grids.GridVariable(\n",
    "#    grids.GridArray(jnp.zeros(grid.shape), grid.cell_center, grid), \n",
    "#    boundaries.get_pressure_bc_from_velocity((vx_0, vy_0)))"
   ]
  },
  {
   "cell_type": "code",
   "execution_count": 85,
   "id": "385f4f46-e995-45ed-90f5-c7cc17a84d88",
   "metadata": {
    "tags": []
   },
   "outputs": [],
   "source": [
    "u, p = test_pressure_update(pressure0, velocities, grid,\n",
    "                         density=1.0, viscosity=0.05, dt=1E-4 ,\n",
    "                         boundary_layer_widths = (1,1))"
   ]
  },
  {
   "cell_type": "code",
   "execution_count": 87,
   "id": "064a33a9-05b0-4f2c-8bde-4e77c7163ca6",
   "metadata": {
    "tags": []
   },
   "outputs": [
    {
     "data": {
      "text/plain": [
       "Array([[-0.74054109,  0.20489032,  0.87879732,  1.08639326, -0.07818208,\n",
       "        -0.86186839, -0.85491231, -0.2750247 ,  0.60939301,  0.93332833,\n",
       "         0.64602483, -0.01162885, -0.82184331, -0.70283427,  0.08938336,\n",
       "         0.75708717],\n",
       "       [ 0.56243519,  0.83213855,  0.99186956, -0.01774376, -0.75053305,\n",
       "        -1.17796782, -0.41112816,  0.52020589,  0.97902884,  0.43725417,\n",
       "        -0.31168795, -0.79486505, -0.68639633,  0.13004105,  0.78964228,\n",
       "         1.24209909],\n",
       "       [ 0.98507153,  0.89022619, -0.066042  , -0.75474861, -1.14157358,\n",
       "        -0.62399928,  0.51630796,  0.76310634,  0.43426317, -0.54247634,\n",
       "        -0.99741749, -0.62165812, -0.02178818,  0.70999423,  1.07511209,\n",
       "         0.42748241],\n",
       "       [ 0.97766601,  0.37558309, -0.75703768, -0.87941174, -0.29796556,\n",
       "         0.40434624,  0.73952893,  0.61133115, -0.12522859, -1.07059459,\n",
       "        -0.86020451, -0.17425495,  0.92294505,  1.27087006,  0.49474306,\n",
       "        -0.39515484],\n",
       "       [ 0.06333027, -0.81894039, -1.2345453 , -0.27214696,  0.42807706,\n",
       "         0.89488762,  0.48527189, -0.33852146, -1.0892601 , -1.03640099,\n",
       "         0.05345479,  0.90794694,  0.94158059,  0.68559295, -0.50853955,\n",
       "        -1.01946779],\n",
       "       [-0.92363152, -1.19304829, -0.2351977 ,  0.47305546,  0.89221092,\n",
       "         0.44104725, -0.35752255, -1.13073613, -1.15684429, -0.14702853,\n",
       "         0.48339907,  0.74200007,  0.34980569, -0.55845411, -1.11153351,\n",
       "        -0.57342003],\n",
       "       [-1.14610018, -0.66468697,  0.2434018 ,  0.83652259,  0.39288146,\n",
       "        -0.2176622 , -1.01057807, -0.80928121, -0.11302212,  0.82932228,\n",
       "         1.14813075,  0.30913597, -0.62125852, -1.31441642, -0.87552535,\n",
       "         0.03854361],\n",
       "       [-0.29558977,  0.3401142 ,  0.74895378,  0.60081988, -0.50754346,\n",
       "        -1.02849531, -0.99262288, -0.23178907,  0.51627016,  1.06755551,\n",
       "         0.46462756, -0.06844454, -1.02047079, -0.54159477,  0.08746849,\n",
       "         0.79035553],\n",
       "       [ 0.69020716,  1.21863133,  0.78053769, -0.21564652, -0.83157235,\n",
       "        -0.83142495, -0.11242595,  0.80005366,  0.77734417,  0.32994437,\n",
       "        -0.6542221 , -0.88554166, -0.73212714,  0.33067749,  1.04084957,\n",
       "         1.12802771],\n",
       "       [ 0.80936497,  0.65927889, -0.37586385, -1.20857005, -0.8912769 ,\n",
       "        -0.08563588,  0.97937005,  1.16254921,  0.43145559, -0.39660538,\n",
       "        -1.15068791, -0.63875923,  0.39875983,  1.0297269 ,  0.74861453,\n",
       "         0.12872895],\n",
       "       [ 0.61476698, -0.3930975 , -1.0796755 , -0.88020772, -0.0319861 ,\n",
       "         0.9880912 ,  1.35524335,  0.65070453, -0.36718733, -0.81491398,\n",
       "        -0.68804103,  0.09241932,  0.77268205,  0.79993232,  0.11032439,\n",
       "        -0.78556163],\n",
       "       [-0.50062976, -1.11765583, -0.78392688, -0.13166046,  0.8497302 ,\n",
       "         1.08111845,  0.52099367, -0.62348793, -1.05826688, -0.68644505,\n",
       "         0.36871633,  1.28080519,  0.88900426,  0.18562303, -0.67243244,\n",
       "        -1.17812072],\n",
       "       [-0.96813529, -0.8529905 , -0.05185598,  0.83960987,  0.89859713,\n",
       "         0.55160348, -0.20334822, -0.98982384, -0.49463325,  0.34354766,\n",
       "         1.14927258,  1.09858321,  0.38579241, -0.44358804, -0.9920238 ,\n",
       "        -0.61017636],\n",
       "       [-0.82426762,  0.08440292,  0.64379044,  1.07445391,  0.64611473,\n",
       "        -0.49933093, -1.02622289, -0.82537685, -0.15602874,  0.90276998,\n",
       "         1.02155553,  0.29467072, -0.41486297, -1.03941508, -0.41999333,\n",
       "         0.37343474],\n",
       "       [ 0.00744735,  0.60922623,  0.64955035,  0.11584909, -0.65308299,\n",
       "        -1.12750974, -0.76911864,  0.13716592,  0.73053419,  0.85313331,\n",
       "         0.39609038, -0.42864459, -0.93667873, -0.35333154,  0.39815344,\n",
       "         0.92420165],\n",
       "       [ 0.82814317,  0.84911449, -0.15148333, -0.68594312, -1.1842245 ,\n",
       "        -0.72373939,  0.24448589,  0.83168356,  0.54616344, -0.19482495,\n",
       "        -0.67591462, -0.83512578, -0.2130236 ,  0.3831822 ,  0.66681616,\n",
       "         0.51163852]], dtype=float64)"
      ]
     },
     "execution_count": 87,
     "metadata": {},
     "output_type": "execute_result"
    }
   ],
   "source": []
  },
  {
   "cell_type": "code",
   "execution_count": 219,
   "id": "88878e64-22b6-48d8-a565-a22130cd9597",
   "metadata": {
    "tags": []
   },
   "outputs": [
    {
     "data": {
      "text/plain": [
       "array([], dtype=float32)"
      ]
     },
     "execution_count": 219,
     "metadata": {},
     "output_type": "execute_result"
    }
   ],
   "source": [
    "diff = actual - expected\n",
    "diff[np.abs(diff) > 1E-5]"
   ]
  },
  {
   "cell_type": "code",
   "execution_count": 144,
   "id": "a383b1f3-1d4c-4145-8eee-7ed0b92cddea",
   "metadata": {
    "tags": []
   },
   "outputs": [
    {
     "ename": "TypeError",
     "evalue": "operand type(s) all returned NotImplemented from __array_ufunc__(<ufunc 'negative'>, '__call__', GridArray\n    Array([[4.83146987e-02, 5.68619417e-03, 5.94043550e-01, 1.72501675e-01,\n            1.81120144e-02, 6.90137576e-01, 5.34575367e-01, 4.58374898e-01,\n            4.51255478e-01, 3.07940928e-01, 8.48244503e-02, 7.56739542e-03,\n            1.97386423e-01, 3.61915920e-01, 3.16964126e-01, 8.51462253e-02],\n           [7.38032694e-02, 2.73469084e-03, 4.44933882e-01, 6.35282664e-01,\n            6.15241819e-01, 3.57538392e-01, 4.31770003e-01, 3.06845029e-01,\n            2.66871927e-01, 2.40697152e-01, 2.82195225e-01, 1.77109803e-01,\n            1.43458810e-01, 4.29640958e-01, 9.95722760e-02, 5.72938934e-02],\n           [1.49785596e-01, 6.67000347e-01, 1.81556919e-01, 2.22512646e-01,\n            5.24776782e-01, 8.13062442e-02, 3.68165208e-01, 7.52106561e-02,\n            5.51957241e-02, 1.58840111e-01, 5.16033864e-02, 3.74178377e-02,\n            4.29766268e-01, 8.04208870e-02, 4.53314255e-01, 5.01448723e-01],\n           [2.74793484e-01, 5.19358707e-01, 1.31827683e-01, 1.65014832e-01,\n            2.46407540e-01, 5.95086444e-01, 2.46590946e-01, 4.18894392e-01,\n            2.92609270e-04, 7.84604338e-01, 1.33369143e-01, 7.66736931e-02,\n            5.44794916e-01, 1.34782686e-01, 3.46581825e-02, 5.94504671e-03],\n           [1.00040935e-01, 2.26388753e-01, 5.69497414e-01, 4.25987996e-01,\n            3.37408343e-03, 6.20223511e-01, 7.19114620e-01, 1.37557258e-01,\n            1.26717244e-01, 7.16438142e-01, 1.06674046e-01, 8.28056061e-01,\n            6.03232988e-01, 6.12647537e-01, 3.22580124e-01, 2.54095994e-01],\n           [8.75142148e-03, 5.07879856e-01, 5.07795373e-01, 5.57393465e-02,\n            2.05793466e-02, 5.35899592e-01, 4.41860634e-01, 4.81209291e-01,\n            5.20595412e-01, 3.53738872e-01, 6.66274987e-03, 6.28361438e-01,\n            1.67892068e-01, 1.22558996e-01, 9.74871407e-02, 6.05339171e-01],\n           [1.90594172e-02, 3.74859075e-01, 2.64287459e-01, 2.03545739e-01,\n            9.50675833e-02, 5.32992935e-01, 6.07475121e-02, 5.31731711e-01,\n            1.01525246e-02, 1.16213428e-02, 6.05864705e-02, 2.45530648e-01,\n            2.27018881e-01, 1.72946865e-01, 1.97683611e-01, 5.01549254e-01],\n           [9.20863265e-04, 4.97212947e-01, 8.57062186e-01, 7.60192253e-02,\n            3.11334722e-02, 5.25750325e-01, 5.46849373e-01, 1.62752345e-02,\n            1.83239856e-02, 2.30949861e-01, 5.75906954e-01, 6.06268696e-01,\n            2.52773508e-01, 5.65376259e-01, 2.02085265e-01, 2.25376386e-02],\n           [3.45955264e-02, 6.00347628e-01, 5.53941258e-01, 1.34726431e-01,\n            1.68679138e-02, 2.01972866e-01, 3.86680737e-01, 2.29489093e-03,\n            9.50373924e-02, 2.62341138e-01, 5.26268698e-01, 3.44272211e-01,\n            1.63829798e-02, 2.33642005e-01, 1.51871726e-01, 1.69325848e-01],\n           [4.57751406e-01, 1.20284455e-01, 1.77882874e-01, 7.90349933e-02,\n            1.88526362e-02, 4.04565182e-01, 1.02420028e-01, 4.51942541e-02,\n            7.74336981e-02, 1.22245972e-01, 8.46426094e-03, 5.08267368e-01,\n            9.82476792e-02, 1.43776814e-01, 7.27603985e-01, 9.03321560e-02],\n           [1.75670791e-01, 8.08853241e-01, 1.32096486e-02, 2.53450140e-01,\n            1.38068970e-01, 1.45052975e-01, 1.25627557e-01, 4.87388631e-01,\n            4.79495178e-01, 1.73247812e-01, 1.14214332e-01, 5.83343758e-02,\n            3.96766944e-01, 5.71052669e-01, 4.26801592e-01, 3.88650913e-01],\n           [3.72996676e-01, 4.35998479e-01, 1.25971378e-01, 3.10928797e-01,\n            6.39949060e-01, 3.18623584e-01, 2.33181012e-01, 1.93233106e-01,\n            3.53063393e-02, 1.05749251e-01, 5.05002148e-01, 1.01926657e-01,\n            3.12910859e-01, 5.93354469e-01, 1.16640369e-01, 5.74125317e-01],\n           [5.69727892e-01, 1.02029049e-01, 2.72599626e-01, 1.79821250e-01,\n            1.87926442e-01, 3.58283030e-01, 7.78685061e-02, 1.44856743e-01,\n            3.77530665e-01, 2.26424146e-02, 2.03093917e-01, 6.67310176e-01,\n            1.12056725e-01, 6.55678413e-01, 1.23962268e-01, 8.39900781e-02],\n           [8.32283572e-01, 1.23217065e-02, 7.46773956e-02, 1.38369968e-02,\n            4.92754399e-01, 2.08990114e-01, 5.14351735e-01, 6.50460934e-01,\n            6.89318144e-01, 3.56976455e-01, 1.82514978e-01, 2.84614078e-01,\n            7.54793711e-01, 3.43132670e-01, 5.44110243e-01, 5.51261036e-01],\n           [6.90132111e-01, 6.31847817e-01, 2.12915544e-01, 3.98025259e-01,\n            1.03693683e-03, 8.50806261e-01, 4.15324047e-01, 6.51123558e-01,\n            3.13468422e-01, 2.10534579e-01, 8.47859509e-03, 1.29215094e-01,\n            4.24743303e-01, 2.38647239e-01, 1.95063637e-01, 7.86262963e-01],\n           [1.74026430e-01, 4.32964658e-01, 1.10698279e-01, 5.13309578e-01,\n            1.85224160e-02, 8.76208415e-01, 3.19528097e-02, 3.82251442e-01,\n            3.47053393e-01, 2.24613162e-02, 1.46338627e-02, 4.33532646e-01,\n            6.39943007e-01, 3.24026857e-01, 2.15698306e-01, 5.86353504e-01]],      dtype=float64)\n    Grid(shape=(16, 16), step=(Array(0.9375, dtype=float32), Array(0.9375, dtype=float32)), domain=((Array(0., dtype=float32), Array(15., dtype=float32)), (Array(0., dtype=float32), Array(15., dtype=float32))), periods=(15, 15), device_mesh=Mesh(device_ids=array([[0, 1],\n           [2, 3],\n           [4, 5],\n           [6, 7]]), axis_names=('i', 'j')))\n    offset: (0.5, 0.5)): 'GridArray'",
     "output_type": "error",
     "traceback": [
      "\u001b[0;31m---------------------------------------------------------------------------\u001b[0m",
      "\u001b[0;31mTypeError\u001b[0m                                 Traceback (most recent call last)",
      "Cell \u001b[0;32mIn[144], line 1\u001b[0m\n\u001b[0;32m----> 1\u001b[0m actual, expected \u001b[38;5;241m=\u001b[39m \u001b[43mtest_pressure_update\u001b[49m\u001b[43m(\u001b[49m\u001b[43mpressure0\u001b[49m\u001b[43m,\u001b[49m\u001b[43m \u001b[49m\u001b[43mvelocities\u001b[49m\u001b[43m,\u001b[49m\u001b[43m \u001b[49m\u001b[43mgrid\u001b[49m\u001b[43m,\u001b[49m\u001b[43m \u001b[49m\u001b[43mdensity\u001b[49m\u001b[38;5;241;43m=\u001b[39;49m\u001b[38;5;241;43m1.0\u001b[39;49m\u001b[43m,\u001b[49m\u001b[43m \u001b[49m\u001b[43mviscosity\u001b[49m\u001b[38;5;241;43m=\u001b[39;49m\u001b[38;5;241;43m0.05\u001b[39;49m\u001b[43m)\u001b[49m\n",
      "Cell \u001b[0;32mIn[140], line 404\u001b[0m, in \u001b[0;36mtest_pressure_update\u001b[0;34m(pressure_field, velocities, grid, density, viscosity, dt, boundary_layer_widths)\u001b[0m\n\u001b[1;32m    399\u001b[0m     \u001b[38;5;28;01mreturn\u001b[39;00m \u001b[38;5;28mtuple\u001b[39m(advection\u001b[38;5;241m.\u001b[39madvect_upwind(u, v, dt) \u001b[38;5;28;01mfor\u001b[39;00m u \u001b[38;5;129;01min\u001b[39;00m v) \n\u001b[1;32m    401\u001b[0m explicit_update \u001b[38;5;241m=\u001b[39m equations\u001b[38;5;241m.\u001b[39mnavier_stokes_explicit_terms(\n\u001b[1;32m    402\u001b[0m     density\u001b[38;5;241m=\u001b[39mdensity, viscosity\u001b[38;5;241m=\u001b[39mviscosity, dt\u001b[38;5;241m=\u001b[39mdt, grid\u001b[38;5;241m=\u001b[39mgrid, convect\u001b[38;5;241m=\u001b[39mconvect, diffuse\u001b[38;5;241m=\u001b[39mdiffusion\u001b[38;5;241m.\u001b[39mdiffuse, forcing\u001b[38;5;241m=\u001b[39m\u001b[38;5;28;01mNone\u001b[39;00m)\n\u001b[0;32m--> 404\u001b[0m explicit \u001b[38;5;241m=\u001b[39m \u001b[43mexplicit_update\u001b[49m\u001b[43m(\u001b[49m\u001b[43mvelocities\u001b[49m\u001b[43m)\u001b[49m\n\u001b[1;32m    405\u001b[0m dP \u001b[38;5;241m=\u001b[39m finite_differences\u001b[38;5;241m.\u001b[39mforward_difference(pressure_field)\n\u001b[1;32m    407\u001b[0m u_star \u001b[38;5;241m=\u001b[39m \u001b[38;5;28mtuple\u001b[39m([grids\u001b[38;5;241m.\u001b[39mGridVariable(v\u001b[38;5;241m.\u001b[39marray \u001b[38;5;241m+\u001b[39m dt \u001b[38;5;241m*\u001b[39m e\u001b[38;5;241m.\u001b[39marray \u001b[38;5;241m-\u001b[39m dp,bc \u001b[38;5;241m=\u001b[39m v\u001b[38;5;241m.\u001b[39mbc) \u001b[38;5;28;01mfor\u001b[39;00m v,e,dp \u001b[38;5;129;01min\u001b[39;00m \u001b[38;5;28mzip\u001b[39m(velocities, explicit, dP)])\n",
      "File \u001b[0;32m~/git_repos/jax_ib/jax_ib/base/equations.py:87\u001b[0m, in \u001b[0;36mnavier_stokes_explicit_terms.<locals>.explicit_terms_with_same_bcs\u001b[0;34m(v)\u001b[0m\n\u001b[1;32m     84\u001b[0m \u001b[38;5;28;01mdef\u001b[39;00m \u001b[38;5;21mexplicit_terms_with_same_bcs\u001b[39m(v:\u001b[38;5;28mtuple\u001b[39m[GridVariable]):\n\u001b[1;32m     85\u001b[0m \u001b[38;5;250m  \u001b[39m\u001b[38;5;124;03m\"\"\" v is the velocity field, i.e. x-, y- and z-components.\u001b[39;00m\n\u001b[1;32m     86\u001b[0m \u001b[38;5;124;03m  \"\"\"\u001b[39;00m\n\u001b[0;32m---> 87\u001b[0m   dv_dt \u001b[38;5;241m=\u001b[39m \u001b[43m_explicit_terms\u001b[49m\u001b[43m(\u001b[49m\u001b[43mv\u001b[49m\u001b[43m)\u001b[49m\n\u001b[1;32m     88\u001b[0m   \u001b[38;5;28;01mreturn\u001b[39;00m \u001b[38;5;28mtuple\u001b[39m(grids\u001b[38;5;241m.\u001b[39mGridVariable(a, u\u001b[38;5;241m.\u001b[39mbc) \u001b[38;5;28;01mfor\u001b[39;00m a, u \u001b[38;5;129;01min\u001b[39;00m \u001b[38;5;28mzip\u001b[39m(dv_dt, v))\n",
      "File \u001b[0;32m/scratch/micromamba/envs/jax-cfd-3.12/lib/python3.12/contextlib.py:81\u001b[0m, in \u001b[0;36mContextDecorator.__call__.<locals>.inner\u001b[0;34m(*args, **kwds)\u001b[0m\n\u001b[1;32m     78\u001b[0m \u001b[38;5;129m@wraps\u001b[39m(func)\n\u001b[1;32m     79\u001b[0m \u001b[38;5;28;01mdef\u001b[39;00m \u001b[38;5;21minner\u001b[39m(\u001b[38;5;241m*\u001b[39margs, \u001b[38;5;241m*\u001b[39m\u001b[38;5;241m*\u001b[39mkwds):\n\u001b[1;32m     80\u001b[0m     \u001b[38;5;28;01mwith\u001b[39;00m \u001b[38;5;28mself\u001b[39m\u001b[38;5;241m.\u001b[39m_recreate_cm():\n\u001b[0;32m---> 81\u001b[0m         \u001b[38;5;28;01mreturn\u001b[39;00m \u001b[43mfunc\u001b[49m\u001b[43m(\u001b[49m\u001b[38;5;241;43m*\u001b[39;49m\u001b[43margs\u001b[49m\u001b[43m,\u001b[49m\u001b[43m \u001b[49m\u001b[38;5;241;43m*\u001b[39;49m\u001b[38;5;241;43m*\u001b[39;49m\u001b[43mkwds\u001b[49m\u001b[43m)\u001b[49m\n",
      "File \u001b[0;32m~/git_repos/jax_ib/jax_ib/base/equations.py:76\u001b[0m, in \u001b[0;36mnavier_stokes_explicit_terms.<locals>._explicit_terms\u001b[0;34m(v)\u001b[0m\n\u001b[1;32m     72\u001b[0m \u001b[38;5;129m@functools\u001b[39m\u001b[38;5;241m.\u001b[39mpartial(jax\u001b[38;5;241m.\u001b[39mnamed_call, name\u001b[38;5;241m=\u001b[39m\u001b[38;5;124m'\u001b[39m\u001b[38;5;124mnavier_stokes_momentum\u001b[39m\u001b[38;5;124m'\u001b[39m)\n\u001b[1;32m     73\u001b[0m \u001b[38;5;28;01mdef\u001b[39;00m \u001b[38;5;21m_explicit_terms\u001b[39m(v:GridVariable):\n\u001b[1;32m     74\u001b[0m \u001b[38;5;250m  \u001b[39m\u001b[38;5;124;03m\"\"\" v is the velocity field, i.e. x-, y- and z-components.\u001b[39;00m\n\u001b[1;32m     75\u001b[0m \u001b[38;5;124;03m  \"\"\"\u001b[39;00m\n\u001b[0;32m---> 76\u001b[0m   dv_dt \u001b[38;5;241m=\u001b[39m \u001b[43mconvection\u001b[49m\u001b[43m(\u001b[49m\u001b[43mv\u001b[49m\u001b[43m)\u001b[49m\n\u001b[1;32m     77\u001b[0m   \u001b[38;5;28;01mif\u001b[39;00m viscosity \u001b[38;5;129;01mis\u001b[39;00m \u001b[38;5;129;01mnot\u001b[39;00m \u001b[38;5;28;01mNone\u001b[39;00m:\n\u001b[1;32m     78\u001b[0m     dv_dt \u001b[38;5;241m+\u001b[39m\u001b[38;5;241m=\u001b[39m diffusion_(v, viscosity \u001b[38;5;241m/\u001b[39m density)\n",
      "Cell \u001b[0;32mIn[140], line 399\u001b[0m, in \u001b[0;36mtest_pressure_update.<locals>.convect\u001b[0;34m(v)\u001b[0m\n\u001b[1;32m    398\u001b[0m \u001b[38;5;28;01mdef\u001b[39;00m \u001b[38;5;21mconvect\u001b[39m(v):\n\u001b[0;32m--> 399\u001b[0m     \u001b[38;5;28;01mreturn\u001b[39;00m \u001b[38;5;28;43mtuple\u001b[39;49m\u001b[43m(\u001b[49m\u001b[43madvection\u001b[49m\u001b[38;5;241;43m.\u001b[39;49m\u001b[43madvect_upwind\u001b[49m\u001b[43m(\u001b[49m\u001b[43mu\u001b[49m\u001b[43m,\u001b[49m\u001b[43m \u001b[49m\u001b[43mv\u001b[49m\u001b[43m,\u001b[49m\u001b[43m \u001b[49m\u001b[43mdt\u001b[49m\u001b[43m)\u001b[49m\u001b[43m \u001b[49m\u001b[38;5;28;43;01mfor\u001b[39;49;00m\u001b[43m \u001b[49m\u001b[43mu\u001b[49m\u001b[43m \u001b[49m\u001b[38;5;129;43;01min\u001b[39;49;00m\u001b[43m \u001b[49m\u001b[43mv\u001b[49m\u001b[43m)\u001b[49m\n",
      "Cell \u001b[0;32mIn[140], line 399\u001b[0m, in \u001b[0;36m<genexpr>\u001b[0;34m(.0)\u001b[0m\n\u001b[1;32m    398\u001b[0m \u001b[38;5;28;01mdef\u001b[39;00m \u001b[38;5;21mconvect\u001b[39m(v):\n\u001b[0;32m--> 399\u001b[0m     \u001b[38;5;28;01mreturn\u001b[39;00m \u001b[38;5;28mtuple\u001b[39m(\u001b[43madvection\u001b[49m\u001b[38;5;241;43m.\u001b[39;49m\u001b[43madvect_upwind\u001b[49m\u001b[43m(\u001b[49m\u001b[43mu\u001b[49m\u001b[43m,\u001b[49m\u001b[43m \u001b[49m\u001b[43mv\u001b[49m\u001b[43m,\u001b[49m\u001b[43m \u001b[49m\u001b[43mdt\u001b[49m\u001b[43m)\u001b[49m \u001b[38;5;28;01mfor\u001b[39;00m u \u001b[38;5;129;01min\u001b[39;00m v)\n",
      "File \u001b[0;32m~/git_repos/jax_ib/jax_ib/base/advection.py:129\u001b[0m, in \u001b[0;36madvect_upwind\u001b[0;34m(c, v, dt)\u001b[0m\n\u001b[1;32m    125\u001b[0m \u001b[38;5;28;01mdef\u001b[39;00m \u001b[38;5;21madvect_upwind\u001b[39m(c: GridVariable,\n\u001b[1;32m    126\u001b[0m                   v: GridVariableVector,\n\u001b[1;32m    127\u001b[0m                   dt: Optional[\u001b[38;5;28mfloat\u001b[39m] \u001b[38;5;241m=\u001b[39m \u001b[38;5;28;01mNone\u001b[39;00m) \u001b[38;5;241m-\u001b[39m\u001b[38;5;241m>\u001b[39m GridArray:\n\u001b[1;32m    128\u001b[0m \u001b[38;5;250m  \u001b[39m\u001b[38;5;124;03m\"\"\"Computes advection using first-order upwind interpolation on `c`.\"\"\"\u001b[39;00m\n\u001b[0;32m--> 129\u001b[0m   \u001b[38;5;28;01mreturn\u001b[39;00m \u001b[43madvect_general\u001b[49m\u001b[43m(\u001b[49m\u001b[43mc\u001b[49m\u001b[43m,\u001b[49m\u001b[43m \u001b[49m\u001b[43mv\u001b[49m\u001b[43m,\u001b[49m\n\u001b[1;32m    130\u001b[0m \u001b[43m                        \u001b[49m\u001b[43mu_interpolation_fn\u001b[49m\u001b[43m \u001b[49m\u001b[38;5;241;43m=\u001b[39;49m\u001b[43m \u001b[49m\u001b[43minterpolation\u001b[49m\u001b[38;5;241;43m.\u001b[39;49m\u001b[43mlinear\u001b[49m\u001b[43m,\u001b[49m\u001b[38;5;66;43;03m#interpolation.linear,\u001b[39;49;00m\n\u001b[1;32m    131\u001b[0m \u001b[43m                        \u001b[49m\u001b[43mc_interpolation_fn\u001b[49m\u001b[43m \u001b[49m\u001b[38;5;241;43m=\u001b[39;49m\u001b[43m \u001b[49m\u001b[43minterpolation\u001b[49m\u001b[38;5;241;43m.\u001b[39;49m\u001b[43mupwind\u001b[49m\u001b[43m,\u001b[49m\n\u001b[1;32m    132\u001b[0m \u001b[43m                        \u001b[49m\u001b[43mdt\u001b[49m\u001b[43m \u001b[49m\u001b[38;5;241;43m=\u001b[39;49m\u001b[43m \u001b[49m\u001b[43mdt\u001b[49m\u001b[43m)\u001b[49m\n",
      "File \u001b[0;32m~/git_repos/jax_ib/jax_ib/base/advection.py:112\u001b[0m, in \u001b[0;36madvect_general\u001b[0;34m(c, v, u_interpolation_fn, c_interpolation_fn, dt)\u001b[0m\n\u001b[1;32m    108\u001b[0m aligned_v \u001b[38;5;241m=\u001b[39m \u001b[38;5;28mtuple\u001b[39m(u_interpolation_fn(u, target_offset, v, dt)\n\u001b[1;32m    109\u001b[0m                   \u001b[38;5;28;01mfor\u001b[39;00m u, target_offset \u001b[38;5;129;01min\u001b[39;00m \u001b[38;5;28mzip\u001b[39m(v, target_offsets))\n\u001b[1;32m    110\u001b[0m aligned_c \u001b[38;5;241m=\u001b[39m \u001b[38;5;28mtuple\u001b[39m(c_interpolation_fn(c, target_offset, aligned_v, dt)\n\u001b[1;32m    111\u001b[0m                   \u001b[38;5;28;01mfor\u001b[39;00m target_offset \u001b[38;5;129;01min\u001b[39;00m target_offsets)\n\u001b[0;32m--> 112\u001b[0m \u001b[38;5;28;01mreturn\u001b[39;00m \u001b[43m_advect_aligned\u001b[49m\u001b[43m(\u001b[49m\u001b[43maligned_c\u001b[49m\u001b[43m,\u001b[49m\u001b[43m \u001b[49m\u001b[43maligned_v\u001b[49m\u001b[43m)\u001b[49m\n",
      "File \u001b[0;32m~/git_repos/jax_ib/jax_ib/base/advection.py:77\u001b[0m, in \u001b[0;36m_advect_aligned\u001b[0;34m(cs, v)\u001b[0m\n\u001b[1;32m     74\u001b[0m flux \u001b[38;5;241m=\u001b[39m \u001b[38;5;28mtuple\u001b[39m(grids\u001b[38;5;241m.\u001b[39mGridVariable(f, c\u001b[38;5;241m.\u001b[39mbc) \u001b[38;5;28;01mfor\u001b[39;00m f, c \u001b[38;5;129;01min\u001b[39;00m \u001b[38;5;28mzip\u001b[39m(flux, cs))\n\u001b[1;32m     75\u001b[0m \u001b[38;5;66;03m# compute \\nabla (c \\vec v) which is the same as (\\vec v \\nabla) c due to div \\vec v = 0.???\u001b[39;00m\n\u001b[1;32m     76\u001b[0m \u001b[38;5;66;03m# c and v here are interpolated to the same points on the grid\u001b[39;00m\n\u001b[0;32m---> 77\u001b[0m \u001b[38;5;28;01mreturn\u001b[39;00m \u001b[38;5;241m-\u001b[39m\u001b[43mfd\u001b[49m\u001b[38;5;241;43m.\u001b[39;49m\u001b[43mdivergence\u001b[49m\u001b[43m(\u001b[49m\u001b[43mflux\u001b[49m\u001b[43m)\u001b[49m\n",
      "File \u001b[0;32m~/git_repos/jax_ib/jax_ib/base/finite_differences.py:151\u001b[0m, in \u001b[0;36mdivergence\u001b[0;34m(v)\u001b[0m\n\u001b[1;32m    148\u001b[0m \u001b[38;5;28;01mif\u001b[39;00m \u001b[38;5;28mlen\u001b[39m(v) \u001b[38;5;241m!=\u001b[39m grid\u001b[38;5;241m.\u001b[39mndim:\n\u001b[1;32m    149\u001b[0m   \u001b[38;5;28;01mraise\u001b[39;00m \u001b[38;5;167;01mValueError\u001b[39;00m(\u001b[38;5;124m'\u001b[39m\u001b[38;5;124mThe length of `v` must be equal to `grid.ndim`.\u001b[39m\u001b[38;5;124m'\u001b[39m\n\u001b[1;32m    150\u001b[0m                    \u001b[38;5;124mf\u001b[39m\u001b[38;5;124m'\u001b[39m\u001b[38;5;124mExpected length \u001b[39m\u001b[38;5;132;01m{\u001b[39;00mgrid\u001b[38;5;241m.\u001b[39mndim\u001b[38;5;132;01m}\u001b[39;00m\u001b[38;5;124m; got \u001b[39m\u001b[38;5;132;01m{\u001b[39;00m\u001b[38;5;28mlen\u001b[39m(v)\u001b[38;5;132;01m}\u001b[39;00m\u001b[38;5;124m.\u001b[39m\u001b[38;5;124m'\u001b[39m)\n\u001b[0;32m--> 151\u001b[0m differences \u001b[38;5;241m=\u001b[39m [\u001b[43mbackward_difference\u001b[49m\u001b[43m(\u001b[49m\u001b[43mu\u001b[49m\u001b[43m,\u001b[49m\u001b[43m \u001b[49m\u001b[43maxis\u001b[49m\u001b[43m)\u001b[49m \u001b[38;5;28;01mfor\u001b[39;00m axis, u \u001b[38;5;129;01min\u001b[39;00m \u001b[38;5;28menumerate\u001b[39m(v)]\n\u001b[1;32m    152\u001b[0m \u001b[38;5;28;01mreturn\u001b[39;00m \u001b[38;5;28msum\u001b[39m(differences)\n",
      "File \u001b[0;32m~/git_repos/jax_ib/jax_ib/base/finite_differences.py:105\u001b[0m, in \u001b[0;36mbackward_difference\u001b[0;34m(u, axis)\u001b[0m\n\u001b[1;32m    103\u001b[0m \u001b[38;5;28;01mif\u001b[39;00m \u001b[38;5;129;01mnot\u001b[39;00m \u001b[38;5;28misinstance\u001b[39m(axis, \u001b[38;5;28mint\u001b[39m):\n\u001b[1;32m    104\u001b[0m   \u001b[38;5;28;01mreturn\u001b[39;00m \u001b[38;5;28mtuple\u001b[39m(backward_difference(u, a) \u001b[38;5;28;01mfor\u001b[39;00m a \u001b[38;5;129;01min\u001b[39;00m axis)\n\u001b[0;32m--> 105\u001b[0m diff \u001b[38;5;241m=\u001b[39m stencil_sum(u\u001b[38;5;241m.\u001b[39marray, \u001b[38;5;241;43m-\u001b[39;49m\u001b[43mu\u001b[49m\u001b[38;5;241;43m.\u001b[39;49m\u001b[43mshift\u001b[49m\u001b[43m(\u001b[49m\u001b[38;5;241;43m-\u001b[39;49m\u001b[38;5;241;43m1\u001b[39;49m\u001b[43m,\u001b[49m\u001b[43m \u001b[49m\u001b[43maxis\u001b[49m\u001b[43m)\u001b[49m)\n\u001b[1;32m    106\u001b[0m \u001b[38;5;28;01mreturn\u001b[39;00m diff \u001b[38;5;241m/\u001b[39m u\u001b[38;5;241m.\u001b[39mgrid\u001b[38;5;241m.\u001b[39mstep[axis]\n",
      "File \u001b[0;32m/scratch/micromamba/envs/jax-cfd-3.12/lib/python3.12/site-packages/numpy/lib/mixins.py:54\u001b[0m, in \u001b[0;36m_unary_method.<locals>.func\u001b[0;34m(self)\u001b[0m\n\u001b[1;32m     53\u001b[0m \u001b[38;5;28;01mdef\u001b[39;00m \u001b[38;5;21mfunc\u001b[39m(\u001b[38;5;28mself\u001b[39m):\n\u001b[0;32m---> 54\u001b[0m     \u001b[38;5;28;01mreturn\u001b[39;00m \u001b[43mufunc\u001b[49m\u001b[43m(\u001b[49m\u001b[38;5;28;43mself\u001b[39;49m\u001b[43m)\u001b[49m\n",
      "\u001b[0;31mTypeError\u001b[0m: operand type(s) all returned NotImplemented from __array_ufunc__(<ufunc 'negative'>, '__call__', GridArray\n    Array([[4.83146987e-02, 5.68619417e-03, 5.94043550e-01, 1.72501675e-01,\n            1.81120144e-02, 6.90137576e-01, 5.34575367e-01, 4.58374898e-01,\n            4.51255478e-01, 3.07940928e-01, 8.48244503e-02, 7.56739542e-03,\n            1.97386423e-01, 3.61915920e-01, 3.16964126e-01, 8.51462253e-02],\n           [7.38032694e-02, 2.73469084e-03, 4.44933882e-01, 6.35282664e-01,\n            6.15241819e-01, 3.57538392e-01, 4.31770003e-01, 3.06845029e-01,\n            2.66871927e-01, 2.40697152e-01, 2.82195225e-01, 1.77109803e-01,\n            1.43458810e-01, 4.29640958e-01, 9.95722760e-02, 5.72938934e-02],\n           [1.49785596e-01, 6.67000347e-01, 1.81556919e-01, 2.22512646e-01,\n            5.24776782e-01, 8.13062442e-02, 3.68165208e-01, 7.52106561e-02,\n            5.51957241e-02, 1.58840111e-01, 5.16033864e-02, 3.74178377e-02,\n            4.29766268e-01, 8.04208870e-02, 4.53314255e-01, 5.01448723e-01],\n           [2.74793484e-01, 5.19358707e-01, 1.31827683e-01, 1.65014832e-01,\n            2.46407540e-01, 5.95086444e-01, 2.46590946e-01, 4.18894392e-01,\n            2.92609270e-04, 7.84604338e-01, 1.33369143e-01, 7.66736931e-02,\n            5.44794916e-01, 1.34782686e-01, 3.46581825e-02, 5.94504671e-03],\n           [1.00040935e-01, 2.26388753e-01, 5.69497414e-01, 4.25987996e-01,\n            3.37408343e-03, 6.20223511e-01, 7.19114620e-01, 1.37557258e-01,\n            1.26717244e-01, 7.16438142e-01, 1.06674046e-01, 8.28056061e-01,\n            6.03232988e-01, 6.12647537e-01, 3.22580124e-01, 2.54095994e-01],\n           [8.75142148e-03, 5.07879856e-01, 5.07795373e-01, 5.57393465e-02,\n            2.05793466e-02, 5.35899592e-01, 4.41860634e-01, 4.81209291e-01,\n            5.20595412e-01, 3.53738872e-01, 6.66274987e-03, 6.28361438e-01,\n            1.67892068e-01, 1.22558996e-01, 9.74871407e-02, 6.05339171e-01],\n           [1.90594172e-02, 3.74859075e-01, 2.64287459e-01, 2.03545739e-01,\n            9.50675833e-02, 5.32992935e-01, 6.07475121e-02, 5.31731711e-01,\n            1.01525246e-02, 1.16213428e-02, 6.05864705e-02, 2.45530648e-01,\n            2.27018881e-01, 1.72946865e-01, 1.97683611e-01, 5.01549254e-01],\n           [9.20863265e-04, 4.97212947e-01, 8.57062186e-01, 7.60192253e-02,\n            3.11334722e-02, 5.25750325e-01, 5.46849373e-01, 1.62752345e-02,\n            1.83239856e-02, 2.30949861e-01, 5.75906954e-01, 6.06268696e-01,\n            2.52773508e-01, 5.65376259e-01, 2.02085265e-01, 2.25376386e-02],\n           [3.45955264e-02, 6.00347628e-01, 5.53941258e-01, 1.34726431e-01,\n            1.68679138e-02, 2.01972866e-01, 3.86680737e-01, 2.29489093e-03,\n            9.50373924e-02, 2.62341138e-01, 5.26268698e-01, 3.44272211e-01,\n            1.63829798e-02, 2.33642005e-01, 1.51871726e-01, 1.69325848e-01],\n           [4.57751406e-01, 1.20284455e-01, 1.77882874e-01, 7.90349933e-02,\n            1.88526362e-02, 4.04565182e-01, 1.02420028e-01, 4.51942541e-02,\n            7.74336981e-02, 1.22245972e-01, 8.46426094e-03, 5.08267368e-01,\n            9.82476792e-02, 1.43776814e-01, 7.27603985e-01, 9.03321560e-02],\n           [1.75670791e-01, 8.08853241e-01, 1.32096486e-02, 2.53450140e-01,\n            1.38068970e-01, 1.45052975e-01, 1.25627557e-01, 4.87388631e-01,\n            4.79495178e-01, 1.73247812e-01, 1.14214332e-01, 5.83343758e-02,\n            3.96766944e-01, 5.71052669e-01, 4.26801592e-01, 3.88650913e-01],\n           [3.72996676e-01, 4.35998479e-01, 1.25971378e-01, 3.10928797e-01,\n            6.39949060e-01, 3.18623584e-01, 2.33181012e-01, 1.93233106e-01,\n            3.53063393e-02, 1.05749251e-01, 5.05002148e-01, 1.01926657e-01,\n            3.12910859e-01, 5.93354469e-01, 1.16640369e-01, 5.74125317e-01],\n           [5.69727892e-01, 1.02029049e-01, 2.72599626e-01, 1.79821250e-01,\n            1.87926442e-01, 3.58283030e-01, 7.78685061e-02, 1.44856743e-01,\n            3.77530665e-01, 2.26424146e-02, 2.03093917e-01, 6.67310176e-01,\n            1.12056725e-01, 6.55678413e-01, 1.23962268e-01, 8.39900781e-02],\n           [8.32283572e-01, 1.23217065e-02, 7.46773956e-02, 1.38369968e-02,\n            4.92754399e-01, 2.08990114e-01, 5.14351735e-01, 6.50460934e-01,\n            6.89318144e-01, 3.56976455e-01, 1.82514978e-01, 2.84614078e-01,\n            7.54793711e-01, 3.43132670e-01, 5.44110243e-01, 5.51261036e-01],\n           [6.90132111e-01, 6.31847817e-01, 2.12915544e-01, 3.98025259e-01,\n            1.03693683e-03, 8.50806261e-01, 4.15324047e-01, 6.51123558e-01,\n            3.13468422e-01, 2.10534579e-01, 8.47859509e-03, 1.29215094e-01,\n            4.24743303e-01, 2.38647239e-01, 1.95063637e-01, 7.86262963e-01],\n           [1.74026430e-01, 4.32964658e-01, 1.10698279e-01, 5.13309578e-01,\n            1.85224160e-02, 8.76208415e-01, 3.19528097e-02, 3.82251442e-01,\n            3.47053393e-01, 2.24613162e-02, 1.46338627e-02, 4.33532646e-01,\n            6.39943007e-01, 3.24026857e-01, 2.15698306e-01, 5.86353504e-01]],      dtype=float64)\n    Grid(shape=(16, 16), step=(Array(0.9375, dtype=float32), Array(0.9375, dtype=float32)), domain=((Array(0., dtype=float32), Array(15., dtype=float32)), (Array(0., dtype=float32), Array(15., dtype=float32))), periods=(15, 15), device_mesh=Mesh(device_ids=array([[0, 1],\n           [2, 3],\n           [4, 5],\n           [6, 7]]), axis_names=('i', 'j')))\n    offset: (0.5, 0.5)): 'GridArray'"
     ]
    }
   ],
   "source": [
    "actual, expected = test_pressure_update(pressure0, velocities, grid, density=1.0, viscosity=0.05)"
   ]
  },
  {
   "cell_type": "code",
   "execution_count": 229,
   "id": "b655d47f-4993-4a3d-81df-9317d4770e33",
   "metadata": {
    "tags": []
   },
   "outputs": [],
   "source": [
    "laplacians = get_laplacians(grid)"
   ]
  },
  {
   "cell_type": "code",
   "execution_count": 1,
   "id": "dcd92b81-674f-4e50-8188-fbd6bb58cb96",
   "metadata": {
    "tags": []
   },
   "outputs": [
    {
     "ename": "NameError",
     "evalue": "name 'laplacians' is not defined",
     "output_type": "error",
     "traceback": [
      "\u001b[0;31m---------------------------------------------------------------------------\u001b[0m",
      "\u001b[0;31mNameError\u001b[0m                                 Traceback (most recent call last)",
      "Cell \u001b[0;32mIn[1], line 1\u001b[0m\n\u001b[0;32m----> 1\u001b[0m \u001b[43mlaplacians\u001b[49m[\u001b[38;5;241m0\u001b[39m]\n",
      "\u001b[0;31mNameError\u001b[0m: name 'laplacians' is not defined"
     ]
    }
   ],
   "source": [
    "laplacians[0]"
   ]
  },
  {
   "cell_type": "code",
   "execution_count": 231,
   "id": "d0589258-59b4-4942-aa32-1ed4d4bf8fb8",
   "metadata": {
    "tags": []
   },
   "outputs": [],
   "source": [
    "eigenvalues = ([np.fft.fft(op[:, 0]) for op in laplacians[:-1]]+ [np.fft.rfft(laplacians[-1][:, 0])]) "
   ]
  },
  {
   "cell_type": "code",
   "execution_count": 233,
   "id": "b6a459b5-450b-4b30-8493-347c64573e93",
   "metadata": {
    "tags": []
   },
   "outputs": [
    {
     "data": {
      "text/plain": [
       "(16384,)"
      ]
     },
     "execution_count": 233,
     "metadata": {},
     "output_type": "execute_result"
    }
   ],
   "source": [
    "eigenvalues[0].shape"
   ]
  },
  {
   "cell_type": "code",
   "execution_count": 101,
   "id": "c7062d2b-0cd0-415c-b298-2fc957d070a4",
   "metadata": {
    "tags": []
   },
   "outputs": [],
   "source": [
    "funs = [lambda t: ellipse_position(t), lambda t: ellipse_position(t+5)]\n",
    "actual, expected = test_immersed_boundary_force(velocities, funs, 1.0, dt)"
   ]
  },
  {
   "cell_type": "code",
   "execution_count": 102,
   "id": "1f6fb08a-cc9e-420a-b46f-a824309735ff",
   "metadata": {
    "tags": []
   },
   "outputs": [
    {
     "data": {
      "text/plain": [
       "array([ 1.5258789e-05,  3.0517578e-05,  6.1035156e-05,  6.1035156e-05,\n",
       "        1.5258789e-05,  1.5258789e-05,  6.1035156e-05, -1.2207031e-04,\n",
       "        2.4414062e-04, -6.1035156e-05, -6.1035156e-05,  1.2207031e-04,\n",
       "       -1.5258789e-05, -3.0517578e-05, -4.8828125e-04, -4.8828125e-04,\n",
       "        2.4414062e-04,  1.2207031e-04,  1.2207031e-04, -6.1035156e-05,\n",
       "       -4.8828125e-04, -4.8828125e-04], dtype=float32)"
      ]
     },
     "execution_count": 102,
     "metadata": {},
     "output_type": "execute_result"
    }
   ],
   "source": [
    "i = 0\n",
    "diff = (actual[i] - expected[i])\n",
    "diff[np.abs(diff) > 1E-5]"
   ]
  },
  {
   "cell_type": "code",
   "execution_count": 39,
   "id": "ea8f8c54-f5b0-4e96-b092-835a06a615c5",
   "metadata": {
    "tags": []
   },
   "outputs": [],
   "source": [
    "actual = convolve_distributed(velocities[0].data, grid, ellipse_position, 1.0, (1,1))"
   ]
  },
  {
   "cell_type": "code",
   "execution_count": 40,
   "id": "079cea5c-a25a-4cc3-a87d-667e3a1d6507",
   "metadata": {
    "tags": []
   },
   "outputs": [],
   "source": [
    "x,y = ellipse_position(1.0)\n",
    "expected = convolution_functions.convolve(velocities[0],x,y,convolution_functions.gaussian)"
   ]
  },
  {
   "cell_type": "code",
   "execution_count": 42,
   "id": "ee188578-39e0-4452-a2f1-647e65988117",
   "metadata": {
    "tags": []
   },
   "outputs": [],
   "source": [
    "actual, expected = test_convolve(velocities[0], ellipse_position, 1.0)"
   ]
  },
  {
   "cell_type": "code",
   "execution_count": 44,
   "id": "868ea6eb-3401-4a08-81c0-a1db5a137005",
   "metadata": {
    "tags": []
   },
   "outputs": [
    {
     "data": {
      "text/plain": [
       "1.1920929e-07"
      ]
     },
     "execution_count": 44,
     "metadata": {},
     "output_type": "execute_result"
    }
   ],
   "source": [
    "np.max(np.abs(actual - expected))"
   ]
  },
  {
   "cell_type": "code",
   "execution_count": 25,
   "id": "90713ad5-b264-4779-bcb1-c9c483fd4366",
   "metadata": {
    "tags": []
   },
   "outputs": [
    {
     "data": {
      "text/plain": [
       "Array([0.4511004 , 0.39347488, 0.38144523, 0.3768893 , 0.37576967,\n",
       "       0.3764605 , 0.37812588, 0.3802854 , 0.38264784, 0.3850315 ,\n",
       "       0.38732415, 0.38945672, 0.39138973, 0.3931032 , 0.39458996,\n",
       "       0.39585203, 0.39689654, 0.39773473, 0.39837956, 0.39884526,\n",
       "       0.39914626, 0.39929688, 0.39931104, 0.39920187, 0.3989816 ,\n",
       "       0.3986617 , 0.3982526 , 0.397764  , 0.3972044 , 0.39658195,\n",
       "       0.39590356, 0.3951753 , 0.39440325, 0.39359233, 0.39274696,\n",
       "       0.39187127, 0.39096892, 0.390043  , 0.3890963 , 0.38813183,\n",
       "       0.3871515 , 0.3861577 , 0.38515213, 0.3841369 , 0.38311332,\n",
       "       0.3820831 , 0.3810477 , 0.38000837, 0.3789668 , 0.37792355,\n",
       "       0.37688062, 0.3758388 , 0.37479895, 0.37376285, 0.37273094,\n",
       "       0.3717047 , 0.3706854 , 0.36967376, 0.36867034, 0.36767748,\n",
       "       0.366695  , 0.36572427, 0.36476618, 0.36382213, 0.3628929 ,\n",
       "       0.36197895, 0.36108157, 0.36020136, 0.35934004, 0.35849738,\n",
       "       0.35767454, 0.35687283, 0.35609266, 0.3553343 , 0.35459933,\n",
       "       0.35388768, 0.3532008 , 0.35253885, 0.35190243, 0.3512922 ,\n",
       "       0.35070896, 0.35015345, 0.34962544, 0.34912646, 0.34865573,\n",
       "       0.34821537, 0.34780452, 0.34742418, 0.3470744 , 0.34675634,\n",
       "       0.34646973, 0.34621522, 0.34599328, 0.34580415, 0.34564835,\n",
       "       0.3455259 , 0.34543747, 0.34538296, 0.34536317, 0.34537804,\n",
       "       0.34542766, 0.34551305, 0.3456337 , 0.3457899 , 0.3459824 ,\n",
       "       0.34621137, 0.34647658, 0.3467784 , 0.3471165 , 0.34749204,\n",
       "       0.34790415, 0.34835356, 0.34883982, 0.34936342, 0.3499241 ,\n",
       "       0.3505214 , 0.35115582, 0.3518268 , 0.35253444, 0.35327873,\n",
       "       0.35405838, 0.35487384, 0.3557241 , 0.3566092 , 0.35752803,\n",
       "       0.35847968, 0.35946402, 0.3604797 , 0.36152554, 0.36260036,\n",
       "       0.36370277, 0.36483133, 0.36598495, 0.36716092, 0.36835772,\n",
       "       0.3695733 , 0.370805  , 0.37205023, 0.37330604, 0.37456983,\n",
       "       0.37583742, 0.3771062 , 0.37837166, 0.37962955, 0.38087553,\n",
       "       0.3821047 , 0.38331223, 0.38449228, 0.38563898, 0.3867463 ,\n",
       "       0.38780773, 0.38881588, 0.38976383, 0.39064354, 0.3914472 ,\n",
       "       0.3921662 , 0.39279157, 0.39331418, 0.3937247 , 0.3940133 ,\n",
       "       0.3941698 , 0.394184  , 0.39404553, 0.3937441 , 0.3932686 ,\n",
       "       0.39260936, 0.3917555 , 0.39069754, 0.38942623, 0.38793212,\n",
       "       0.38620728, 0.38424492, 0.3820396 , 0.37958628, 0.37688312,\n",
       "       0.37393013, 0.3707282 , 0.3672834 , 0.3636042 , 0.35970175,\n",
       "       0.3555933 , 0.35129964, 0.3468476 , 0.3422695 , 0.33760473,\n",
       "       0.33290023, 0.3282101 , 0.32359958, 0.3191415 , 0.3149215 ,\n",
       "       0.31103596, 0.30759656, 0.3047308 , 0.3025867 , 0.3013397 ,\n",
       "       0.30120793, 0.3024889 , 0.30566794, 0.31188047, 0.3335623 ,\n",
       "       0.36663312, 0.38476777, 0.40012145, 0.4136232 , 0.4256023 ,\n",
       "       0.43624553, 0.44568646, 0.4540427 , 0.4614182 , 0.46791315,\n",
       "       0.47361892, 0.47862136, 0.48300087, 0.48682994, 0.49017683,\n",
       "       0.49310187, 0.49565998, 0.49790153, 0.49987042, 0.50160617,\n",
       "       0.5031441 , 0.5045142 , 0.5057445 , 0.5068575 , 0.50787467,\n",
       "       0.5088126 , 0.50968724, 0.51051056, 0.5112936 , 0.5120455 ,\n",
       "       0.5127739 , 0.51348424, 0.51418155, 0.51486987, 0.51555175,\n",
       "       0.5162292 , 0.51690406, 0.5175769 , 0.5182476 , 0.5189168 ,\n",
       "       0.51958364, 0.5202479 , 0.52090853, 0.5215644 , 0.52221453,\n",
       "       0.5228576 , 0.52349263, 0.52411795, 0.52473295, 0.52533567,\n",
       "       0.5259251 , 0.5265002 , 0.5270596 , 0.5276027 , 0.5281281 ,\n",
       "       0.528635  , 0.5291227 , 0.52959067, 0.53003764, 0.5304636 ,\n",
       "       0.5308678 , 0.53124994, 0.53160965, 0.5319464 , 0.53226054,\n",
       "       0.53255177, 0.53281975, 0.5330648 , 0.53328687, 0.5334863 ,\n",
       "       0.5336628 , 0.5338171 , 0.5339494 , 0.53405976, 0.5341487 ,\n",
       "       0.5342167 , 0.5342641 , 0.5342913 , 0.534299  , 0.53428763,\n",
       "       0.53425765, 0.53420967, 0.5341443 , 0.53406215, 0.5339639 ,\n",
       "       0.53384995, 0.5337213 , 0.53357834, 0.53342175, 0.5332524 ,\n",
       "       0.5330708 , 0.5328778 , 0.53267395, 0.53246033, 0.5322371 ,\n",
       "       0.5320054 , 0.531766  , 0.5315195 , 0.53126657, 0.5310082 ,\n",
       "       0.5307449 , 0.5304779 , 0.53020763, 0.52993506, 0.52966106,\n",
       "       0.5293862 , 0.52911174, 0.5288382 , 0.52856684, 0.52829814,\n",
       "       0.5280334 , 0.52777326, 0.52751905, 0.5272716 , 0.5270319 ,\n",
       "       0.5268011 , 0.5265802 , 0.52637035, 0.5261732 , 0.52598894,\n",
       "       0.5258199 , 0.5256666 , 0.52553076, 0.5254138 , 0.52531713,\n",
       "       0.5252421 , 0.5251907 , 0.5251642 , 0.5251642 , 0.5251928 ,\n",
       "       0.5252517 , 0.525343  , 0.5254685 , 0.52563024, 0.5258309 ,\n",
       "       0.52607214, 0.5263569 , 0.52668715, 0.527066  , 0.5274954 ,\n",
       "       0.5279789 , 0.5285191 , 0.52911884, 0.5297813 , 0.5305095 ,\n",
       "       0.5313075 , 0.5321779 , 0.5331243 , 0.53415066, 0.53526026,\n",
       "       0.53645724, 0.5377448 , 0.53912765, 0.54060835, 0.54219204,\n",
       "       0.5438812 , 0.5456805 , 0.5475934 , 0.54962313, 0.5517723 ,\n",
       "       0.55404514, 0.5564431 , 0.55896807, 0.56162316, 0.564408  ,\n",
       "       0.56732357, 0.5703689 , 0.5735414 , 0.5768396 , 0.5802588 ,\n",
       "       0.5837922 , 0.58743185, 0.5911684 , 0.5949881 , 0.59887487,\n",
       "       0.6028112 , 0.6067724 , 0.6107314 , 0.61465603, 0.6185071 ,\n",
       "       0.6222394 , 0.62579966, 0.6291259 , 0.6321449 , 0.6347717 ,\n",
       "       0.6369066 , 0.6384318 , 0.6392093 , 0.6390749 , 0.6378307 ,\n",
       "       0.6352378 , 0.63099873, 0.62473583, 0.6159506 , 0.6039476 ,\n",
       "       0.5876721 , 0.5652807 , 0.53252625], dtype=float32)"
      ]
     },
     "execution_count": 25,
     "metadata": {},
     "output_type": "execute_result"
    }
   ],
   "source": [
    "test_convolve(velocities[0],ellipse_position, 1.2)"
   ]
  },
  {
   "cell_type": "code",
   "execution_count": 90,
   "id": "6ab94ed8-0a47-479b-9cda-6d4aa59a8b12",
   "metadata": {
    "tags": []
   },
   "outputs": [],
   "source": [
    "particle_geometry_param = jnp.array([[0.1,0.5]])\n",
    "particle_center_position = jnp.array([[domain[0][1]*0.75,domain[1][1]*0.5]]) #could be an array for multiple objects\n",
    "\n",
    "displacement_param = jnp.array([[2.8,0.25]])\n",
    "rotation_param = jnp.array([jnp.pi/2])\n",
    "\n",
    "ellipse_position = fct.partial(ellipse_trajectory, *[particle_geometry_param[0],particle_center_position[0], rotation_param[0], \n",
    "                                                     displacement_param[0]])\n",
    "ellipse_position_2 = fct.partial(ellipse_trajectory, *[particle_geometry_param[0],particle_center_position[0], rotation_param[0], \n",
    "                                                     displacement_param[0]])\n",
    "grad_ellipse_position = jax.jacrev(ellipse_position)\n"
   ]
  },
  {
   "cell_type": "code",
   "execution_count": 61,
   "id": "62f5d03e-1be7-4572-9dc5-e8fdb39bd935",
   "metadata": {
    "tags": []
   },
   "outputs": [
    {
     "name": "stdout",
     "output_type": "stream",
     "text": [
      "[]\n"
     ]
    }
   ],
   "source": [
    "#print(actual[0][0]-expected[0][0])\n",
    "#print(actual[0][1]-expected[0][1])\n",
    "#print(actual[1][0]-expected[1][0])\n",
    "#print(actual[1][1]-expected[1][1])\n",
    "#print(actual[2][0]-expected[2][0])\n",
    "#print(actual[2][1]-expected[2][1])\n",
    "d = actual[3]-expected[3]\n",
    "print(d[np.abs(d)> 1E-5])\n",
    "#print(actual[3]-expected[3])"
   ]
  },
  {
   "cell_type": "code",
   "execution_count": 65,
   "id": "44edb5c3-a9eb-4d0e-9048-1710f7593551",
   "metadata": {
    "tags": []
   },
   "outputs": [
    {
     "name": "stdout",
     "output_type": "stream",
     "text": [
      "1.5 1.0 0.5\n",
      "1.0 0.5 0.5\n",
      "1.0 0.5 0.5\n",
      "1.5 1.0 0.5\n"
     ]
    }
   ],
   "source": [
    "actual, expected = test_upwind_interpolation_advect_general(velocities, 0, 1)\n",
    "#print(actual[0] - expected[0])\n",
    "#print(actual[1] - expected[1])\n",
    "actual, expected = test_upwind_interpolation_advect_general(velocities, 1, 1)\n",
    "#print(actual[0] - expected[0])\n",
    "#print(actual[1] - expected[1])"
   ]
  },
  {
   "cell_type": "code",
   "execution_count": 501,
   "id": "ba2e9071-5eaa-4493-97d5-ca77351d70bd",
   "metadata": {
    "tags": []
   },
   "outputs": [
    {
     "name": "stdout",
     "output_type": "stream",
     "text": [
      "[[0. 0. 0. 0. 0. 0. 0. 0.]\n",
      " [0. 0. 0. 0. 0. 0. 0. 0.]\n",
      " [0. 0. 0. 0. 0. 0. 0. 0.]\n",
      " [0. 0. 0. 0. 0. 0. 0. 0.]\n",
      " [0. 0. 0. 0. 0. 0. 0. 0.]\n",
      " [0. 0. 0. 0. 0. 0. 0. 0.]\n",
      " [0. 0. 0. 0. 0. 0. 0. 0.]\n",
      " [0. 0. 0. 0. 0. 0. 0. 0.]]\n",
      "[[0. 0. 0. 0. 0. 0. 0. 0.]\n",
      " [0. 0. 0. 0. 0. 0. 0. 0.]\n",
      " [0. 0. 0. 0. 0. 0. 0. 0.]\n",
      " [0. 0. 0. 0. 0. 0. 0. 0.]\n",
      " [0. 0. 0. 0. 0. 0. 0. 0.]\n",
      " [0. 0. 0. 0. 0. 0. 0. 0.]\n",
      " [0. 0. 0. 0. 0. 0. 0. 0.]\n",
      " [0. 0. 0. 0. 0. 0. 0. 0.]]\n",
      "[[0. 0. 0. 0. 0. 0. 0. 0.]\n",
      " [0. 0. 0. 0. 0. 0. 0. 0.]\n",
      " [0. 0. 0. 0. 0. 0. 0. 0.]\n",
      " [0. 0. 0. 0. 0. 0. 0. 0.]\n",
      " [0. 0. 0. 0. 0. 0. 0. 0.]\n",
      " [0. 0. 0. 0. 0. 0. 0. 0.]\n",
      " [0. 0. 0. 0. 0. 0. 0. 0.]\n",
      " [0. 0. 0. 0. 0. 0. 0. 0.]]\n",
      "[[0. 0. 0. 0. 0. 0. 0. 0.]\n",
      " [0. 0. 0. 0. 0. 0. 0. 0.]\n",
      " [0. 0. 0. 0. 0. 0. 0. 0.]\n",
      " [0. 0. 0. 0. 0. 0. 0. 0.]\n",
      " [0. 0. 0. 0. 0. 0. 0. 0.]\n",
      " [0. 0. 0. 0. 0. 0. 0. 0.]\n",
      " [0. 0. 0. 0. 0. 0. 0. 0.]\n",
      " [0. 0. 0. 0. 0. 0. 0. 0.]]\n"
     ]
    }
   ],
   "source": [
    "\n",
    "actual, expected = test_linear_interpolation_advect_general(velocities, 0, 1)\n",
    "print(actual[0] - expected[0])\n",
    "print(actual[1] - expected[1])\n",
    "\n",
    "\n",
    "actual, expected = test_linear_interpolation_advect_general(velocities, 1, 1)\n",
    "print(actual[0] - expected[0])\n",
    "print(actual[1] - expected[1])"
   ]
  },
  {
   "cell_type": "code",
   "execution_count": 66,
   "id": "70b42c76-7bba-4947-98bc-8a4b68f1fe8e",
   "metadata": {
    "tags": []
   },
   "outputs": [
    {
     "data": {
      "text/plain": [
       "array([[0., 0., 0., ..., 0., 0., 0.],\n",
       "       [0., 0., 0., ..., 0., 0., 0.],\n",
       "       [0., 0., 0., ..., 0., 0., 0.],\n",
       "       ...,\n",
       "       [0., 0., 0., ..., 0., 0., 0.],\n",
       "       [0., 0., 0., ..., 0., 0., 0.],\n",
       "       [0., 0., 0., ..., 0., 0., 0.]], dtype=float32)"
      ]
     },
     "execution_count": 66,
     "metadata": {},
     "output_type": "execute_result"
    }
   ],
   "source": [
    "actual, expected = test_upwind_interpolation(velocities, 0, 1)\n",
    "actual - expected"
   ]
  },
  {
   "cell_type": "code",
   "execution_count": 76,
   "id": "f0610d08-0b82-4fd5-be0d-570160bb0024",
   "metadata": {
    "tags": []
   },
   "outputs": [
    {
     "data": {
      "text/plain": [
       "array([[0., 0., 0., ..., 0., 0., 0.],\n",
       "       [0., 0., 0., ..., 0., 0., 0.],\n",
       "       [0., 0., 0., ..., 0., 0., 0.],\n",
       "       ...,\n",
       "       [0., 0., 0., ..., 0., 0., 0.],\n",
       "       [0., 0., 0., ..., 0., 0., 0.],\n",
       "       [0., 0., 0., ..., 0., 0., 0.]], dtype=float32)"
      ]
     },
     "execution_count": 76,
     "metadata": {},
     "output_type": "execute_result"
    }
   ],
   "source": [
    "actual, expected = test_linear_interpolation(velocities[1], 1, 1)\n",
    "actual - expected"
   ]
  },
  {
   "cell_type": "code",
   "execution_count": 103,
   "id": "beeebd92-b4ef-4c2d-8e7a-2b8b014591ca",
   "metadata": {
    "tags": []
   },
   "outputs": [],
   "source": [
    "actual, expected = test_explicit_update(velocities, width=1)"
   ]
  },
  {
   "cell_type": "code",
   "execution_count": 105,
   "id": "684ecd31-0ee1-472e-93c0-b2a4f50ddb11",
   "metadata": {
    "tags": []
   },
   "outputs": [
    {
     "name": "stdout",
     "output_type": "stream",
     "text": [
      "[]\n",
      "[]\n"
     ]
    }
   ],
   "source": [
    "d = actual[0] - expected[0]\n",
    "print(d[np.abs(d)>1E-12])\n",
    "d = actual[1] - expected[1]\n",
    "print(d[np.abs(d)>1E-12])"
   ]
  },
  {
   "cell_type": "code",
   "execution_count": 106,
   "id": "01161b11-04b0-4fd8-a1e8-d31610323314",
   "metadata": {
    "tags": []
   },
   "outputs": [
    {
     "data": {
      "text/plain": [
       "array([[ 1.7243664 , -2.140384  ,  0.61046124, ..., -1.9692805 ,\n",
       "         3.4748485 , -6.658816  ],\n",
       "       [ 2.6316204 ,  3.203412  , -4.051799  , ..., -2.2345474 ,\n",
       "         2.228261  , -0.9560063 ],\n",
       "       [ 4.0397253 , -4.3255763 ,  1.5879841 , ...,  3.48442   ,\n",
       "        -2.920891  , -0.24435163],\n",
       "       ...,\n",
       "       [ 0.12582135,  1.6080213 ,  3.0320716 , ..., -2.0473979 ,\n",
       "         2.7507167 ,  4.0610814 ],\n",
       "       [ 0.50989807,  4.642346  , -4.417715  , ..., -0.14244723,\n",
       "         2.3436012 ,  2.040715  ],\n",
       "       [-0.46184397,  0.90320694,  4.709519  , ...,  2.1598058 ,\n",
       "         3.1532092 , -5.9852343 ]], dtype=float32)"
      ]
     },
     "execution_count": 106,
     "metadata": {},
     "output_type": "execute_result"
    }
   ],
   "source": [
    "actual[0]"
   ]
  },
  {
   "cell_type": "code",
   "execution_count": 107,
   "id": "f27c062b-e5b2-4b5d-af94-8c9c9670164f",
   "metadata": {
    "tags": []
   },
   "outputs": [
    {
     "data": {
      "text/plain": [
       "array([[ 1.7243664 , -2.140384  ,  0.61046124, ..., -1.9692805 ,\n",
       "         3.4748485 , -6.658816  ],\n",
       "       [ 2.6316204 ,  3.203412  , -4.051799  , ..., -2.2345474 ,\n",
       "         2.228261  , -0.9560063 ],\n",
       "       [ 4.0397253 , -4.3255763 ,  1.5879841 , ...,  3.48442   ,\n",
       "        -2.920891  , -0.24435163],\n",
       "       ...,\n",
       "       [ 0.12582135,  1.6080213 ,  3.0320716 , ..., -2.0473979 ,\n",
       "         2.7507167 ,  4.0610814 ],\n",
       "       [ 0.50989807,  4.642346  , -4.417715  , ..., -0.14244723,\n",
       "         2.3436012 ,  2.040715  ],\n",
       "       [-0.46184397,  0.90320694,  4.709519  , ...,  2.1598058 ,\n",
       "         3.1532092 , -5.9852343 ]], dtype=float32)"
      ]
     },
     "execution_count": 107,
     "metadata": {},
     "output_type": "execute_result"
    }
   ],
   "source": [
    "expected[0]"
   ]
  },
  {
   "cell_type": "code",
   "execution_count": 86,
   "id": "27a8a6e4-ad72-4a05-825e-2f6142df1c28",
   "metadata": {
    "tags": []
   },
   "outputs": [],
   "source": [
    "actual, expected = test_advect(velocities, width=1)"
   ]
  },
  {
   "cell_type": "code",
   "execution_count": 104,
   "id": "5c4d43ad-2145-4021-8d97-ac8ec681c7a8",
   "metadata": {
    "tags": []
   },
   "outputs": [
    {
     "name": "stdout",
     "output_type": "stream",
     "text": [
      "[]\n",
      "[]\n"
     ]
    }
   ],
   "source": [
    "d = actual[0] - expected[0]\n",
    "print(d[np.abs(d)>1E-12])\n",
    "d = actual[1] - expected[1]\n",
    "print(d[np.abs(d)>1E-12])\n"
   ]
  },
  {
   "cell_type": "code",
   "execution_count": 291,
   "id": "7a720117-70e4-46d9-8669-39f800b469e8",
   "metadata": {
    "tags": []
   },
   "outputs": [],
   "source": [
    "actual, expected = test_laplacian(velocities[0], width=2)"
   ]
  },
  {
   "cell_type": "code",
   "execution_count": 444,
   "id": "3b531c38-b4ee-483c-aaa9-06801254efa1",
   "metadata": {
    "tags": []
   },
   "outputs": [
    {
     "data": {
      "text/plain": [
       "array([[ 0.        ,  0.        ,  0.        ,  0.        ,  0.        ,\n",
       "         0.        ,  0.        ,  0.        ],\n",
       "       [-0.0374192 ,  0.        ,  0.        ,  0.        , -0.07801083,\n",
       "         0.        ,  0.        ,  0.        ],\n",
       "       [ 0.        ,  0.        ,  0.        ,  0.        ,  0.        ,\n",
       "         0.        ,  0.        ,  0.        ],\n",
       "       [-0.06750248,  0.        ,  0.        ,  0.        , -0.06211048,\n",
       "         0.        ,  0.        ,  0.        ],\n",
       "       [ 0.        ,  0.        ,  0.        ,  0.        ,  0.        ,\n",
       "         0.        ,  0.        ,  0.        ],\n",
       "       [-0.12615989,  0.        ,  0.        ,  0.        , -0.00571871,\n",
       "         0.        ,  0.        ,  0.        ],\n",
       "       [ 0.        ,  0.        ,  0.        ,  0.        ,  0.        ,\n",
       "         0.        ,  0.        ,  0.        ],\n",
       "       [-0.0027498 ,  0.        ,  0.        ,  0.        , -0.03462957,\n",
       "         0.        ,  0.        ,  0.        ]], dtype=float32)"
      ]
     },
     "execution_count": 444,
     "metadata": {},
     "output_type": "execute_result"
    }
   ],
   "source": [
    "actual[0] - expected[0]"
   ]
  },
  {
   "cell_type": "code",
   "execution_count": 439,
   "id": "e1ab9b23-1e3f-4fb6-ab26-1266c9069530",
   "metadata": {
    "tags": []
   },
   "outputs": [
    {
     "data": {
      "text/plain": [
       "array([[-0.10098369,  0.0709489 ,  0.07283888,  0.09008419],\n",
       "       [ 0.06682117,  0.04956664,  0.13109587, -0.09710263],\n",
       "       [-0.18838133, -0.0715788 , -0.24093094, -0.02260225],\n",
       "       [ 0.01070895,  0.00833893, -0.12812269,  0.01507623]],\n",
       "      dtype=float32)"
      ]
     },
     "execution_count": 439,
     "metadata": {},
     "output_type": "execute_result"
    }
   ],
   "source": [
    "actual[0]"
   ]
  },
  {
   "cell_type": "code",
   "execution_count": 440,
   "id": "a86b44e4-2431-4e8a-8a14-550acbd993eb",
   "metadata": {
    "tags": []
   },
   "outputs": [
    {
     "data": {
      "text/plain": [
       "array([[-0.07206579,  0.0709489 ,  0.17336404,  0.09008419],\n",
       "       [ 0.11961065,  0.04956664,  0.14373924, -0.09710263],\n",
       "       [-0.13597713, -0.0715788 , -0.21333371, -0.02260225],\n",
       "       [ 0.0247744 ,  0.00833893, -0.08284292,  0.01507623]],\n",
       "      dtype=float32)"
      ]
     },
     "execution_count": 440,
     "metadata": {},
     "output_type": "execute_result"
    }
   ],
   "source": [
    "expected[0]"
   ]
  },
  {
   "cell_type": "code",
   "execution_count": 379,
   "id": "5ee1f128-dc54-4a56-8eb5-c7274707f5c7",
   "metadata": {
    "tags": []
   },
   "outputs": [
    {
     "data": {
      "text/plain": [
       "((1.5, 0.5), (1.0, 1.0))"
      ]
     },
     "execution_count": 379,
     "metadata": {},
     "output_type": "execute_result"
    }
   ],
   "source": [
    "grids.control_volume_offsets(ux)\n"
   ]
  },
  {
   "cell_type": "code",
   "execution_count": 389,
   "id": "ca6dad7b-6858-421a-ad28-87aac58c7631",
   "metadata": {
    "tags": []
   },
   "outputs": [
    {
     "data": {
      "text/plain": [
       "((1.0, 1.0), (0.5, 1.5))"
      ]
     },
     "execution_count": 389,
     "metadata": {},
     "output_type": "execute_result"
    }
   ],
   "source": [
    "grids.control_volume_offsets(uy)"
   ]
  },
  {
   "cell_type": "code",
   "execution_count": 294,
   "id": "2e46c699-c5f1-4c9d-aba6-d95d22828848",
   "metadata": {
    "tags": []
   },
   "outputs": [],
   "source": [
    "actual, expected = test_diffuse(velocities[0], width=1)"
   ]
  },
  {
   "cell_type": "code",
   "execution_count": 580,
   "id": "5c080c23-b233-465e-b072-6db24d6f6e0b",
   "metadata": {
    "tags": []
   },
   "outputs": [
    {
     "name": "stdout",
     "output_type": "stream",
     "text": [
      "step[0]=1.875\n",
      "step[1]=1.875\n",
      "step[0]=On cuda:0 at mesh coordinates (i, j,) = (0, 0):\n",
      "1.875\n",
      "\n",
      "On cuda:1 at mesh coordinates (i, j,) = (0, 1):\n",
      "1.875\n",
      "\n",
      "On cuda:2 at mesh coordinates (i, j,) = (1, 0):\n",
      "1.875\n",
      "\n",
      "On cuda:3 at mesh coordinates (i, j,) = (1, 1):\n",
      "1.875\n",
      "\n",
      "On cuda:4 at mesh coordinates (i, j,) = (2, 0):\n",
      "1.875\n",
      "\n",
      "On cuda:5 at mesh coordinates (i, j,) = (2, 1):\n",
      "1.875\n",
      "\n",
      "On cuda:6 at mesh coordinates (i, j,) = (3, 0):\n",
      "1.875\n",
      "\n",
      "On cuda:7 at mesh coordinates (i, j,) = (3, 1):\n",
      "1.875\n",
      "\n",
      "step[1]=On cuda:0 at mesh coordinates (i, j,) = (0, 0):\n",
      "1.875\n",
      "\n",
      "On cuda:1 at mesh coordinates (i, j,) = (0, 1):\n",
      "1.875\n",
      "\n",
      "On cuda:2 at mesh coordinates (i, j,) = (1, 0):\n",
      "1.875\n",
      "\n",
      "On cuda:3 at mesh coordinates (i, j,) = (1, 1):\n",
      "1.875\n",
      "\n",
      "On cuda:4 at mesh coordinates (i, j,) = (2, 0):\n",
      "1.875\n",
      "\n",
      "On cuda:5 at mesh coordinates (i, j,) = (2, 1):\n",
      "1.875\n",
      "\n",
      "On cuda:6 at mesh coordinates (i, j,) = (3, 0):\n",
      "1.875\n",
      "\n",
      "On cuda:7 at mesh coordinates (i, j,) = (3, 1):\n",
      "1.875\n",
      "\n"
     ]
    }
   ],
   "source": [
    "actual, expected = test_divergence(velocities, width=1)"
   ]
  },
  {
   "cell_type": "code",
   "execution_count": 582,
   "id": "6fed4274-2d06-4395-8da4-0259b601cfa1",
   "metadata": {
    "tags": []
   },
   "outputs": [
    {
     "data": {
      "text/plain": [
       "array([[0., 0., 0., 0., 0., 0., 0., 0.],\n",
       "       [0., 0., 0., 0., 0., 0., 0., 0.],\n",
       "       [0., 0., 0., 0., 0., 0., 0., 0.],\n",
       "       [0., 0., 0., 0., 0., 0., 0., 0.],\n",
       "       [0., 0., 0., 0., 0., 0., 0., 0.],\n",
       "       [0., 0., 0., 0., 0., 0., 0., 0.],\n",
       "       [0., 0., 0., 0., 0., 0., 0., 0.],\n",
       "       [0., 0., 0., 0., 0., 0., 0., 0.]], dtype=float32)"
      ]
     },
     "execution_count": 582,
     "metadata": {},
     "output_type": "execute_result"
    }
   ],
   "source": [
    "actual - expected"
   ]
  },
  {
   "cell_type": "code",
   "execution_count": 337,
   "id": "e10ee1d1-0868-43f1-9276-4c53bf69b0ca",
   "metadata": {
    "tags": []
   },
   "outputs": [
    {
     "name": "stdout",
     "output_type": "stream",
     "text": [
      "(4, 4)\n",
      "(4, 4)\n",
      "(4, 4)\n",
      "(5, 4)\n",
      "(4, 4)\n",
      "(4, 4)\n",
      "(4, 4)\n",
      "(5, 4)\n",
      "(4, 4)\n",
      "(4, 4)\n",
      "(4, 4)\n",
      "(5, 4)\n",
      "(4, 4)\n",
      "(4, 4)\n",
      "(4, 4)\n",
      "(4, 5)\n",
      "(4, 4)\n",
      "(5, 4)\n",
      "(4, 4)\n",
      "(4, 5)\n",
      "(4, 4)\n",
      "(4, 4)\n",
      "(4, 4)\n",
      "(4, 5)\n",
      "(4, 4)\n",
      "(4, 4)\n",
      "(4, 4)\n",
      "(4, 5)\n",
      "(4, 4)\n",
      "(4, 4)\n",
      "(4, 4)\n",
      "(5, 4)\n",
      "(4, 4)\n",
      "(4, 4)\n",
      "(4, 4)\n",
      "(4, 5)\n",
      "(4, 4)\n",
      "(5, 4)\n",
      "(4, 4)\n",
      "(4, 5)\n"
     ]
    }
   ],
   "source": [
    "\n",
    "num_boundaries = 4\n",
    "device_mesh = jax.make_mesh((4, 2), ('i', 'j'))\n",
    "grid = velocities[0].array.grid\n",
    "def convect(v):\n",
    "    return tuple(advection.advect_upwind(u, v, dt) for u in v)\n",
    "expected = convect(velocities)"
   ]
  },
  {
   "cell_type": "code",
   "execution_count": 355,
   "id": "09a68d59-b05d-4ec6-b70b-3e5742220545",
   "metadata": {
    "tags": []
   },
   "outputs": [],
   "source": [
    "ux = velocities[0]\n"
   ]
  },
  {
   "cell_type": "code",
   "execution_count": 364,
   "id": "6f832300-9fa9-481b-bf97-1c4b7918a7b7",
   "metadata": {
    "tags": []
   },
   "outputs": [
    {
     "data": {
      "text/plain": [
       "Array([[0.6343048 , 0.21202236, 0.01820799, 0.02658016],\n",
       "       [0.84408647, 0.4621698 , 0.8398589 , 0.4456364 ],\n",
       "       [0.46295077, 0.4161339 , 0.22779927, 0.6480557 ],\n",
       "       [0.7473288 , 0.08223828, 0.9907112 , 0.86760104]], dtype=float32)"
      ]
     },
     "execution_count": 364,
     "metadata": {},
     "output_type": "execute_result"
    }
   ],
   "source": [
    "ux.data"
   ]
  },
  {
   "cell_type": "code",
   "execution_count": 367,
   "id": "f18ee2a3-c385-4271-9f3c-1a1465eae9bb",
   "metadata": {
    "tags": []
   },
   "outputs": [
    {
     "name": "stdout",
     "output_type": "stream",
     "text": [
      "hello\n",
      "[(0.0, 0.0), (0.0, 0.0)]\n"
     ]
    }
   ],
   "source": [
    "shifted = ux.shift(1, 0)"
   ]
  },
  {
   "cell_type": "code",
   "execution_count": 363,
   "id": "a3723a24-5b72-47a4-b1fe-be491b7127eb",
   "metadata": {
    "tags": []
   },
   "outputs": [
    {
     "data": {
      "text/plain": [
       "Array([[ 0.84408647,  0.4621698 ,  0.8398589 ,  0.4456364 ],\n",
       "       [ 0.46295077,  0.4161339 ,  0.22779927,  0.6480557 ],\n",
       "       [ 0.7473288 ,  0.08223828,  0.9907112 ,  0.86760104],\n",
       "       [-0.46295077, -0.4161339 , -0.22779927, -0.6480557 ]],      dtype=float32)"
      ]
     },
     "execution_count": 363,
     "metadata": {},
     "output_type": "execute_result"
    }
   ],
   "source": [
    "shifted.data"
   ]
  },
  {
   "cell_type": "code",
   "execution_count": 44,
   "id": "dbbb9af7-5fac-454c-b4ad-3278ac828c08",
   "metadata": {
    "tags": []
   },
   "outputs": [],
   "source": [
    "ob = tree_math.Vector({'a':jnp.ones(2), 'b':jnp.ones(3)})\n",
    "def fun(a,b):\n",
    "    return a + b\n",
    "\n",
    "wrapped = tree_math.wrap(fun)"
   ]
  },
  {
   "cell_type": "code",
   "execution_count": 45,
   "id": "bf267d91-888a-48c4-a1ff-bb86afcfcdff",
   "metadata": {
    "tags": []
   },
   "outputs": [
    {
     "data": {
      "text/plain": [
       "tree_math.Vector({'a': Array([2., 2.], dtype=float32), 'b': Array([2., 2., 2.], dtype=float32)})"
      ]
     },
     "execution_count": 45,
     "metadata": {},
     "output_type": "execute_result"
    }
   ],
   "source": [
    "wrapped(ob,ob)"
   ]
  },
  {
   "cell_type": "code",
   "execution_count": 32,
   "id": "69b6d003-b30c-4ce3-b4c3-c931b0fe13f7",
   "metadata": {
    "tags": []
   },
   "outputs": [],
   "source": [
    "particle_geometry_param = jnp.array([[0.1,0.5]])\n",
    "particle_center_position = jnp.array([[domain[0][1]*0.75,domain[1][1]*0.5]]) #could be an array for multiple objects\n",
    "\n",
    "displacement_param = jnp.array([[2.8,0.25]])\n",
    "rotation_param = jnp.array([jnp.pi/2])\n",
    "\n",
    "ellipse_position = fct.partial(ellipse_trajectory, *[particle_geometry_param[0],particle_center_position[0], rotation_param[0], \n",
    "                                                     displacement_param[0]])\n",
    "grad_ellipse_position = jax.jacrev(ellipse_position)\n"
   ]
  },
  {
   "cell_type": "code",
   "execution_count": 33,
   "id": "7683b33d-05d8-4860-834d-b0f074e63509",
   "metadata": {
    "tags": []
   },
   "outputs": [
    {
     "data": {
      "text/plain": [
       "[<matplotlib.lines.Line2D at 0x7f72c829a510>]"
      ]
     },
     "execution_count": 33,
     "metadata": {},
     "output_type": "execute_result"
    },
    {
     "data": {
      "image/png": "[encoded data removed]",
      "text/plain": [
       "<Figure size 640x480 with 1 Axes>"
      ]
     },
     "metadata": {},
     "output_type": "display_data"
    }
   ],
   "source": [
    "plt.plot(*ellipse_position(0.0))"
   ]
  },
  {
   "cell_type": "code",
   "execution_count": 34,
   "id": "8778b65e-0fed-4c0d-96ce-864702f5a591",
   "metadata": {
    "tags": []
   },
   "outputs": [
    {
     "name": "stdout",
     "output_type": "stream",
     "text": [
      "FINAL RESULT:\n",
      " (Array([[[ 8.93298566e-01,  1.04038525e+00,  7.27573752e-01, ...,\n",
      "          2.35295906e+01, -7.98832245e+01,  4.87004028e+02],\n",
      "        [ 9.55249667e-01,  9.14731860e-01,  8.95353377e-01, ...,\n",
      "          1.60017967e+01, -4.98705444e+01,  3.45619019e+02],\n",
      "        [ 9.84106243e-01,  9.81900573e-01,  9.78557289e-01, ...,\n",
      "         -2.32512932e+01,  9.21276550e+01, -5.03654877e+02],\n",
      "        ...,\n",
      "        [ 1.05397427e+00,  1.09077013e+00,  1.09465814e+00, ...,\n",
      "         -2.87287636e+01,  1.15199898e+02, -5.50583374e+02],\n",
      "        [ 1.07513905e+00,  1.12125957e+00,  8.76307070e-01, ...,\n",
      "          5.48660583e+01, -1.85564102e+02,  7.98168762e+02],\n",
      "        [ 1.07958198e+00,  8.09481144e-01,  1.37129855e+00, ...,\n",
      "         -5.61509171e+01,  1.96776581e+02, -8.76538330e+02]],\n",
      "\n",
      "       [[ 9.26393151e-01,  8.58807027e-01,  1.03492928e+00, ...,\n",
      "         -4.17782173e+01,  1.49782578e+02, -7.51906616e+02],\n",
      "        [ 9.55249667e-01,  9.12670553e-01,  8.98482859e-01, ...,\n",
      "          1.36864367e+01, -4.04625168e+01,  2.91031769e+02],\n",
      "        [ 9.75737989e-01,  9.58743870e-01,  9.51484978e-01, ...,\n",
      "          3.69137049e+00, -8.39044762e+00,  7.19304352e+01],\n",
      "        ...,\n",
      "        [ 1.03415680e+00,  1.05911565e+00,  1.07667983e+00, ...,\n",
      "          2.43484612e+01, -9.97466202e+01,  5.40305054e+02],\n",
      "        [ 1.03473556e+00,  1.06025040e+00,  1.06384599e+00, ...,\n",
      "         -4.65956268e+01,  1.80713242e+02, -8.08321350e+02],\n",
      "        [ 1.01539493e+00,  1.02168524e+00,  8.00681472e-01, ...,\n",
      "          6.11582031e+01, -2.09166870e+02,  8.93860107e+02]],\n",
      "\n",
      "       [[ 9.51421022e-01,  9.22114849e-01,  9.04279351e-01, ...,\n",
      "          2.72773342e+01, -1.06895790e+02,  5.28166565e+02],\n",
      "        [ 9.63617980e-01,  9.33136523e-01,  9.24248099e-01, ...,\n",
      "         -1.06856565e+01,  4.91022568e+01, -2.24475586e+02],\n",
      "        [ 9.75737929e-01,  9.57700253e-01,  9.49548542e-01, ...,\n",
      "          3.04545164e+00, -5.49612236e+00,  5.87847366e+01],\n",
      "        ...,\n",
      "        [ 1.01958144e+00,  1.03468251e+00,  1.04460275e+00, ...,\n",
      "         -8.52329254e+00,  4.89491081e+01, -3.10202545e+02],\n",
      "        [ 1.01425171e+00,  1.02561390e+00,  1.02390218e+00, ...,\n",
      "          2.50429134e+01, -1.03170876e+02,  6.03906555e+02],\n",
      "        [ 9.97991264e-01,  9.88760829e-01,  9.81654406e-01, ...,\n",
      "         -3.23308487e+01,  1.36393860e+02, -6.82828796e+02]],\n",
      "\n",
      "       ...,\n",
      "\n",
      "       [[ 1.04312813e+00,  9.61686254e-01,  9.56563890e-01, ...,\n",
      "          3.81097069e+01, -1.39739517e+02,  6.94667603e+02],\n",
      "        [ 1.06583905e+00,  1.11125493e+00,  1.08124352e+00, ...,\n",
      "         -3.94318008e+01,  1.60095154e+02, -8.23529175e+02],\n",
      "        [ 1.06611598e+00,  1.11401522e+00,  1.15042949e+00, ...,\n",
      "          2.71532955e+01, -1.12015076e+02,  6.57469116e+02],\n",
      "        ...,\n",
      "        [ 9.58225191e-01,  9.34175789e-01,  9.23032463e-01, ...,\n",
      "          1.14060163e+00, -6.99164033e-01,  2.52201200e+00],\n",
      "        [ 9.28979337e-01,  8.72791111e-01,  8.94129932e-01, ...,\n",
      "          4.88133860e+00, -1.68062820e+01,  5.36930771e+01],\n",
      "        [ 8.89704227e-01,  8.96972299e-01,  8.55515540e-01, ...,\n",
      "         -1.76658382e+01,  7.24866180e+01, -3.39316620e+02]],\n",
      "\n",
      "       [[ 1.10855925e+00,  9.13014233e-01,  1.32561517e+00, ...,\n",
      "         -5.23254852e+01,  1.81579285e+02, -7.78265503e+02],\n",
      "        [ 1.11399603e+00,  1.18141234e+00,  8.93339455e-01, ...,\n",
      "          6.47929306e+01, -2.18276978e+02,  8.58655518e+02],\n",
      "        [ 1.09308541e+00,  1.15876734e+00,  1.19729924e+00, ...,\n",
      "         -4.63221436e+01,  1.80529404e+02, -8.16730652e+02],\n",
      "        ...,\n",
      "        [ 9.71708655e-01,  9.67601478e-01,  9.54380453e-01, ...,\n",
      "         -4.89413548e+00,  2.62377033e+01, -1.04897301e+02],\n",
      "        [ 9.32953119e-01,  8.85744691e-01,  9.16408360e-01, ...,\n",
      "          4.58137083e+00, -1.51506538e+01,  4.46310005e+01],\n",
      "        [ 8.59372735e-01,  9.23528135e-01,  7.52927125e-01, ...,\n",
      "          1.83082447e+01, -6.39336205e+01,  2.71910706e+02]],\n",
      "\n",
      "       [[ 7.53292203e-01,  1.09062469e+00,  5.62913835e-01, ...,\n",
      "          3.57915344e+01, -1.25001137e+02,  6.44214233e+02],\n",
      "        [ 1.18850005e+00,  9.73321080e-01,  1.49013495e+00, ...,\n",
      "         -5.66777954e+01,  2.04159485e+02, -1.00354492e+03],\n",
      "        [ 1.11833668e+00,  1.20056963e+00,  1.02311444e+00, ...,\n",
      "          4.99777794e+01, -1.77472565e+02,  8.34708740e+02],\n",
      "        ...,\n",
      "        [ 1.00417888e+00,  1.00472760e+00,  1.00424480e+00, ...,\n",
      "          2.13142414e+01, -7.74877090e+01,  4.14015228e+02],\n",
      "        [ 9.71752048e-01,  8.86886716e-01,  1.05657732e+00, ...,\n",
      "         -3.00639935e+01,  1.14584343e+02, -5.21635803e+02],\n",
      "        [ 8.63309979e-01,  9.40245271e-01,  7.76034713e-01, ...,\n",
      "          1.71826248e+01, -5.84588051e+01,  2.29160507e+02]]],      dtype=float32), Array([[[ 8.93427193e-01,  1.04821658e+00,  7.06219316e-01, ...,\n",
      "          2.63174591e+01, -9.19624405e+01,  5.72772705e+02],\n",
      "        [ 9.26521659e-01,  8.63527179e-01,  1.04986155e+00, ...,\n",
      "         -4.39366417e+01,  1.58543533e+02, -7.96727661e+02],\n",
      "        [ 9.51549590e-01,  9.24227178e-01,  9.13759291e-01, ...,\n",
      "          2.83105412e+01, -1.11880013e+02,  5.65206970e+02],\n",
      "        ...,\n",
      "        [ 1.01190650e+00,  9.11865234e-01,  8.75470579e-01, ...,\n",
      "          3.72326279e+01, -1.36749451e+02,  6.63980713e+02],\n",
      "        [ 1.06903160e+00,  8.55634928e-01,  1.22562361e+00, ...,\n",
      "         -5.12608566e+01,  1.75465591e+02, -7.52263489e+02],\n",
      "        [ 7.01669931e-01,  9.92720068e-01,  3.92394722e-01, ...,\n",
      "          3.37354088e+01, -1.16823059e+02,  5.98268188e+02]],\n",
      "\n",
      "       [[ 9.55378294e-01,  9.05057013e-01,  8.94132435e-01, ...,\n",
      "          1.31151276e+01, -3.84130440e+01,  2.72424805e+02],\n",
      "        [ 9.55378175e-01,  9.07118380e-01,  8.91002953e-01, ...,\n",
      "          1.54304886e+01, -4.78210678e+01,  3.27012085e+02],\n",
      "        [ 9.63746607e-01,  9.30275083e-01,  9.18075264e-01, ...,\n",
      "         -1.15121737e+01,  5.26970291e+01, -2.48573212e+02],\n",
      "        ...,\n",
      "        [ 1.03307116e+00,  1.06169939e+00,  1.02539456e+00, ...,\n",
      "         -3.86111870e+01,  1.55432846e+02, -7.89624268e+02],\n",
      "        [ 1.07347465e+00,  1.12270856e+00,  8.37855577e-01, ...,\n",
      "          6.28504906e+01, -2.10844482e+02,  8.16865845e+02],\n",
      "        [ 1.13766181e+00,  9.10504460e-01,  1.40847254e+00, ...,\n",
      "         -5.44586258e+01,  1.95098923e+02, -9.53532532e+02]],\n",
      "\n",
      "       [[ 9.84234810e-01,  9.73657608e-01,  9.64475453e-01, ...,\n",
      "         -2.16616535e+01,  8.53307190e+01, -4.61899567e+02],\n",
      "        [ 9.75866556e-01,  9.53191638e-01,  9.38710153e-01, ...,\n",
      "          2.71044064e+00, -4.23404598e+00,  5.36077080e+01],\n",
      "        [ 9.75866497e-01,  9.54235256e-01,  9.40646589e-01, ...,\n",
      "          3.35635900e+00, -7.12836885e+00,  6.67534180e+01],\n",
      "        ...,\n",
      "        [ 1.03364992e+00,  1.06283414e+00,  1.09210014e+00, ...,\n",
      "          2.64733086e+01, -1.09006203e+02,  6.29653503e+02],\n",
      "        [ 1.05413389e+00,  1.09747052e+00,  1.13204396e+00, ...,\n",
      "         -4.51652298e+01,  1.74877930e+02, -7.82574463e+02],\n",
      "        [ 1.07153749e+00,  1.13039494e+00,  9.51071084e-01, ...,\n",
      "          4.83238297e+01, -1.70682831e+02,  7.94114502e+02]],\n",
      "\n",
      "       ...,\n",
      "\n",
      "       [[ 1.07931697e+00,  1.13782918e+00,  1.14564049e+00, ...,\n",
      "         -2.94445248e+01,  1.18388466e+02, -5.73566650e+02],\n",
      "        [ 1.05359423e+00,  1.09825194e+00,  1.12168622e+00, ...,\n",
      "          2.48622818e+01, -1.02537888e+02,  5.61403320e+02],\n",
      "        [ 1.03374934e+00,  1.06577981e+00,  1.08239162e+00, ...,\n",
      "         -8.76273823e+00,  5.01354179e+01, -3.22940247e+02],\n",
      "        ...,\n",
      "        [ 9.17959809e-01,  8.16803873e-01,  7.19062150e-01, ...,\n",
      "          8.56932938e-01, -1.49123812e+00,  4.56410789e+00],\n",
      "        [ 9.24015939e-01,  8.26972008e-01,  7.10563958e-01, ...,\n",
      "         -5.52526999e+00,  2.68490734e+01, -1.10598953e+02],\n",
      "        [ 9.48224127e-01,  8.40163112e-01,  7.24546909e-01, ...,\n",
      "          2.12156639e+01, -8.00656509e+01,  4.31117676e+02]],\n",
      "\n",
      "       [[ 1.10202789e+00,  1.17117023e+00,  9.20659602e-01, ...,\n",
      "          5.63401566e+01, -1.92157715e+02,  8.36529297e+02],\n",
      "        [ 1.05387104e+00,  1.10101259e+00,  1.10856366e+00, ...,\n",
      "         -4.78845711e+01,  1.86214386e+02, -8.45655334e+02],\n",
      "        [ 1.02690160e+00,  1.05626059e+00,  1.06169403e+00, ...,\n",
      "          2.55908699e+01, -1.06330101e+02,  6.28544434e+02],\n",
      "        ...,\n",
      "        [ 8.88713956e-01,  7.55419195e-01,  6.92806780e-01, ...,\n",
      "          4.33838749e+00, -1.60915051e+01,  4.79604187e+01],\n",
      "        [ 8.84740829e-01,  7.42465615e-01,  6.70528531e-01, ...,\n",
      "          4.63835573e+00, -1.77471333e+01,  5.70225258e+01],\n",
      "        [ 9.15072620e-01,  7.15909362e-01,  7.73116708e-01, ...,\n",
      "         -3.13357239e+01,  1.18673088e+02, -5.54204773e+02]],\n",
      "\n",
      "       [[ 1.10746479e+00,  8.49144399e-01,  1.43154550e+00, ...,\n",
      "         -5.84903717e+01,  2.05651047e+02, -9.31273682e+02],\n",
      "        [ 1.03296041e+00,  1.05723572e+00,  8.34749937e-01, ...,\n",
      "          6.29803619e+01, -2.16785416e+02,  9.30926819e+02],\n",
      "        [ 1.00770926e+00,  1.01543343e+00,  1.00893474e+00, ...,\n",
      "         -3.33195496e+01,  1.41216537e+02, -7.20512573e+02],\n",
      "        ...,\n",
      "        [ 8.49958420e-01,  7.86794007e-01,  6.89071059e-01, ...,\n",
      "         -1.75101414e+01,  6.96996918e+01, -3.23772217e+02],\n",
      "        [ 8.11160386e-01,  7.85651803e-01,  5.48901439e-01, ...,\n",
      "          1.71352215e+01, -6.00352898e+01,  2.42494568e+02],\n",
      "        [ 8.07220936e-01,  7.68934369e-01,  5.25793672e-01, ...,\n",
      "          1.82608414e+01, -6.55100937e+01,  2.85244781e+02]]],      dtype=float32))\n"
     ]
    }
   ],
   "source": [
    "\n",
    "subgrid_laplacians = get_subgrid_laplacians(grid, boundary_layer_widths)\n",
    "y = evolve_navier_stokes(global_pressure.array.data, (vx_0.array.data, vy_0.array.data), \n",
    "                         grid,boundary_layer_widths, diagonals, 10, dt)\n",
    "print('FINAL RESULT:\\n', y)"
   ]
  },
  {
   "cell_type": "code",
   "execution_count": 35,
   "id": "ab12a8e5-298d-4b01-b493-a12fcbc0935c",
   "metadata": {},
   "outputs": [],
   "source": [
    "ux, uy = y"
   ]
  },
  {
   "cell_type": "code",
   "execution_count": 36,
   "id": "3c47862f-c81f-4a1d-b9ae-3ad9055ae5cd",
   "metadata": {
    "tags": []
   },
   "outputs": [],
   "source": [
    "ux, uy = np.array(y[0]), np.array(y[1])"
   ]
  },
  {
   "cell_type": "code",
   "execution_count": 37,
   "id": "1937781c-4b5d-4bc3-a01e-5ec05cb2eee6",
   "metadata": {
    "tags": []
   },
   "outputs": [
    {
     "data": {
      "image/png": "[encoded data removed]",
      "text/plain": [
       "<Figure size 1200x2600 with 10 Axes>"
      ]
     },
     "metadata": {},
     "output_type": "display_data"
    }
   ],
   "source": [
    "import matplotlib.pyplot as plt\n",
    "import seaborn\n",
    "import numpy as np\n",
    "\n",
    "X,Y = grid.mesh(grid.cell_center)\n",
    "\n",
    "\n",
    "def calc_vorticity(vx, vy):\n",
    "    vel_bc = (boundaries.new_periodic_boundary_conditions(ndim=2,bc_vals=vx_bc,bc_fn=bc_fns,time_stamp=0.0),\n",
    "              boundaries.new_periodic_boundary_conditions(ndim=2,bc_vals=vx_bc,bc_fn=bc_fns,time_stamp=0.0))\n",
    "\n",
    "\n",
    "    velocity = tuple([grids.GridVariable(grids.GridArray(u,offset, grid), bc) for u, offset, bc in zip((vx, vy), grid.cell_faces, vel_bc)])\n",
    "    return finite_differences.central_difference(velocity[1], axis=1).data - finite_differences.central_difference(velocity[0], axis=1).data\n",
    "\n",
    "\n",
    "\n",
    "fig,ax = plt.subplots(figsize=(12,26),nrows=ux.shape[2])\n",
    "\n",
    "t = np.arange(ux.shape[2])*dt\n",
    "counter=0\n",
    "for idx in range(ux.shape[2]):\n",
    "    ax[counter].contour(X, Y, calc_vorticity(ux[:,:,idx], uy[:,:,idx]), cmap=seaborn.color_palette(\"vlag\", as_cmap=True), levels=np.linspace(-10, 10, 10))\n",
    "    xp, yp = ellipse_position(t[idx])\n",
    "    ax[counter].set_xlim([7,13])\n",
    "    ax[counter].set_ylim([4,10])\n",
    "    ax[counter].plot(xp,yp,'k-',linewidth=2.0)\n",
    "    counter+=1"
   ]
  },
  {
   "cell_type": "code",
   "execution_count": null,
   "id": "8e945649-058c-49a8-aed7-d5f0903d1f23",
   "metadata": {},
   "outputs": [],
   "source": []
  }
 ],
 "metadata": {
  "accelerator": "GPU",
  "colab": {
   "gpuType": "T4",
   "include_colab_link": true,
   "provenance": []
  },
  "kernelspec": {
   "display_name": "jax-cfd-3.12",
   "language": "python",
   "name": "jax-cfd-3.12"
  },
  "language_info": {
   "codemirror_mode": {
    "name": "ipython",
    "version": 3
   },
   "file_extension": ".py",
   "mimetype": "text/x-python",
   "name": "python",
   "nbconvert_exporter": "python",
   "pygments_lexer": "ipython3",
   "version": "3.12.7"
  }
 },
 "nbformat": 4,
 "nbformat_minor": 5
}
