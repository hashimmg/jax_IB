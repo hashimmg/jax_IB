{
 "cells": [
  {
   "cell_type": "markdown",
   "id": "ba7ca905",
   "metadata": {
    "colab_type": "text",
    "id": "view-in-github"
   },
   "source": [
    "<a href=\"https://colab.research.google.com/github/hashimmg/jax_IB/blob/main/Flapping_Demo.ipynb\" target=\"_parent\"><img src=\"https://colab.research.google.com/assets/colab-badge.svg\" alt=\"Open In Colab\"/></a>"
   ]
  },
  {
   "cell_type": "code",
   "execution_count": 17,
   "id": "e30dec93-f590-4a9b-9e5a-aa667467eb73",
   "metadata": {
    "tags": []
   },
   "outputs": [],
   "source": [
    "%load_ext autoreload\n",
    "%autoreload 2"
   ]
  },
  {
   "cell_type": "code",
   "execution_count": 26,
   "id": "48f8bb7c-e30c-4cd0-855b-1dabd408a7b8",
   "metadata": {
    "id": "48f8bb7c-e30c-4cd0-855b-1dabd408a7b8",
    "tags": []
   },
   "outputs": [],
   "source": [
    "import numpy as np\n",
    "import tree_math as tm\n",
    "import jax\n",
    "import jax.numpy as jnp\n",
    "from jax_ib.base import particle_class as pc\n",
    "from jax_ib.base import grids, fast_diagonalization, boundaries, pressure, diffusion, advection, finite_differences, IBM_Force,convolution_functions,particle_motion, equations\n",
    "import jax_cfd.base as cfd\n",
    "import jax_ib.MD as MD\n",
    "from jax import random\n",
    "from jax_md import space, quantity\n",
    "import jax_ib\n",
    "import jax_ib.base as ib\n",
    "from jax_ib.base import kinematics as ks\n",
    "from jax.random import uniform as random_uniform\n",
    "import matplotlib.pyplot as plt\n",
    "import functools as fct\n",
    "import scipy \n",
    "import tree_math\n",
    "from jax_ib.base import array_utils"
   ]
  },
  {
   "cell_type": "code",
   "execution_count": 27,
   "id": "6cc35d82-3e62-4660-bfd7-7151fdcad55f",
   "metadata": {
    "tags": []
   },
   "outputs": [],
   "source": [
    "from functools import partial\n",
    "import jax\n",
    "import jax.numpy as jnp\n",
    "from jax.sharding import Mesh, PartitionSpec as P\n",
    "from jax.experimental.shard_map import shard_map\n",
    "import numpy as np"
   ]
  },
  {
   "cell_type": "code",
   "execution_count": 28,
   "id": "faba80d9-462d-4748-b6a1-48a4227dbc5d",
   "metadata": {
    "tags": []
   },
   "outputs": [],
   "source": [
    "mesh2d = jax.make_mesh((4, 2), ('i', 'j'))"
   ]
  },
  {
   "cell_type": "code",
   "execution_count": 29,
   "id": "e450215c-2d55-4f58-84c1-bdd1b493832f",
   "metadata": {
    "tags": []
   },
   "outputs": [],
   "source": [
    "density = 1.0    # fluid density\n",
    "viscosity = 0.05 # fluid viscocity\n",
    "dt=5e-4          # time step \n",
    "num_boundaries = 4\n",
    "grid = grids.Grid((128,128), domain=((0,15.),(0,15.0)), device_mesh = mesh2d, periods = (15,15))\n",
    "bc_fns = [lambda t: 0.0 for _ in range(4)]\n",
    "vx_bc=((0.0, 0.0), (0.0, 0.0))\n",
    "vy_bc=((0.0, 0.0), (0.0, 0.0))\n",
    "\n",
    "velocity_bc = (boundaries.new_periodic_boundary_conditions(ndim=2,bc_vals=vx_bc,bc_fn=bc_fns,time_stamp=0.0),\n",
    "               boundaries.new_periodic_boundary_conditions(ndim=2,bc_vals=vy_bc,bc_fn=bc_fns,time_stamp=0.0))\n",
    "\n",
    "vx_fn = lambda x, y: jnp.zeros_like(x)\n",
    "vy_fn = lambda x, y: jnp.zeros_like(x)\n",
    "vx_0, vy_0 = tuple(\n",
    "    [\n",
    "       grids.GridVariable\n",
    "        (\n",
    "           grid.eval_on_mesh(fn = lambda x, y: jnp.ones_like(x), offset = offset), bc # initial values for fluid velocities are 0 both in x and y direction\n",
    "        ) \n",
    "        for offset, bc in zip(grid.cell_faces,velocity_bc)\n",
    "    ]\n",
    ")\n",
    "v0 = (vx_0, vy_0)\n",
    "global_pressure = grids.GridVariable(\n",
    "    grids.GridArray(jnp.zeros(grid.shape), grid.cell_center, grid), \n",
    "    boundaries.get_pressure_bc_from_velocity((vx_0, vy_0)))\n",
    "\n",
    "\n",
    "\n",
    "\n",
    "subgrid=grid.subgrid((1,1),boundary_layer_widths=(1,1))"
   ]
  },
  {
   "cell_type": "code",
   "execution_count": 30,
   "id": "60d1ae88-3071-418c-96e6-860313021889",
   "metadata": {
    "tags": []
   },
   "outputs": [],
   "source": [
    "def add_halo_layer(array):\n",
    "    I, J = jax.lax.psum(1, 'i'), jax.lax.psum(1, 'j')\n",
    "    left_halo = jax.lax.ppermute(array[:,-1], 'j', [(j, (j + 1) % J) for j in range(J)])\n",
    "    right_halo = jax.lax.ppermute(array[:,0], 'j', [(j, (j - 1) % J) for j in range(J)])\n",
    "    upper_halo = jax.lax.ppermute(array[-1,:], 'i', [(i, (i + 1) % I) for i in range(I)])\n",
    "    lower_halo = jax.lax.ppermute(array[0,:], 'i', [(i, (i - 1) % I) for i in range(I)])\n",
    "    \n",
    "    upper_halo = jnp.append(0.0, jnp.append(upper_halo, 0.0))\n",
    "    lower_halo = jnp.append(0.0, jnp.append(lower_halo, 0.0))\n",
    "    \n",
    "    temp = jnp.concatenate([left_halo[:,None], array, right_halo[:,None]], axis=1)\n",
    "    return  jnp.concatenate([upper_halo[None, :], temp, lower_halo[None,:]], axis=0)\n",
    "\n",
    "def convect(v):\n",
    "    return tuple(advection.advect_upwind(u, v, dt) for u in v)\n",
    "\n",
    "\n",
    "# we assume all subgrids have identical shapes and steps\n",
    "def get_subgrid_laplacians(grid, boundary_layer_widths):\n",
    "    subgrid = grid.subgrid((1,1), boundary_layer_widths)\n",
    "    return tuple([jnp.array(a) for a in list(map(array_utils.laplacian_matrix,subgrid.shape, subgrid.step))])\n",
    "\n",
    "####################################################################\n",
    "# this requires more investigation to be sure it actually runs distributed and isnt' causing any\n",
    "# unwanted host-device comms\n",
    "boundary_layer_widths = (1,1)\n",
    "laplacians = get_subgrid_laplacians(grid, boundary_layer_widths)\n",
    "pinv = fast_diagonalization.pseudoinverse(\n",
    "    laplacians,global_pressure.array.data.dtype, \n",
    "    hermitian=True,circulant=True,implementation=None)\n",
    "pinv(np.ones(laplacians[1].shape[0]).astype(np.float32))\n",
    "####################################################################\n",
    "\n",
    "    \n",
    "@partial(shard_map, mesh=mesh2d, in_specs=(P('i','j'),(P('i','j'), P('i','j')), None,None,(None,None), None), out_specs=((P('i','j'),P('i','j')), P('i','j')))\n",
    "def evolve_navier_stokes(pressure_field, velocities, grid, boundary_layer_widths, laplacians, num_steps):\n",
    "    #create a subgrid for the current patch\n",
    "    i = jax.lax.axis_index('i')\n",
    "    j = jax.lax.axis_index('j')\n",
    "    subgrid = grid.subgrid((i,j), boundary_layer_widths=boundary_layer_widths)\n",
    "    \n",
    "    explicit_update = equations.navier_stokes_explicit_terms(\n",
    "        density=1.0, viscosity=1.0, dt=5E-4,grid=subgrid, convect=convect, diffuse=diffusion.diffuse, forcing=None)\n",
    "    \n",
    "    \n",
    " \n",
    "      \n",
    "    # hard coded boundary condition values in each direction\n",
    "    bc_fns = [lambda t: 0.0 for _ in range(4)]\n",
    "    ux_bc=((0.0, 0.0), (0.0, 0.0))\n",
    "    uy_bc=((0.0, 0.0), (0.0, 0.0))\n",
    "    pressure_bc = ((0.0, 0.0), (0.0, 0.0))\n",
    "    \n",
    "    pressure_bc = boundaries.new_periodic_boundary_conditions(ndim=2,bc_vals=pressure_bc,bc_fn=bc_fns,time_stamp=0.0)\n",
    "    ux_bc, uy_bc = (boundaries.new_periodic_boundary_conditions(ndim=2,bc_vals=ux_bc,bc_fn=bc_fns,time_stamp=0.0),\n",
    "                    boundaries.new_periodic_boundary_conditions(ndim=2,bc_vals=uy_bc,bc_fn=bc_fns,time_stamp=0.0))\n",
    "    \n",
    "    ux, uy = velocities\n",
    "    for step in range(num_steps):\n",
    "        local_pressure = add_halo_layer(pressure_field)\n",
    "        local_ux = add_halo_layer(ux)\n",
    "        local_uy = add_halo_layer(uy)\n",
    "        \n",
    "        #wrap into GridVariable to make jax_ib happy \n",
    "        local_pressure = grids.GridVariable(grids.GridArray(local_pressure, subgrid.cell_center, subgrid), pressure_bc)\n",
    "        local_ux = grids.GridVariable(grids.GridArray(local_ux, subgrid.cell_faces[0], subgrid), velocity_bc[0])\n",
    "        local_uy = grids.GridVariable(grids.GridArray(local_uy, subgrid.cell_faces[1], subgrid), velocity_bc[1])\n",
    "    \n",
    "        explicit = explicit_update((local_ux, local_uy))\n",
    "        dP = finite_differences.forward_difference(local_pressure)\n",
    "\n",
    "        local_u_star = tuple([u.array.data + dt * e.array.data - dp.data for u, e, dp in zip((local_ux, local_uy), explicit, dP)])\n",
    "        local_u_star = tuple([grids.GridVariable(grids.GridArray(u, os, subgrid), bc) for os, u, bc in zip(subgrid.cell_faces, local_u_star, velocity_bc)])\n",
    "   \n",
    "        local_u_final, new_local_pressure= pressure.projection_and_update_pressure(local_pressure, local_u_star, pinv)\n",
    "        ux = local_u_final[0].array.data[1:-1,1:-1]\n",
    "        uy = local_u_final[0].array.data[1:-1,1:-1]\n",
    "        pressure_field = new_local_pressure.array.data[1:-1,1:-1]\n",
    "        \n",
    "    return (ux, uy), pressure_field\n"
   ]
  },
  {
   "cell_type": "code",
   "execution_count": null,
   "id": "8778b65e-0fed-4c0d-96ce-864702f5a591",
   "metadata": {
    "tags": []
   },
   "outputs": [],
   "source": [
    "subgrid_laplacians = get_subgrid_laplacians(grid, boundary_layer_widths)\n",
    "y = evolve_navier_stokes(global_pressure.array.data, (vx_0.array.data, vy_0.array.data), grid,boundary_layer_widths, subgrid_laplacians, 4)\n",
    "print('FINAL RESULT:\\n', y)"
   ]
  },
  {
   "cell_type": "code",
   "execution_count": null,
   "id": "ab12a8e5-298d-4b01-b493-a12fcbc0935c",
   "metadata": {},
   "outputs": [],
   "source": []
  }
 ],
 "metadata": {
  "accelerator": "GPU",
  "colab": {
   "gpuType": "T4",
   "include_colab_link": true,
   "provenance": []
  },
  "kernelspec": {
   "display_name": "jax-cfd-3.12",
   "language": "python",
   "name": "jax-cfd-3.12"
  },
  "language_info": {
   "codemirror_mode": {
    "name": "ipython",
    "version": 3
   },
   "file_extension": ".py",
   "mimetype": "text/x-python",
   "name": "python",
   "nbconvert_exporter": "python",
   "pygments_lexer": "ipython3",
   "version": "3.12.7"
  }
 },
 "nbformat": 4,
 "nbformat_minor": 5
}
